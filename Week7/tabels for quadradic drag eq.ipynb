{
 "metadata": {
  "name": "tabels for quadradic drag eq"
 },
 "nbformat": 3,
 "nbformat_minor": 0,
 "worksheets": [
  {
   "cells": [
    {
     "cell_type": "markdown",
     "metadata": {},
     "source": [
      "Problem 2 a\n",
      "--"
     ]
    },
    {
     "cell_type": "markdown",
     "metadata": {},
     "source": [
      "<table>\n",
      "<thead>\n",
      "<tr>\n",
      "  <th>Human cannonball intial conditions to reach 80m</th>\n",
      "</tr>\n",
      "<tbody>\n",
      "<tr>\n",
      "  <td>angle (rad)</td>\n",
      "    <td>velocity(m/s)</td>\n",
      "</tr>\n",
      "<tr>\n",
      "  <td>.87266</td>\n",
      "  <td>30.9</td>\n",
      "    \n",
      "</tr>\n",
      "<tr>\n",
      "  <td>1.317</td>\n",
      "  <td>49.2</td>\n",
      "</tr>\n",
      "<tr>\n",
      "  <td>.62654</td>\n",
      "  <td>30.6</td>\n"
     ]
    },
    {
     "cell_type": "markdown",
     "metadata": {},
     "source": [
      "<table>\n",
      "<thead>\n",
      "<tr>\n",
      "  <th>Golfball intial conditions to reach 80m</th>\n",
      "</tr>\n",
      "<tbody>\n",
      "<tr>\n",
      "  <td>angle (rad)</td>\n",
      "    <td>velocity(m/s)</td>\n",
      "</tr>\n",
      "<tr>\n",
      "  <td>.87266</td>\n",
      "  <td>34.1</td>\n",
      "    \n",
      "</tr>\n",
      "<tr>\n",
      "  <td>1.047</td>\n",
      "  <td>33.8</td>\n",
      "</tr>\n",
      "<tr>\n",
      "  <td>1.367</td>\n",
      "  <td>79.3</td>"
     ]
    },
    {
     "cell_type": "markdown",
     "metadata": {},
     "source": [
      "<table>\n",
      "<thead>\n",
      "<tr>\n",
      "  <th>Baseball intial conditions to reach 80m</th>\n",
      "</tr>\n",
      "<tbody>\n",
      "<tr>\n",
      "  <td>angle (rad)</td>\n",
      "    <td>velocity(m/s)</td>\n",
      "</tr>\n",
      "<tr>\n",
      "  <td>1.3619</td>\n",
      "  <td>78</td>\n",
      "    \n",
      "</tr>\n",
      "<tr>\n",
      "  <td>.5412</td>\n",
      "  <td>34.5</td>\n",
      "</tr>\n",
      "<tr>\n",
      "  <td>.41475</td>\n",
      "  <td>38.1</td>"
     ]
    },
    {
     "cell_type": "markdown",
     "metadata": {},
     "source": [
      "Problem 2 b\n",
      "--"
     ]
    },
    {
     "cell_type": "markdown",
     "metadata": {},
     "source": [
      "<table>\n",
      "<thead>\n",
      "<tr>\n",
      "    <th>Cilvial war cannon at 449m/s intial velocity</th>\n",
      "</tr>\n",
      "<tbody>\n",
      "<tr>\n",
      "  <td>angle (degrees)</td>\n",
      "    <td>range(m)</td>\n",
      "</tr>\n",
      "<tr>\n",
      "  <td>5</td>\n",
      "  <td>1670</td>\n",
      "    \n",
      "</tr>\n",
      "<tr>\n",
      "  <td>10</td>\n",
      "  <td>2350</td>\n",
      "</tr>\n",
      "<tr>\n",
      "  <td>15</td>\n",
      "  <td>2725</td>"
     ]
    },
    {
     "cell_type": "markdown",
     "metadata": {},
     "source": [
      "Problem 2c\n",
      "---"
     ]
    },
    {
     "cell_type": "markdown",
     "metadata": {},
     "source": [
      "<table>\n",
      "<thead>\n",
      "<tr>\n",
      "    <th>Cilvial war cannon staying in range of 1000m</th>\n",
      "</tr>\n",
      "<tbody>\n",
      "<tr>\n",
      "  <td>angle (degrees)</td>\n",
      "    <td>intial velocity to keep in 1000m range(m/s)</td>\n",
      "</tr>\n",
      "<tr>\n",
      "  <td>5</td>\n",
      "  <td>300</td>\n",
      "    \n",
      "</tr>\n",
      "<tr>\n",
      "  <td>10</td>\n",
      "  <td>206</td>\n",
      "</tr>\n",
      "<tr>\n",
      "  <td>15</td>\n",
      "  <td>173</td>"
     ]
    },
    {
     "cell_type": "code",
     "collapsed": false,
     "input": [],
     "language": "python",
     "metadata": {},
     "outputs": []
    }
   ],
   "metadata": {}
  }
 ]
}