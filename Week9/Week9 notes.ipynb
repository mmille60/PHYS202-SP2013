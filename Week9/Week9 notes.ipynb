{
 "metadata": {
  "name": "Week9 notes"
 },
 "nbformat": 3,
 "nbformat_minor": 0,
 "worksheets": [
  {
   "cells": [
    {
     "cell_type": "code",
     "collapsed": false,
     "input": [
      "DataIn=loadtxt('input.dat')\n",
      "print DataIn.shape\n",
      "print DataIn"
     ],
     "language": "python",
     "metadata": {},
     "outputs": [
      {
       "output_type": "stream",
       "stream": "stdout",
       "text": [
        "(5, 3)\n",
        "[[ 0.   1.1  0.1]\n",
        " [ 2.   1.9  0.2]\n",
        " [ 4.   3.2  0.1]\n",
        " [ 6.   4.   0.3]\n",
        " [ 8.   5.9  0.3]]\n"
       ]
      }
     ],
     "prompt_number": 1
    },
    {
     "cell_type": "code",
     "collapsed": false,
     "input": [
      "print DataIn[:,2]"
     ],
     "language": "python",
     "metadata": {},
     "outputs": [
      {
       "output_type": "stream",
       "stream": "stdout",
       "text": [
        "[ 0.1  0.2  0.1  0.3  0.3]\n"
       ]
      }
     ],
     "prompt_number": 2
    },
    {
     "cell_type": "code",
     "collapsed": false,
     "input": [
      "x,y,yerr=loadtxt('input.dat',unpack=True)\n",
      "print x\n",
      "print y\n",
      "print yerr"
     ],
     "language": "python",
     "metadata": {},
     "outputs": [
      {
       "output_type": "stream",
       "stream": "stdout",
       "text": [
        "[ 0.  2.  4.  6.  8.]\n",
        "[ 1.1  1.9  3.2  4.   5.9]\n",
        "[ 0.1  0.2  0.1  0.3  0.3]\n"
       ]
      }
     ],
     "prompt_number": 3
    },
    {
     "cell_type": "code",
     "collapsed": false,
     "input": [
      "x,y= loadtxt('input.dat',unpack=True, usecols=[0,1])\n",
      "print x\n",
      "print y"
     ],
     "language": "python",
     "metadata": {},
     "outputs": [
      {
       "output_type": "stream",
       "stream": "stdout",
       "text": [
        "[ 0.  2.  4.  6.  8.]\n",
        "[ 1.1  1.9  3.2  4.   5.9]\n"
       ]
      }
     ],
     "prompt_number": 4
    },
    {
     "cell_type": "code",
     "collapsed": false,
     "input": [
      "x,y =loadtxt('input.cvs',unpack=True, delimiter=',', usecols=[0,1])\n",
      "print x,y"
     ],
     "language": "python",
     "metadata": {},
     "outputs": [
      {
       "output_type": "stream",
       "stream": "stdout",
       "text": [
        "[ 0.  2.  4.  6.  8.] [ 1.1  1.9  3.2  4.   5.9]\n"
       ]
      }
     ],
     "prompt_number": 5
    },
    {
     "cell_type": "code",
     "collapsed": false,
     "input": [
      "t=array([0.0, 0.1 ,0.2,0.3,0.4,0.5,0.6,0.7,0.8,0.9])\n",
      "v=array([0.137,0.456,0.591,0.713,0.859,0.926,1.139,1.327,1.512,1.875])\n",
      "p=.15+v/10.0\n",
      "print p"
     ],
     "language": "python",
     "metadata": {},
     "outputs": [
      {
       "output_type": "stream",
       "stream": "stdout",
       "text": [
        "[ 0.1637  0.1956  0.2091  0.2213  0.2359  0.2426  0.2639  0.2827  0.3012\n",
        "  0.3375]\n"
       ]
      }
     ],
     "prompt_number": 6
    },
    {
     "cell_type": "code",
     "collapsed": false,
     "input": [
      "savetxt('output.dat',(t,p))\n",
      "DataOut=column_stack((t,p))\n",
      "savetxt('output.dat', DataOut)#writes in scientific notation"
     ],
     "language": "python",
     "metadata": {},
     "outputs": [],
     "prompt_number": 7
    },
    {
     "cell_type": "code",
     "collapsed": false,
     "input": [
      "savetxt('output.dat', DataOut, fmt=('%3i', '%4.3f'))"
     ],
     "language": "python",
     "metadata": {},
     "outputs": [],
     "prompt_number": 8
    },
    {
     "cell_type": "code",
     "collapsed": false,
     "input": [
      "f=open(\"output.dat\",\"w\")\n",
      "f.write(\"#My comment line for this file, followed by a blank line, then the data\\n\\n\")\n",
      "savetxt(f, DataOut, fmt=('%3i','%4.3f'))\n",
      "f.close()"
     ],
     "language": "python",
     "metadata": {},
     "outputs": [],
     "prompt_number": 9
    },
    {
     "cell_type": "markdown",
     "metadata": {},
     "source": [
      "Exercise 1\n",
      "--"
     ]
    },
    {
     "cell_type": "code",
     "collapsed": false,
     "input": [
      "time=np.arange(1,11,1)\n",
      "position=array([7.75,7.33,6.89,6.45,5.96,5.55,5.10,4.49,3.93,3.58])\n",
      "Uncertainty=array([0.02,0.03,0.03,0.04,0.05,0.06,0.08,0.11,0.14,0.17])\n",
      "DataOut=column_stack((time,position,Uncertainty))\n",
      "f=open(\"linearData.dat\",\"w\")\n",
      "f.write(\"#Time(s) Position(m) Uncertainty of Position(m)\\n\")\n",
      "savetxt(f, DataOut, fmt=('%4.3f','%4.3f','%4.3f'),delimiter='\\t')\n",
      "f.close()"
     ],
     "language": "python",
     "metadata": {},
     "outputs": [],
     "prompt_number": 10
    },
    {
     "cell_type": "markdown",
     "metadata": {},
     "source": [
      "Exercise 2\n",
      "---"
     ]
    },
    {
     "cell_type": "markdown",
     "metadata": {},
     "source": [
      "Part a\n",
      "---"
     ]
    },
    {
     "cell_type": "code",
     "collapsed": false,
     "input": [
      "def LinearLeastSquaresFit(x,y):\n",
      "    \"\"\"takes in array repersenting (x,y) values for a set of linearly varying data and perform a linear least squares refression. Return the resulting slope and intercenpt parameters of the best fir line with their uncertainties\"\"\"\n",
      "    m1=(average(x*y)-average(x)*average(y))/(average(x**2)-(average(x))**2)\n",
      "    b=(average(x*x)*average(y)-average(x)*average(x*y))/(average(x**2)-(average(x))**2)\n",
      "    u=y-(m1*x+b)\n",
      "    n=len(x)\n",
      "    um=((1/(n-2.))*average(u**2)/(average(x**2)-(average(x))**2))**.5\n",
      "    ub=((1/(n-2.))*(average(u**2)*average(x**2))/(average(x**2)-(average(x))**2))**.5\n",
      "    return m1,b,um,ub\n",
      "    "
     ],
     "language": "python",
     "metadata": {},
     "outputs": [],
     "prompt_number": 11
    },
    {
     "cell_type": "markdown",
     "metadata": {},
     "source": [
      "Part b\n",
      "---"
     ]
    },
    {
     "cell_type": "code",
     "collapsed": false,
     "input": [
      "x,y= loadtxt('linearData.dat',unpack=True, usecols=[0,1])\n",
      "print x\n",
      "print y"
     ],
     "language": "python",
     "metadata": {},
     "outputs": [
      {
       "output_type": "stream",
       "stream": "stdout",
       "text": [
        "[  1.   2.   3.   4.   5.   6.   7.   8.   9.  10.]\n",
        "[ 7.75  7.33  6.89  6.45  5.96  5.55  5.1   4.49  3.93  3.58]\n"
       ]
      }
     ],
     "prompt_number": 12
    },
    {
     "cell_type": "code",
     "collapsed": false,
     "input": [
      "m1,b,um,ub=LinearLeastSquaresFit(x,y)\n",
      "print b"
     ],
     "language": "python",
     "metadata": {},
     "outputs": [
      {
       "output_type": "stream",
       "stream": "stdout",
       "text": [
        "8.296\n"
       ]
      }
     ],
     "prompt_number": 13
    },
    {
     "cell_type": "code",
     "collapsed": false,
     "input": [
      "print \"m=\"+str(LinearLeastSquaresFit(x,y)[0])+\"\u00b1\"+str(LinearLeastSquaresFit(x,y)[2])\n",
      "print \"b=\"+str(LinearLeastSquaresFit(x,y)[1])+\"\u00b1\"+str(LinearLeastSquaresFit(x,y)[3])\n",
      "print \"y=%.4fx + %.4f\"%(m1,b)"
     ],
     "language": "python",
     "metadata": {},
     "outputs": [
      {
       "output_type": "stream",
       "stream": "stdout",
       "text": [
        "m=-0.471454545455\u00b10.00799483304215\n",
        "b=8.296\u00b10.0496066344537\n",
        "y=-0.4715x + 8.2960\n"
       ]
      }
     ],
     "prompt_number": 15
    },
    {
     "cell_type": "markdown",
     "metadata": {},
     "source": [
      "part c\n",
      "---"
     ]
    },
    {
     "cell_type": "code",
     "collapsed": false,
     "input": [
      "plot(x,y,'r*',label=\"data\")\n",
      "yfitLSQ=m1*x+b\n",
      "plot(x,yfitLSQ,label=\"curve fit\")\n",
      "yplus=(m1+um)*x+(b+ub)\n",
      "yminus=(m1-um)*x+(b-ub)\n",
      "plot(x,yminus,'r--',label=\"curvefit plus deviation\")\n",
      "plot(x,yplus,'g--',label=\"curvefit minus deviation\")\n",
      "legend(loc=\"lower left\")\n",
      "xlabel('time(s)')\n",
      "ylabel('Position(m)')\n",
      "show()"
     ],
     "language": "python",
     "metadata": {},
     "outputs": [
      {
       "output_type": "display_data",
       "png": "[encoded data removed]"
      }
     ],
     "prompt_number": 17
    },
    {
     "cell_type": "code",
     "collapsed": false,
     "input": [],
     "language": "python",
     "metadata": {},
     "outputs": [],
     "prompt_number": 17
    },
    {
     "cell_type": "code",
     "collapsed": false,
     "input": [],
     "language": "python",
     "metadata": {},
     "outputs": [],
     "prompt_number": 17
    },
    {
     "cell_type": "code",
     "collapsed": false,
     "input": [],
     "language": "python",
     "metadata": {},
     "outputs": [],
     "prompt_number": 17
    },
    {
     "cell_type": "code",
     "collapsed": false,
     "input": [],
     "language": "python",
     "metadata": {},
     "outputs": [],
     "prompt_number": 17
    },
    {
     "cell_type": "code",
     "collapsed": false,
     "input": [],
     "language": "python",
     "metadata": {},
     "outputs": [],
     "prompt_number": 17
    },
    {
     "cell_type": "code",
     "collapsed": false,
     "input": [],
     "language": "python",
     "metadata": {},
     "outputs": [],
     "prompt_number": 17
    },
    {
     "cell_type": "markdown",
     "metadata": {},
     "source": [
      "Exercise 3\n",
      "-----"
     ]
    },
    {
     "cell_type": "code",
     "collapsed": false,
     "input": [
      "def LinearLeastSquaresFit(x,y):\n",
      "    \"\"\"takes in array repersenting (x,y) values for a set of linearly varying data and perform a linear least squares refression. Return the resulting slope and intercenpt parameters of the best fir line with their uncertainties\"\"\"\n",
      "    m1=(average(x*y)-average(x)*average(y))/(average(x**2)-(average(x))**2)\n",
      "    b=(average(x*x)*average(y)-average(x)*average(x*y))/(average(x**2)-(average(x))**2)\n",
      "    u=y-(m*x+b)\n",
      "    n=len(x)\n",
      "    um=((1/(n-2.))*average(u**2)/(average(x**2)-(average(x))**2))**.5\n",
      "    ub=((1/(n-2.))*(average(u**2)*average(x**2))/(average(x**2)-(average(x))**2))**.5\n",
      "    return m1,b,um,ub"
     ],
     "language": "python",
     "metadata": {},
     "outputs": [],
     "prompt_number": 18
    },
    {
     "cell_type": "markdown",
     "metadata": {},
     "source": [
      "Part a\n",
      "---"
     ]
    },
    {
     "cell_type": "code",
     "collapsed": false,
     "input": [
      "def WeightedLinearLeastSquaresFit(x,y,w):\n",
      "    \"\"\"takes in array repersenting (x,y) values for a set of linearly varying data and an array of weights w. Perform a weighted linear least squares refression. Return the resulting slope and intercenpt parameters of the best fit line with their uncertainties\"\"\"\n",
      "    m=((sum(w)*sum(w*x*y))-sum(w*x)*sum(w*y))/((sum(w)*sum(w*x*x))-(sum(w*x))**2)\n",
      "    b=((sum(w*x*x)*sum(w*y))-sum(x*w)*sum(w*x*y))/((sum(w)*sum(w*x*x))-(sum(w*x))**2)\n",
      "    if all(w==ones(len(w))):\n",
      "        u=y-(m*x+b)\n",
      "        n=len(x)\n",
      "        um=((1/(n-2.))*average(u**2)/(average(x**2)-(average(x))**2))**.5\n",
      "        ub=((1/(n-2.))*(average(u**2)*average(x**2))/(average(x**2)-(average(x))**2))**.5\n",
      "    else:\n",
      "        um=(sum(w)/((sum(w)*sum(w*x*x))-sum(w*x)**2))**.5\n",
      "        ub=(sum(w*x*x)/((sum(w)*sum(w*x*x))-sum(w*x)**2))**.5\n",
      "    return m,b,um,ub"
     ],
     "language": "python",
     "metadata": {},
     "outputs": [],
     "prompt_number": 19
    },
    {
     "cell_type": "markdown",
     "metadata": {},
     "source": [
      "Part b\n",
      "--"
     ]
    },
    {
     "cell_type": "code",
     "collapsed": false,
     "input": [
      "x,y,u = loadtxt('linearData.dat',unpack=True, usecols=[0,1,2])\n",
      "print x\n",
      "print y\n",
      "print u"
     ],
     "language": "python",
     "metadata": {},
     "outputs": [
      {
       "output_type": "stream",
       "stream": "stdout",
       "text": [
        "[  1.   2.   3.   4.   5.   6.   7.   8.   9.  10.]\n",
        "[ 7.75  7.33  6.89  6.45  5.96  5.55  5.1   4.49  3.93  3.58]\n",
        "[ 0.02  0.03  0.03  0.04  0.05  0.06  0.08  0.11  0.14  0.17]\n"
       ]
      }
     ],
     "prompt_number": 20
    },
    {
     "cell_type": "code",
     "collapsed": false,
     "input": [
      "w=1/(u**2)\n",
      "m,b,um,ub=WeightedLinearLeastSquaresFit(x,y,w)\n",
      "print m \n",
      "print b\n",
      "print um\n",
      "print ub\n",
      "\n",
      "print \"m=\"+str(WeightedLinearLeastSquaresFit(x,y,w)[0])+\"\u00b1\"+str(WeightedLinearLeastSquaresFit(x,y,w)[2])\n",
      "print \"b=\"+str(WeightedLinearLeastSquaresFit(x,y,w)[1])+\"\u00b1\"+str(WeightedLinearLeastSquaresFit(x,y,w)[3])\n",
      "print \"y=%.4fx + %.4f\"%(m,b)"
     ],
     "language": "python",
     "metadata": {},
     "outputs": [
      {
       "output_type": "stream",
       "stream": "stdout",
       "text": [
        "-0.451023983487\n",
        "8.2200718179\n",
        "0.00657587085879\n",
        "0.0214377652083\n",
        "m=-0.451023983487\u00b10.00657587085879\n",
        "b=8.2200718179\u00b10.0214377652083\n",
        "y=-0.4510x + 8.2201\n"
       ]
      }
     ],
     "prompt_number": 21
    },
    {
     "cell_type": "code",
     "collapsed": false,
     "input": [
      "\n",
      "errorbar(x,y,u,fmt='b.',label=\"data\")\n",
      "yfit=m*x+b\n",
      "plot(x,yfit,'r--',label=\"WSLQ\")\n",
      "plot(x,yfitLSQ,\"b--\",label=\"LSQ\")\n",
      "legend(loc=\"best\")\n",
      "xlabel('time(s)')\n",
      "ylabel('Position(m)')\n",
      "show()"
     ],
     "language": "python",
     "metadata": {},
     "outputs": [
      {
       "output_type": "display_data",
       "png": "[encoded data removed]"
      }
     ],
     "prompt_number": 22
    },
    {
     "cell_type": "code",
     "collapsed": false,
     "input": [],
     "language": "python",
     "metadata": {},
     "outputs": [],
     "prompt_number": 62
    },
    {
     "cell_type": "code",
     "collapsed": false,
     "input": [],
     "language": "python",
     "metadata": {},
     "outputs": [],
     "prompt_number": 79
    },
    {
     "cell_type": "code",
     "collapsed": false,
     "input": [],
     "language": "python",
     "metadata": {},
     "outputs": []
    }
   ],
   "metadata": {}
  }
 ]
}