{
 "metadata": {
  "name": "NumpyEx1"
 },
 "nbformat": 3,
 "nbformat_minor": 0,
 "worksheets": [
  {
   "cells": [
    {
     "cell_type": "markdown",
     "metadata": {},
     "source": [
      "PHYS 202 - Sp2013 - Klay 1\n",
      "=============\n",
      "NumPy Exercises 1\n",
      "----------\n",
      "10-Apr-2013\n",
      "Create a new notebook called \u201cNumpyEx1\u201d to complete the following exercises. Use a markdown cell to indicate the start of each new question or part of a question. Also include comments, explanations, and answers to any questions, using markdown cells. Be sure to save your work to github when you are done and/or leave for the day."
     ]
    },
    {
     "cell_type": "code",
     "collapsed": false,
     "input": [
      "import numpy as np"
     ],
     "language": "python",
     "metadata": {},
     "outputs": [],
     "prompt_number": 15
    },
    {
     "cell_type": "markdown",
     "metadata": {},
     "source": [
      "number 1 part a"
     ]
    },
    {
     "cell_type": "code",
     "collapsed": false,
     "input": [
      "number_1_part_a = np.ones((4,4),dtype=int)"
     ],
     "language": "python",
     "metadata": {},
     "outputs": [],
     "prompt_number": 16
    },
    {
     "cell_type": "code",
     "collapsed": false,
     "input": [
      "number_1_part_a[3,1] = 6"
     ],
     "language": "python",
     "metadata": {},
     "outputs": [],
     "prompt_number": 18
    },
    {
     "cell_type": "code",
     "collapsed": false,
     "input": [
      "number_1_part_a[2,3] = 2\n"
     ],
     "language": "python",
     "metadata": {},
     "outputs": [],
     "prompt_number": 19
    },
    {
     "cell_type": "code",
     "collapsed": false,
     "input": [
      "print number_1_part_a"
     ],
     "language": "python",
     "metadata": {},
     "outputs": [
      {
       "output_type": "stream",
       "stream": "stdout",
       "text": [
        "[[1 1 1 1]\n",
        " [1 1 1 1]\n",
        " [1 1 1 2]\n",
        " [1 6 1 1]]\n"
       ]
      }
     ],
     "prompt_number": 20
    },
    {
     "cell_type": "markdown",
     "metadata": {},
     "source": [
      "number 1 part b"
     ]
    },
    {
     "cell_type": "code",
     "collapsed": false,
     "input": [
      "number_1_part_b =np.diag(np.arange(1.,7.))"
     ],
     "language": "python",
     "metadata": {},
     "outputs": [],
     "prompt_number": 21
    },
    {
     "cell_type": "code",
     "collapsed": false,
     "input": [
      "print number_1_part_b"
     ],
     "language": "python",
     "metadata": {},
     "outputs": [
      {
       "output_type": "stream",
       "stream": "stdout",
       "text": [
        "[[ 1.  0.  0.  0.  0.  0.]\n",
        " [ 0.  2.  0.  0.  0.  0.]\n",
        " [ 0.  0.  3.  0.  0.  0.]\n",
        " [ 0.  0.  0.  4.  0.  0.]\n",
        " [ 0.  0.  0.  0.  5.  0.]\n",
        " [ 0.  0.  0.  0.  0.  6.]]\n"
       ]
      }
     ],
     "prompt_number": 22
    },
    {
     "cell_type": "code",
     "collapsed": false,
     "input": [
      "number_1_part_b= number_1_part_b[0:,1:]"
     ],
     "language": "python",
     "metadata": {},
     "outputs": [],
     "prompt_number": 23
    },
    {
     "cell_type": "code",
     "collapsed": false,
     "input": [
      "print number_1_part_b"
     ],
     "language": "python",
     "metadata": {},
     "outputs": [
      {
       "output_type": "stream",
       "stream": "stdout",
       "text": [
        "[[ 0.  0.  0.  0.  0.]\n",
        " [ 2.  0.  0.  0.  0.]\n",
        " [ 0.  3.  0.  0.  0.]\n",
        " [ 0.  0.  4.  0.  0.]\n",
        " [ 0.  0.  0.  5.  0.]\n",
        " [ 0.  0.  0.  0.  6.]]\n"
       ]
      }
     ],
     "prompt_number": 24
    },
    {
     "cell_type": "markdown",
     "metadata": {},
     "source": [
      "2. Read the documentation for np.tile and use this function to construct the following array:\n",
      "------\n",
      "[[4, 3, 4, 3, 4, 3],\n",
      "\n",
      " [2, 1, 2, 1, 2, 1],\n",
      "\n",
      " [4, 3, 4, 3, 4, 3],\n",
      "\n",
      " [2, 1, 2, 1, 2, 1]]"
     ]
    },
    {
     "cell_type": "code",
     "collapsed": false,
     "input": [
      "start = np.array([[4,3],[2,1]])"
     ],
     "language": "python",
     "metadata": {},
     "outputs": [],
     "prompt_number": 25
    },
    {
     "cell_type": "code",
     "collapsed": false,
     "input": [
      "print np.tile(start,(2,3))"
     ],
     "language": "python",
     "metadata": {},
     "outputs": [
      {
       "output_type": "stream",
       "stream": "stdout",
       "text": [
        "[[4 3 4 3 4 3]\n",
        " [2 1 2 1 2 1]\n",
        " [4 3 4 3 4 3]\n",
        " [2 1 2 1 2 1]]\n"
       ]
      }
     ],
     "prompt_number": 26
    },
    {
     "cell_type": "markdown",
     "metadata": {},
     "source": [
      "3. Let\u2019s create a prime number sieve. We will use the sieve to see what numbers between\n",
      "------\n",
      "0 and 100 are prime.\n",
      "-----"
     ]
    },
    {
     "cell_type": "markdown",
     "metadata": {},
     "source": [
      "(a) First, construct an array of booleans called is prime with shape (100,), filled with\n",
      "True in all the elements."
     ]
    },
    {
     "cell_type": "code",
     "collapsed": false,
     "input": [
      "is_prime=np.ones((100,),dtype=bool)"
     ],
     "language": "python",
     "metadata": {},
     "outputs": [],
     "prompt_number": 27
    },
    {
     "cell_type": "code",
     "collapsed": false,
     "input": [
      "print is_prime"
     ],
     "language": "python",
     "metadata": {},
     "outputs": [
      {
       "output_type": "stream",
       "stream": "stdout",
       "text": [
        "[ True  True  True  True  True  True  True  True  True  True  True  True\n",
        "  True  True  True  True  True  True  True  True  True  True  True  True\n",
        "  True  True  True  True  True  True  True  True  True  True  True  True\n",
        "  True  True  True  True  True  True  True  True  True  True  True  True\n",
        "  True  True  True  True  True  True  True  True  True  True  True  True\n",
        "  True  True  True  True  True  True  True  True  True  True  True  True\n",
        "  True  True  True  True  True  True  True  True  True  True  True  True\n",
        "  True  True  True  True  True  True  True  True  True  True  True  True\n",
        "  True  True  True  True]\n"
       ]
      }
     ],
     "prompt_number": 28
    },
    {
     "cell_type": "markdown",
     "metadata": {},
     "source": [
      "(b) The index of each boolean element represents the number. \u201cCross out\u201d 0 and 1, which are not primes. You can either set them to False or 0 (which python recognizes as equiv- alent to False for boolean types)."
     ]
    },
    {
     "cell_type": "code",
     "collapsed": false,
     "input": [
      "is_prime[0]=False"
     ],
     "language": "python",
     "metadata": {},
     "outputs": [],
     "prompt_number": 29
    },
    {
     "cell_type": "code",
     "collapsed": false,
     "input": [
      "is_prime[1]=False"
     ],
     "language": "python",
     "metadata": {},
     "outputs": [],
     "prompt_number": 30
    },
    {
     "cell_type": "code",
     "collapsed": false,
     "input": [
      "print is_prime"
     ],
     "language": "python",
     "metadata": {},
     "outputs": [
      {
       "output_type": "stream",
       "stream": "stdout",
       "text": [
        "[False False  True  True  True  True  True  True  True  True  True  True\n",
        "  True  True  True  True  True  True  True  True  True  True  True  True\n",
        "  True  True  True  True  True  True  True  True  True  True  True  True\n",
        "  True  True  True  True  True  True  True  True  True  True  True  True\n",
        "  True  True  True  True  True  True  True  True  True  True  True  True\n",
        "  True  True  True  True  True  True  True  True  True  True  True  True\n",
        "  True  True  True  True  True  True  True  True  True  True  True  True\n",
        "  True  True  True  True  True  True  True  True  True  True  True  True\n",
        "  True  True  True  True]\n"
       ]
      }
     ],
     "prompt_number": 31
    },
    {
     "cell_type": "markdown",
     "metadata": {},
     "source": [
      "notes for later eqs of an eloise: (x-x.)**2 /b**2 + (y-y.)**2/a**2=1  e=c/a"
     ]
    },
    {
     "cell_type": "code",
     "collapsed": false,
     "input": [
      "N_max = int(np.sqrt(len(is_prime)))\n",
      "for j in range(2, N_max):\n",
      "    is_prime[2*j::j] = False"
     ],
     "language": "python",
     "metadata": {},
     "outputs": [],
     "prompt_number": 32
    },
    {
     "cell_type": "code",
     "collapsed": false,
     "input": [
      "print is_prime"
     ],
     "language": "python",
     "metadata": {},
     "outputs": [
      {
       "output_type": "stream",
       "stream": "stdout",
       "text": [
        "[False False  True  True False  True False  True False False False  True\n",
        " False  True False False False  True False  True False False False  True\n",
        " False False False False False  True False  True False False False False\n",
        " False  True False False False  True False  True False False False  True\n",
        " False False False False False  True False False False False False  True\n",
        " False  True False False False False False  True False False False  True\n",
        " False  True False False False False False  True False False False  True\n",
        " False False False False False  True False False False False False False\n",
        " False  True False False]\n"
       ]
      }
     ],
     "prompt_number": 33
    },
    {
     "cell_type": "markdown",
     "metadata": {},
     "source": [
      "(d) Look up the documentation for np.nonzero (try help(np.nonzero)) and use it to print the prime numbers."
     ]
    },
    {
     "cell_type": "code",
     "collapsed": false,
     "input": [
      "[np.nonzero(is_prime)]"
     ],
     "language": "python",
     "metadata": {},
     "outputs": [
      {
       "output_type": "pyout",
       "prompt_number": 34,
       "text": [
        "[(array([ 2,  3,  5,  7, 11, 13, 17, 19, 23, 29, 31, 37, 41, 43, 47, 53, 59,\n",
        "       61, 67, 71, 73, 79, 83, 89, 97]),)]"
       ]
      }
     ],
     "prompt_number": 34
    },
    {
     "cell_type": "code",
     "collapsed": false,
     "input": [
      "help(np.nonzero)"
     ],
     "language": "python",
     "metadata": {},
     "outputs": [
      {
       "output_type": "stream",
       "stream": "stdout",
       "text": [
        "Help on function nonzero in module numpy.core.fromnumeric:\n",
        "\n",
        "nonzero(a)\n",
        "    Return the indices of the elements that are non-zero.\n",
        "    \n",
        "    Returns a tuple of arrays, one for each dimension of `a`, containing\n",
        "    the indices of the non-zero elements in that dimension. The\n",
        "    corresponding non-zero values can be obtained with::\n",
        "    \n",
        "        a[nonzero(a)]\n",
        "    \n",
        "    To group the indices by element, rather than dimension, use::\n",
        "    \n",
        "        transpose(nonzero(a))\n",
        "    \n",
        "    The result of this is always a 2-D array, with a row for\n",
        "    each non-zero element.\n",
        "    \n",
        "    Parameters\n",
        "    ----------\n",
        "    a : array_like\n",
        "        Input array.\n",
        "    \n",
        "    Returns\n",
        "    -------\n",
        "    tuple_of_arrays : tuple\n",
        "        Indices of elements that are non-zero.\n",
        "    \n",
        "    See Also\n",
        "    --------\n",
        "    flatnonzero :\n",
        "        Return indices that are non-zero in the flattened version of the input\n",
        "        array.\n",
        "    ndarray.nonzero :\n",
        "        Equivalent ndarray method.\n",
        "    count_nonzero :\n",
        "        Counts the number of non-zero elements in the input array.\n",
        "    \n",
        "    Examples\n",
        "    --------\n",
        "    >>> x = np.eye(3)\n",
        "    >>> x\n",
        "    array([[ 1.,  0.,  0.],\n",
        "           [ 0.,  1.,  0.],\n",
        "           [ 0.,  0.,  1.]])\n",
        "    >>> np.nonzero(x)\n",
        "    (array([0, 1, 2]), array([0, 1, 2]))\n",
        "    \n",
        "    >>> x[np.nonzero(x)]\n",
        "    array([ 1.,  1.,  1.])\n",
        "    >>> np.transpose(np.nonzero(x))\n",
        "    array([[0, 0],\n",
        "           [1, 1],\n",
        "           [2, 2]])\n",
        "    \n",
        "    A common use for ``nonzero`` is to find the indices of an array, where\n",
        "    a condition is True.  Given an array `a`, the condition `a` > 3 is a\n",
        "    boolean array and since False is interpreted as 0, np.nonzero(a > 3)\n",
        "    yields the indices of the `a` where the condition is true.\n",
        "    \n",
        "    >>> a = np.array([[1,2,3],[4,5,6],[7,8,9]])\n",
        "    >>> a > 3\n",
        "    array([[False, False, False],\n",
        "           [ True,  True,  True],\n",
        "           [ True,  True,  True]], dtype=bool)\n",
        "    >>> np.nonzero(a > 3)\n",
        "    (array([1, 1, 1, 2, 2, 2]), array([0, 1, 2, 0, 1, 2]))\n",
        "    \n",
        "    The ``nonzero`` method of the boolean array can also be called.\n",
        "    \n",
        "    >>> (a > 3).nonzero()\n",
        "    (array([1, 1, 1, 2, 2, 2]), array([0, 1, 2, 0, 1, 2]))\n",
        "\n"
       ]
      }
     ],
     "prompt_number": 35
    },
    {
     "cell_type": "markdown",
     "metadata": {},
     "source": [
      "(e) Finally, create a new function, called eratosthenes sieve() that takes one argu- ment, maximum, the maximum number to test for primes, and returns an array contain- ing the prime numbers between 2 and maximum. Use the sieve algorithm developed by Eratosthenes and described on wikipedia: (http://en.wikipedia.org/wiki/Sieve_of_ Eratosthenes). Print the result for the test cases where maximum = 10 and 100. (We\u2019ll use this algorithm again for some of our Project Euler exercises.)"
     ]
    },
    {
     "cell_type": "code",
     "collapsed": false,
     "input": [
      "def eratosthenes_sieve(maxium):"
     ],
     "language": "python",
     "metadata": {},
     "outputs": []
    }
   ],
   "metadata": {}
  }
 ]
}