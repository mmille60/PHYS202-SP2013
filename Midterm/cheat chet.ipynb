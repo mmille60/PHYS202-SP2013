{
 "metadata": {
  "name": "cheat chet"
 },
 "nbformat": 3,
 "nbformat_minor": 0,
 "worksheets": [
  {
   "cells": [
    {
     "cell_type": "code",
     "collapsed": false,
     "input": [
      "from Newpledge import *"
     ],
     "language": "python",
     "metadata": {},
     "outputs": [],
     "prompt_number": 1
    },
    {
     "cell_type": "code",
     "collapsed": false,
     "input": [
      "t=pledge()\n",
      "print t"
     ],
     "language": "python",
     "metadata": {},
     "outputs": [
      {
       "output_type": "stream",
       "stream": "stdout",
       "text": [
        "Academic Honesty Pledge\n",
        "    Cal Poly PHYS 202 - Spring 2013\n",
        "    I have read and understand the rules regarding academic honesty and I agree to abide by them.\n",
        "    I pledge on my honor that I have not given or received any unauthorized assistance on assignments or ex- aminations in this course.\n",
        "    Signed: <MIkhail> Dated: <MIllere>\n"
       ]
      }
     ],
     "prompt_number": 3
    },
    {
     "cell_type": "markdown",
     "metadata": {},
     "source": [
      "Numpy stuff\n",
      "--"
     ]
    },
    {
     "cell_type": "code",
     "collapsed": false,
     "input": [
      "start = np.array([[4,3],[2,1]])\n",
      "print start"
     ],
     "language": "python",
     "metadata": {},
     "outputs": [
      {
       "output_type": "stream",
       "stream": "stdout",
       "text": [
        "[[4 3]\n",
        " [2 1]]\n"
       ]
      }
     ],
     "prompt_number": 2
    },
    {
     "cell_type": "code",
     "collapsed": false,
     "input": [
      "print np.tile(start,(2,3))"
     ],
     "language": "python",
     "metadata": {},
     "outputs": [
      {
       "output_type": "stream",
       "stream": "stdout",
       "text": [
        "[[4 3 4 3 4 3]\n",
        " [2 1 2 1 2 1]\n",
        " [4 3 4 3 4 3]\n",
        " [2 1 2 1 2 1]]\n"
       ]
      }
     ],
     "prompt_number": 3
    },
    {
     "cell_type": "code",
     "collapsed": false,
     "input": [
      "Q = np.eye(4)\n",
      "print Q"
     ],
     "language": "python",
     "metadata": {},
     "outputs": [
      {
       "output_type": "stream",
       "stream": "stdout",
       "text": [
        "[[ 1.  0.  0.  0.]\n",
        " [ 0.  1.  0.  0.]\n",
        " [ 0.  0.  1.  0.]\n",
        " [ 0.  0.  0.  1.]]\n"
       ]
      }
     ],
     "prompt_number": 4
    },
    {
     "cell_type": "markdown",
     "metadata": {},
     "source": [
      "Prime stuff in week 1"
     ]
    },
    {
     "cell_type": "markdown",
     "metadata": {},
     "source": [
      "image stuff in Week 1"
     ]
    },
    {
     "cell_type": "markdown",
     "metadata": {},
     "source": [
      "Graphics in Week 3"
     ]
    },
    {
     "cell_type": "markdown",
     "metadata": {},
     "source": [
      "3d ploting week 4"
     ]
    },
    {
     "cell_type": "markdown",
     "metadata": {},
     "source": [
      "Interpulation and difrenteation in week 4"
     ]
    },
    {
     "cell_type": "markdown",
     "metadata": {},
     "source": [
      "integration in Week 5"
     ]
    },
    {
     "cell_type": "markdown",
     "metadata": {},
     "source": [
      "Dont forget about plot templates"
     ]
    },
    {
     "cell_type": "code",
     "collapsed": false,
     "input": [
      "from Electrostatics import *\n",
      "x,y = meshgrid(arange(-5,5,0.5),arange(-5,5,0.5))\n",
      "Vdipole = dipolePotential(x,y,1e-9,2.);\n",
      "contour(x,y,Vdipole,cmap=cm.coolwarm)\n",
      "xlabel(\"x position in metters\")\n",
      "ylabel(\"y position in metters\")\n",
      "show()"
     ],
     "language": "python",
     "metadata": {},
     "outputs": [
      {
       "output_type": "stream",
       "stream": "stderr",
       "text": [
        "Electrostatics.py:6: RuntimeWarning: divide by zero encountered in divide\n",
        "  Vxy=((k*q)/((x-posx)**2+(y-posy)**2)**.5)\n"
       ]
      },
      {
       "output_type": "display_data",
       "png": "[encoded data removed]"
      }
     ],
     "prompt_number": 1
    },
    {
     "cell_type": "code",
     "collapsed": false,
     "input": [
      "from Differentiators import *\n",
      "import numpy as np\n",
      "x = arange(0,10.01,0.001)\n",
      "y= x**5#function to take derivative of\n",
      "r=foutPtFiniteDiff(x,y)\n",
      "z= finiteDifference(x,y)#bellow is to test if inported corectly\n",
      "plot(x,r,\"r\",label=\"$four point$ $differentiation$\")\n",
      "dydxExact=5*x**4\n",
      "plot(x,z,linestyle =\"--\",label=\"$2point$ $differentiation$\")\n",
      "dydxExact=5*x**4\n",
      "plot(x,dydxExact,\":\",label=\"$analytical$ $differentiation$\")\n",
      "legend(loc=\"upper left\")\n",
      "xlabel(\"x values\")\n",
      "ylabel(\"derivatives of $x^5$\")\n",
      "show()"
     ],
     "language": "python",
     "metadata": {},
     "outputs": [
      {
       "output_type": "display_data",
       "png": "[encoded data removed]"
      }
     ],
     "prompt_number": 2
    },
    {
     "cell_type": "code",
     "collapsed": false,
     "input": [
      "import sys\n",
      "sys.path.insert(0,'/Users/mikyryty/PHYS202-SP2013/Week4')"
     ],
     "language": "python",
     "metadata": {},
     "outputs": [],
     "prompt_number": 6
    },
    {
     "cell_type": "code",
     "collapsed": false,
     "input": [],
     "language": "python",
     "metadata": {},
     "outputs": []
    }
   ],
   "metadata": {}
  }
 ]
}