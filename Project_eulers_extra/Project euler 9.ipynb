{
 "metadata": {
  "name": "Project euler 9"
 },
 "nbformat": 3,
 "nbformat_minor": 0,
 "worksheets": [
  {
   "cells": [
    {
     "cell_type": "markdown",
     "metadata": {},
     "source": [
      "Special Pythagorean triplet\n",
      "--\n",
      "Problem 9\n",
      "---\n",
      "A Pythagorean triplet is a set of three natural numbers, a  b  c, for which,\n",
      "\n",
      "a2 + b2 = c2\n",
      "For example, 32 + 42 = 9 + 16 = 25 = 52.\n",
      "\n",
      "There exists exactly one Pythagorean triplet for which a + b + c = 1000.\n",
      "Find the product abc."
     ]
    },
    {
     "cell_type": "code",
     "collapsed": false,
     "input": [
      "for a in range(1,1000):\n",
      "    for b in range(1,1000):\n",
      "        c=1000-a-b\n",
      "        if c**2==a**2+b**2 and a<b:\n",
      "            print a*c*b"
     ],
     "language": "python",
     "metadata": {},
     "outputs": [
      {
       "output_type": "stream",
       "stream": "stdout",
       "text": [
        "31875000\n"
       ]
      }
     ],
     "prompt_number": 9
    },
    {
     "cell_type": "markdown",
     "metadata": {},
     "source": [
      "This ancwer was checked with project euler\n",
      "\n",
      "31875000 is the corect solution to problem 9\n",
      "---"
     ]
    },
    {
     "cell_type": "code",
     "collapsed": false,
     "input": [],
     "language": "python",
     "metadata": {},
     "outputs": []
    }
   ],
   "metadata": {}
  }
 ]
}