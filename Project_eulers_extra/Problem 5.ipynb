{
 "metadata": {
  "name": "Problem 5"
 },
 "nbformat": 3,
 "nbformat_minor": 0,
 "worksheets": [
  {
   "cells": [
    {
     "cell_type": "markdown",
     "metadata": {},
     "source": [
      "Problem 5\n",
      "--\n",
      "2520 is the smallest number that can be divided by each of the numbers from 1 to 10 without any remainder.\n",
      "\n",
      "What is the smallest positive number that is evenly divisible by all of the numbers from 1 to 20?"
     ]
    },
    {
     "cell_type": "code",
     "collapsed": false,
     "input": [
      "c = False\n",
      "t=2\n",
      "ancwer=1\n",
      "while c==False:\n",
      "    if t%1==0 and t%2==0 and t%3==0 and t%4==0 and t%5==0 and t%6==0 and t%7==0 and t%8==0 and t%9==0 and t%10==0:\n",
      "        c = True\n",
      "    else:\n",
      "        ()\n",
      "    t+=1\n",
      "    ancwer +=1\n",
      "print ancwer"
     ],
     "language": "python",
     "metadata": {},
     "outputs": [
      {
       "output_type": "stream",
       "stream": "stdout",
       "text": [
        "2520\n"
       ]
      }
     ],
     "prompt_number": 5
    },
    {
     "cell_type": "markdown",
     "metadata": {},
     "source": [
      "Corect test solution of 2520"
     ]
    },
    {
     "cell_type": "code",
     "collapsed": false,
     "input": [
      "c = False\n",
      "t=2\n",
      "ancwer=1\n",
      "while c==False:\n",
      "    if   t%11==0 and t%13==0 and t%14==0 and t%15==0 and t%16==0 and t%17==0 and t%18==0 and t%19==0 and t%20==0:\n",
      "        c = True\n",
      "    else:\n",
      "        ()\n",
      "    t+=1\n",
      "    ancwer +=1\n",
      "print ancwer"
     ],
     "language": "python",
     "metadata": {},
     "outputs": [
      {
       "output_type": "stream",
       "stream": "stdout",
       "text": [
        "232792560\n"
       ]
      }
     ],
     "prompt_number": 10
    },
    {
     "cell_type": "markdown",
     "metadata": {},
     "source": [
      "The ancwer above is corect but the solution runs very slow. Checked with project euler is corect."
     ]
    },
    {
     "cell_type": "code",
     "collapsed": false,
     "input": [],
     "language": "python",
     "metadata": {},
     "outputs": []
    }
   ],
   "metadata": {}
  }
 ]
}