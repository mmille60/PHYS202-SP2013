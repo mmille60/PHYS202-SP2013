{
 "metadata": {
  "name": "Project euler 7"
 },
 "nbformat": 3,
 "nbformat_minor": 0,
 "worksheets": [
  {
   "cells": [
    {
     "cell_type": "markdown",
     "metadata": {},
     "source": [
      "10001st prime\n",
      "--\n",
      "Problem 7\n",
      "--\n",
      "By listing the first six prime numbers: 2, 3, 5, 7, 11, and 13, we can see that the 6th prime is 13.\n",
      "\n",
      "What is the 10 001st prime number?"
     ]
    },
    {
     "cell_type": "code",
     "collapsed": false,
     "input": [],
     "language": "python",
     "metadata": {},
     "outputs": []
    },
    {
     "cell_type": "code",
     "collapsed": false,
     "input": [
      "def prime(n):\n",
      "    if n%2==0:\n",
      "        maybe =False\n",
      "    if n%2!=0:\n",
      "        for i in range(1,int(round(n/2.+1))):\n",
      "            if n%(2*i+1)==0 and (2*i+1)!=n:\n",
      "                maybe=False\n",
      "                break\n",
      "            else:\n",
      "                maybe=True\n",
      "                \n",
      "    return maybe\n"
     ],
     "language": "python",
     "metadata": {},
     "outputs": [],
     "prompt_number": 42
    },
    {
     "cell_type": "code",
     "collapsed": false,
     "input": [
      "prime(13)"
     ],
     "language": "python",
     "metadata": {},
     "outputs": [
      {
       "output_type": "pyout",
       "prompt_number": 43,
       "text": [
        "True"
       ]
      }
     ],
     "prompt_number": 43
    },
    {
     "cell_type": "code",
     "collapsed": false,
     "input": [
      "t=1\n",
      "i=1\n",
      "while i!=6:\n",
      "    t+=1\n",
      "    if prime(t):\n",
      "        i+=1\n",
      "print t"
     ],
     "language": "python",
     "metadata": {},
     "outputs": [
      {
       "output_type": "stream",
       "stream": "stdout",
       "text": [
        "13\n"
       ]
      }
     ],
     "prompt_number": 44
    },
    {
     "cell_type": "markdown",
     "metadata": {},
     "source": [
      "13 is the 6th prime number confirming test case\n",
      "--"
     ]
    },
    {
     "cell_type": "code",
     "collapsed": false,
     "input": [
      "t=1\n",
      "i=1\n",
      "while i!=10001:\n",
      "    t+=1\n",
      "    if prime(t):\n",
      "        i+=1\n",
      "print t"
     ],
     "language": "python",
     "metadata": {},
     "outputs": [
      {
       "output_type": "stream",
       "stream": "stdout",
       "text": [
        "104743\n"
       ]
      }
     ],
     "prompt_number": 45
    },
    {
     "cell_type": "markdown",
     "metadata": {},
     "source": [
      "   104743 Is the 10001st prime number as confirmed with project euler.\n",
      "------"
     ]
    },
    {
     "cell_type": "code",
     "collapsed": false,
     "input": [],
     "language": "python",
     "metadata": {},
     "outputs": []
    }
   ],
   "metadata": {}
  }
 ]
}