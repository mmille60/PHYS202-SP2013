{
 "metadata": {
  "name": "Problem 34"
 },
 "nbformat": 3,
 "nbformat_minor": 0,
 "worksheets": [
  {
   "cells": [
    {
     "cell_type": "markdown",
     "metadata": {},
     "source": [
      "Digit factorials\n",
      "--\n",
      "Problem 34\n",
      "---\n",
      "145 is a curious number, as 1! + 4! + 5! = 1 + 24 + 120 = 145.\n",
      "--\n",
      "Find the sum of all numbers which are equal to the sum of the factorial of their digits.\n",
      "--\n",
      "\n",
      "Note: as 1! = 1 and 2! = 2 are not sums they are not included.\n",
      "--"
     ]
    },
    {
     "cell_type": "code",
     "collapsed": false,
     "input": [
      "#in order to set upper limmit must use 7*9! as this gives us a 7 digit number note I had to resurch what the upper limmit was and why it was 9!*7 and not 8*9!\n",
      "import math\n",
      "upper_lim=7*math.factorial(9)"
     ],
     "language": "python",
     "metadata": {},
     "outputs": [],
     "prompt_number": 5
    },
    {
     "cell_type": "code",
     "collapsed": false,
     "input": [
      "fact=[]\n",
      "for i in range(0,10):\n",
      "    fact.append(math.factorial(i))\n",
      "print fact"
     ],
     "language": "python",
     "metadata": {},
     "outputs": [
      {
       "output_type": "stream",
       "stream": "stdout",
       "text": [
        "[1, 1, 2, 6, 24, 120, 720, 5040, 40320, 362880]\n"
       ]
      }
     ],
     "prompt_number": 14
    },
    {
     "cell_type": "code",
     "collapsed": false,
     "input": [
      "sumn=0\n",
      "for i in range(0,146):\n",
      "    s=str(i)\n",
      "    t=0\n",
      "    for num in s:\n",
      "        t+=fact[int(num)]\n",
      "    if t==i:\n",
      "        sumn+=i\n",
      "sumn+=-1-2#subtract off 1 and 2 \n",
      "print sumn"
     ],
     "language": "python",
     "metadata": {},
     "outputs": [
      {
       "output_type": "stream",
       "stream": "stdout",
       "text": [
        "145\n"
       ]
      }
     ],
     "prompt_number": 25
    },
    {
     "cell_type": "markdown",
     "metadata": {},
     "source": [
      "Test case worked got 145 as the solution now for the actual solution using the 7*9! limmit"
     ]
    },
    {
     "cell_type": "code",
     "collapsed": false,
     "input": [
      "sumn=0\n",
      "for i in range(0,upper_lim+1):\n",
      "    s=str(i)\n",
      "    t=0\n",
      "    for num in s:\n",
      "        t+=fact[int(num)]\n",
      "    if t==i:\n",
      "        sumn+=i\n",
      "sumn+=-1-2#subtract off 1 and 2 \n",
      "print sumn"
     ],
     "language": "python",
     "metadata": {},
     "outputs": [
      {
       "output_type": "stream",
       "stream": "stdout",
       "text": [
        "40730\n"
       ]
      }
     ],
     "prompt_number": 26
    },
    {
     "cell_type": "markdown",
     "metadata": {},
     "source": [
      "40730 is the corect solution as checked with project euler\n",
      "----"
     ]
    },
    {
     "cell_type": "code",
     "collapsed": false,
     "input": [],
     "language": "python",
     "metadata": {},
     "outputs": []
    }
   ],
   "metadata": {}
  }
 ]
}