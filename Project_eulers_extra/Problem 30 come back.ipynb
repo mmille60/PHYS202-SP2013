{
 "metadata": {
  "name": "Problem 30 come back"
 },
 "nbformat": 3,
 "nbformat_minor": 0,
 "worksheets": [
  {
   "cells": [
    {
     "cell_type": "markdown",
     "metadata": {},
     "source": [
      "Digit fifth powers\n",
      "--\n",
      "Problem 30\n",
      "--\n",
      "Surprisingly there are only three numbers that can be written as the sum of fourth powers of their digits:\n",
      "--\n",
      "\n",
      "1634 = 14 + 64 + 34 + 44\n",
      "\n",
      "8208 = 84 + 24 + 04 + 84\n",
      "\n",
      "9474 = 94 + 44 + 74 + 44\n",
      "\n",
      "As 1 = 14 is not a sum it is not included.\n",
      "\n",
      "The sum of these numbers is 1634 + 8208 + 9474 = 19316.\n",
      "\n",
      "Find the sum of all the numbers that can be written as the sum of fifth powers of their digits."
     ]
    },
    {
     "cell_type": "code",
     "collapsed": false,
     "input": [],
     "language": "python",
     "metadata": {},
     "outputs": [],
     "prompt_number": 1
    },
    {
     "cell_type": "code",
     "collapsed": false,
     "input": [],
     "language": "python",
     "metadata": {},
     "outputs": []
    }
   ],
   "metadata": {}
  }
 ]
}