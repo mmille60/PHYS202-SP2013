{
 "metadata": {
  "name": "Project Euler 25"
 },
 "nbformat": 3,
 "nbformat_minor": 0,
 "worksheets": [
  {
   "cells": [
    {
     "cell_type": "markdown",
     "metadata": {},
     "source": [
      "Problem 25"
     ]
    },
    {
     "cell_type": "code",
     "collapsed": false,
     "input": [
      "def fibinatachi(n):\n",
      "    if n==1:\n",
      "        return 1\n",
      "    if n==2:\n",
      "        return 1\n",
      "    if n==3:\n",
      "        return 2\n",
      "    else:\n",
      "        first=1\n",
      "        before1=2\n",
      "        now=0\n",
      "        i=2\n",
      "        while i<n-1:\n",
      "            now=first+before1\n",
      "            first=before1\n",
      "            before1=now\n",
      "            i+=1\n",
      "        return now\n",
      "\n",
      "        "
     ],
     "language": "python",
     "metadata": {},
     "outputs": [],
     "prompt_number": 28
    },
    {
     "cell_type": "code",
     "collapsed": false,
     "input": [
      "for i in range(1,13):\n",
      "    print fibinatachi(i)"
     ],
     "language": "python",
     "metadata": {},
     "outputs": [
      {
       "output_type": "stream",
       "stream": "stdout",
       "text": [
        "1\n",
        "1\n",
        "2\n",
        "3\n",
        "5\n",
        "8\n",
        "13\n",
        "21\n",
        "34\n",
        "55\n",
        "89\n",
        "144\n"
       ]
      }
     ],
     "prompt_number": 29
    },
    {
     "cell_type": "code",
     "collapsed": false,
     "input": [
      "s=1\n",
      "i=0\n",
      "while s<3:\n",
      "    i+=1\n",
      "    s=len(str(fibinatachi(i)))\n",
      "print i"
     ],
     "language": "python",
     "metadata": {},
     "outputs": [
      {
       "output_type": "stream",
       "stream": "stdout",
       "text": [
        "12\n"
       ]
      }
     ],
     "prompt_number": 34
    },
    {
     "cell_type": "markdown",
     "metadata": {},
     "source": [
      "Test case the 12 Fibonacci is the first number to contain 3 digits. This is confirmed by the project euler test case."
     ]
    },
    {
     "cell_type": "code",
     "collapsed": false,
     "input": [
      "s=1\n",
      "i=0\n",
      "while s<1000:\n",
      "    i+=1\n",
      "    s=len(str(fibinatachi(i)))\n",
      "print i"
     ],
     "language": "python",
     "metadata": {},
     "outputs": [
      {
       "output_type": "stream",
       "stream": "stdout",
       "text": [
        "4782\n"
       ]
      }
     ],
     "prompt_number": 35
    },
    {
     "cell_type": "markdown",
     "metadata": {},
     "source": [
      "The 4782 Fibonacci number is the first Fibonacci number with 1000 digits.\n",
      "\n",
      "4782 was inputed into Project euler and confirmed corect.\n",
      "-----"
     ]
    },
    {
     "cell_type": "code",
     "collapsed": false,
     "input": [],
     "language": "python",
     "metadata": {},
     "outputs": []
    }
   ],
   "metadata": {}
  }
 ]
}