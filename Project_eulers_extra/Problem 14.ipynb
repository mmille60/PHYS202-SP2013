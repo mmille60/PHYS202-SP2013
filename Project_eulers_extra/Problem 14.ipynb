{
 "metadata": {
  "name": "Problem 14"
 },
 "nbformat": 3,
 "nbformat_minor": 0,
 "worksheets": [
  {
   "cells": [
    {
     "cell_type": "markdown",
     "metadata": {},
     "source": [
      "Longest Collatz sequence\n",
      "---\n",
      "Problem 14\n",
      "--\n",
      "The following iterative sequence is defined for the set of positive integers:\n",
      "\n",
      "n  n/2 (n is even)\n",
      "n  3n + 1 (n is odd)\n",
      "\n",
      "Using the rule above and starting with 13, we generate the following sequence:\n",
      "\n",
      "13  40  20  10  5  16  8  4  2  1\n",
      "It can be seen that this sequence (starting at 13 and finishing at 1) contains 10 terms. Although it has not been proved yet (Collatz Problem), it is thought that all starting numbers finish at 1.\n",
      "\n",
      "Which starting number, under one million, produces the longest chain?\n",
      "\n",
      "NOTE: Once the chain starts the terms are allowed to go above one million."
     ]
    },
    {
     "cell_type": "code",
     "collapsed": false,
     "input": [
      "t=0\n",
      "maxe=[1,1]\n",
      "for i in range(13,14):\n",
      "    t=i\n",
      "    count=0\n",
      "    while t!=1:\n",
      "        count+=1\n",
      "        if t%2==0:\n",
      "            t=t/2\n",
      "        else:\n",
      "            t=3*t+1\n",
      "    if count>maxe[0]:\n",
      "        maxe[0]=count+1\n",
      "        maxe[1]=i"
     ],
     "language": "python",
     "metadata": {},
     "outputs": [],
     "prompt_number": 5
    },
    {
     "cell_type": "code",
     "collapsed": false,
     "input": [
      "print maxe#max[0] is the length of the count max[1] is the number the count started with"
     ],
     "language": "python",
     "metadata": {},
     "outputs": [
      {
       "output_type": "stream",
       "stream": "stdout",
       "text": [
        "[10, 13]\n"
       ]
      }
     ],
     "prompt_number": 6
    },
    {
     "cell_type": "markdown",
     "metadata": {},
     "source": [
      "Test case confirm that when starting at 13 the list is 10 elements long\n",
      "--"
     ]
    },
    {
     "cell_type": "code",
     "collapsed": false,
     "input": [
      "t=0\n",
      "maxe=[1,1]\n",
      "for i in range(0,1000000):\n",
      "    t=i\n",
      "    count=0\n",
      "    while t>1:\n",
      "        count+=1\n",
      "        if t%2==0:\n",
      "            t=(t/2)\n",
      "        else:\n",
      "            t=(3*t)+1\n",
      "    count+=1\n",
      "    if count>maxe[0]:\n",
      "        maxe[0]=count\n",
      "        maxe[1]=i\n",
      "        "
     ],
     "language": "python",
     "metadata": {},
     "outputs": [],
     "prompt_number": 17
    },
    {
     "cell_type": "code",
     "collapsed": false,
     "input": [
      "print maxe"
     ],
     "language": "python",
     "metadata": {},
     "outputs": [
      {
       "output_type": "stream",
       "stream": "stdout",
       "text": [
        "[525, 837799]\n"
       ]
      }
     ],
     "prompt_number": 21
    },
    {
     "cell_type": "markdown",
     "metadata": {},
     "source": [
      "837799 is the corect solution as checked with project euler if you start the counting here the list will be 525 numbers long\n",
      "---"
     ]
    },
    {
     "cell_type": "code",
     "collapsed": false,
     "input": [],
     "language": "python",
     "metadata": {},
     "outputs": []
    }
   ],
   "metadata": {}
  }
 ]
}