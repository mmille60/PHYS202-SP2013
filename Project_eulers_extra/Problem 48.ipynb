{
 "metadata": {
  "name": "Problem 48"
 },
 "nbformat": 3,
 "nbformat_minor": 0,
 "worksheets": [
  {
   "cells": [
    {
     "cell_type": "markdown",
     "metadata": {},
     "source": [
      "Self powers\n",
      "--\n",
      "Problem 48\n",
      "--\n",
      "The series, 1^1 + 2^2 + 3^3 + ... + 10^10 = 10405071317.\n",
      "\n",
      "Find the last ten digits of the series, 1^1 + 2^2 + 3^3 + ... + 1000^1000."
     ]
    },
    {
     "cell_type": "code",
     "collapsed": false,
     "input": [
      "count=0\n",
      "for i in range(1,11):\n",
      "    count+=i**i\n",
      "print count"
     ],
     "language": "python",
     "metadata": {},
     "outputs": [
      {
       "output_type": "stream",
       "stream": "stdout",
       "text": [
        "10405071317\n"
       ]
      }
     ],
     "prompt_number": 3
    },
    {
     "cell_type": "markdown",
     "metadata": {},
     "source": [
      "Test case returns the corect solution"
     ]
    },
    {
     "cell_type": "code",
     "collapsed": false,
     "input": [
      "count=0\n",
      "for i in range(1,1000):\n",
      "    count+=i**i\n",
      "#print count\n",
      "counts=str(count)\n",
      "a=len(counts)\n",
      "s=[]\n",
      "for i in range(a-10,a):\n",
      "    s.append(counts[i])\n",
      "print s"
     ],
     "language": "python",
     "metadata": {},
     "outputs": [
      {
       "output_type": "stream",
       "stream": "stdout",
       "text": [
        "['9', '1', '1', '0', '8', '4', '6', '7', '0', '0']\n"
       ]
      }
     ],
     "prompt_number": 25
    },
    {
     "cell_type": "markdown",
     "metadata": {},
     "source": [
      "9110846700 are the last 10 digits of the number as we checked with project euler\n",
      "---"
     ]
    },
    {
     "cell_type": "code",
     "collapsed": false,
     "input": [],
     "language": "python",
     "metadata": {},
     "outputs": []
    }
   ],
   "metadata": {}
  }
 ]
}