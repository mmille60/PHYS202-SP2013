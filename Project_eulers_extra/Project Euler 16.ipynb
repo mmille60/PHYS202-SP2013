{
 "metadata": {
  "name": "Project Euler 16"
 },
 "nbformat": 3,
 "nbformat_minor": 0,
 "worksheets": [
  {
   "cells": [
    {
     "cell_type": "markdown",
     "metadata": {},
     "source": [
      "Project Euler 16\n",
      "====\n",
      "$2^{15}$ = 32768 and the sum of its digits is 3 + 2 + 7 + 6 + 8 = 26.\n",
      "\n",
      "What is the sum of the digits of the number $2^{1000}$?"
     ]
    },
    {
     "cell_type": "markdown",
     "metadata": {},
     "source": [
      "Test case:"
     ]
    },
    {
     "cell_type": "code",
     "collapsed": false,
     "input": [
      "s=str(2**15)\n",
      "sum_two=0\n",
      "for i in range(0,len(s)):\n",
      "    sum_two+= int(s[i])\n",
      "print sum_two\n"
     ],
     "language": "python",
     "metadata": {},
     "outputs": [
      {
       "output_type": "stream",
       "stream": "stdout",
       "text": [
        "26\n"
       ]
      }
     ],
     "prompt_number": 7
    },
    {
     "cell_type": "markdown",
     "metadata": {},
     "source": [
      "This method returns the corect value for the test case"
     ]
    },
    {
     "cell_type": "code",
     "collapsed": false,
     "input": [
      "s=str(2**1000)\n",
      "sum_two=0\n",
      "for i in range(0,len(s)):\n",
      "    sum_two+= int(s[i])\n",
      "print sum_two"
     ],
     "language": "python",
     "metadata": {},
     "outputs": [
      {
       "output_type": "stream",
       "stream": "stdout",
       "text": [
        "1366\n"
       ]
      }
     ],
     "prompt_number": 8
    },
    {
     "cell_type": "markdown",
     "metadata": {},
     "source": [
      "1366 is the sum of the digits of $2^{1000}$ checked with project euler this is corect"
     ]
    },
    {
     "cell_type": "code",
     "collapsed": false,
     "input": [],
     "language": "python",
     "metadata": {},
     "outputs": []
    }
   ],
   "metadata": {}
  }
 ]
}