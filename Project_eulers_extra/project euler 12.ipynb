{
 "metadata": {
  "name": "project euler 12"
 },
 "nbformat": 3,
 "nbformat_minor": 0,
 "worksheets": [
  {
   "cells": [
    {
     "cell_type": "markdown",
     "metadata": {},
     "source": [
      "Problem 12\n",
      "-----\n",
      "What is the value of the first triangle number to have over five hundred divisors?"
     ]
    },
    {
     "cell_type": "code",
     "collapsed": false,
     "input": [
      "#note I got this code from another site this problem takes a bit of computing so I wanted to find the most efective factoring methond I plan to come back and try this again with another method\n",
      "def factors(n):    \n",
      "    return set(reduce(list.__add__, \n",
      "                ([i, n//i] for i in range(1, int(n**0.5) + 1) if n % i == 0)))"
     ],
     "language": "python",
     "metadata": {},
     "outputs": [],
     "prompt_number": 2
    },
    {
     "cell_type": "code",
     "collapsed": false,
     "input": [
      "i=0\n",
      "intial=np.zeros(10000)\n",
      "c=0\n",
      "while i<6:\n",
      "    for t in range(0,c+2):\n",
      "        intial[c]+=t\n",
      "    i=len(factors(intial[c]))\n",
      "    c+=1\n",
      "print intial[c-1]"
     ],
     "language": "python",
     "metadata": {},
     "outputs": [
      {
       "output_type": "stream",
       "stream": "stdout",
       "text": [
        "28.0\n"
       ]
      }
     ],
     "prompt_number": 10
    },
    {
     "cell_type": "markdown",
     "metadata": {},
     "source": [
      "corect test case"
     ]
    },
    {
     "cell_type": "code",
     "collapsed": false,
     "input": [
      "i=0\n",
      "intial=np.zeros(10000000)\n",
      "c=0\n",
      "while i<500:\n",
      "    for t in range(0,c+2):\n",
      "        intial[c]+=t\n",
      "    i=len(factors(intial[c]))\n",
      "    c+=1\n",
      "print intial[c-1]"
     ],
     "language": "python",
     "metadata": {},
     "outputs": [
      {
       "output_type": "stream",
       "stream": "stdout",
       "text": [
        "76576500.0\n"
       ]
      }
     ],
     "prompt_number": 13
    },
    {
     "cell_type": "markdown",
     "metadata": {},
     "source": [
      "This is the corect solution however it take about 5 minutes to run. Should come back and play with getting time down"
     ]
    },
    {
     "cell_type": "code",
     "collapsed": false,
     "input": [],
     "language": "python",
     "metadata": {},
     "outputs": [],
     "prompt_number": 13
    },
    {
     "cell_type": "code",
     "collapsed": false,
     "input": [],
     "language": "python",
     "metadata": {},
     "outputs": []
    }
   ],
   "metadata": {}
  }
 ]
}