{
 "metadata": {
  "name": "Project Euler 25"
 },
 "nbformat": 3,
 "nbformat_minor": 0,
 "worksheets": [
  {
   "cells": [
    {
     "cell_type": "markdown",
     "metadata": {},
     "source": [
      "1000-digit Fibonacci number\n",
      "==\n",
      "Problem 25\n",
      "==\n",
      "The Fibonacci sequence is defined by the recurrence relation:\n",
      "--\n",
      "\n",
      "Fn = Fn1 + Fn2, where F1 = 1 and F2 = 1.\n",
      "\n",
      "Hence the first 12 terms will be:\n",
      "\n",
      "\n",
      "F1 = 1\n",
      "\n",
      "F2 = 1\n",
      "\n",
      "F3 = 2\n",
      "\n",
      "F4 = 3\n",
      "\n",
      "F5 = 5\n",
      "\n",
      "F6 = 8\n",
      "\n",
      "F7 = 13\n",
      "\n",
      "F8 = 21\n",
      "\n",
      "F9 = 34\n",
      "\n",
      "F10 = 55\n",
      "\n",
      "F11 = 89\n",
      "\n",
      "F12 = 144\n",
      "\n",
      "The 12th term, F12, is the first term to contain three digits.\n"
     ]
    },
    {
     "cell_type": "code",
     "collapsed": false,
     "input": [
      "def fibinatachi(n):#created a function to find the fibinachi numbers\n",
      "    if n==1:#sets the first fibinatchi case\n",
      "        return 1\n",
      "    if n==2:#sets secound\n",
      "        return 1\n",
      "    if n==3:#sets third\n",
      "        return 2\n",
      "    else:#recurtion relation for the fibinatchi number\n",
      "        first=1\n",
      "        before1=2\n",
      "        now=0\n",
      "        i=2\n",
      "        while i<n-1:#find the fibinatchi numbers\n",
      "            now=first+before1\n",
      "            first=before1\n",
      "            before1=now\n",
      "            i+=1\n",
      "        return now\n",
      "\n",
      "        "
     ],
     "language": "python",
     "metadata": {},
     "outputs": [],
     "prompt_number": 28
    },
    {
     "cell_type": "code",
     "collapsed": false,
     "input": [
      "for i in range(1,13):#checking to see if function is working corectly\n",
      "    print fibinatachi(i)#print the fibinatchi numbers"
     ],
     "language": "python",
     "metadata": {},
     "outputs": [
      {
       "output_type": "stream",
       "stream": "stdout",
       "text": [
        "1\n",
        "1\n",
        "2\n",
        "3\n",
        "5\n",
        "8\n",
        "13\n",
        "21\n",
        "34\n",
        "55\n",
        "89\n",
        "144\n"
       ]
      }
     ],
     "prompt_number": 29
    },
    {
     "cell_type": "code",
     "collapsed": false,
     "input": [
      "s=1\n",
      "i=0\n",
      "while s<3:#check the length of the fibinatachi number\n",
      "    i+=1\n",
      "    s=len(str(fibinatachi(i)))\n",
      "print i"
     ],
     "language": "python",
     "metadata": {},
     "outputs": [
      {
       "output_type": "stream",
       "stream": "stdout",
       "text": [
        "12\n"
       ]
      }
     ],
     "prompt_number": 34
    },
    {
     "cell_type": "markdown",
     "metadata": {},
     "source": [
      "Test case the 12 Fibonacci is the first number to contain 3 digits. This is confirmed by the project euler test case."
     ]
    },
    {
     "cell_type": "code",
     "collapsed": false,
     "input": [
      "s=1\n",
      "i=0\n",
      "while s<1000:#check for fibinatchi number with length 1000\n",
      "    i+=1\n",
      "    s=len(str(fibinatachi(i)))\n",
      "print i"
     ],
     "language": "python",
     "metadata": {},
     "outputs": [
      {
       "output_type": "stream",
       "stream": "stdout",
       "text": [
        "4782\n"
       ]
      }
     ],
     "prompt_number": 35
    },
    {
     "cell_type": "markdown",
     "metadata": {},
     "source": [
      "The 4782 Fibonacci number is the first Fibonacci number with 1000 digits.\n",
      "\n",
      "4782 was inputed into Project euler and confirmed corect.\n",
      "-----"
     ]
    },
    {
     "cell_type": "code",
     "collapsed": false,
     "input": [],
     "language": "python",
     "metadata": {},
     "outputs": []
    }
   ],
   "metadata": {}
  }
 ]
}