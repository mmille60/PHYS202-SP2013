{
 "metadata": {
  "name": "Project"
 },
 "nbformat": 3,
 "nbformat_minor": 0,
 "worksheets": [
  {
   "cells": [
    {
     "cell_type": "code",
     "collapsed": false,
     "input": [
      "p0=1\n",
      "w=1\n",
      "R0=1\n",
      "a=1\n",
      "p_r=lambda r: p0*(1+(w*r**2)/R0)/(1+exp((r-R0)/a))\n",
      "\n",
      "\n",
      "\n"
     ],
     "language": "python",
     "metadata": {},
     "outputs": [],
     "prompt_number": 12
    },
    {
     "cell_type": "code",
     "collapsed": false,
     "input": [
      "import random\n",
      "import numpy as np"
     ],
     "language": "python",
     "metadata": {},
     "outputs": [],
     "prompt_number": 12
    },
    {
     "cell_type": "code",
     "collapsed": false,
     "input": [
      "def generate(N,R):\n",
      "    rando=np.zeros(N)\n",
      "    for i in range(0,N):\n",
      "        rando[i]=random.uniform(0,1.1)*R\n",
      "    return rando"
     ],
     "language": "python",
     "metadata": {},
     "outputs": [],
     "prompt_number": 17
    },
    {
     "cell_type": "code",
     "collapsed": false,
     "input": [
      "print generate(10,10)"
     ],
     "language": "python",
     "metadata": {},
     "outputs": [
      {
       "output_type": "stream",
       "stream": "stdout",
       "text": [
        "[ 6.05224917  5.75243183  7.56647495  2.41738958  0.28892727  3.93108663\n",
        "  5.1503426   2.15962295  0.97123292  8.38606097]\n"
       ]
      }
     ],
     "prompt_number": 19
    },
    {
     "cell_type": "code",
     "collapsed": false,
     "input": [
      "def rando_radius(N,R):\n",
      "    r=np.arange(0,R,.001)\n",
      "    rando=np.zeros(N)\n",
      "\n",
      "    for i in range(0,N):\n",
      "        rando[i]=random.uniform(0,1.1)*R\n",
      "    #area=pi*R**2 \n",
      "    \"\"\"for i in range(0,len(r)):\n",
      "        az=np.zeros(len(r))\n",
      "        t=0\n",
      "        for i in range(0,len(r)):\n",
      "            az[t]=random.uniform(0,1.1)*2*pi\n",
      "            t+=1\n",
      "    rad=p_r(r)\n",
      "    return (az,rad)\"\"\"\n",
      "    return rando"
     ],
     "language": "python",
     "metadata": {},
     "outputs": [],
     "prompt_number": 20
    },
    {
     "cell_type": "code",
     "collapsed": false,
     "input": [
      "def dencity(r):\n",
      "    for i in range(0,N):\n",
      "        az=np.zeros(len(r))\n",
      "        t=0\n",
      "        for i in range(0,len(r)):\n",
      "            az[t]=random.uniform(0,1.1)*2*pi\n",
      "            t+=1\n",
      "    rad=p_r(r)\n",
      "    return \n"
     ],
     "language": "python",
     "metadata": {},
     "outputs": [],
     "prompt_number": 22
    },
    {
     "cell_type": "code",
     "collapsed": false,
     "input": [],
     "language": "python",
     "metadata": {},
     "outputs": []
    }
   ],
   "metadata": {}
  }
 ]
}