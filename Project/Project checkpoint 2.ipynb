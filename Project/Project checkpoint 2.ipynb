{
 "metadata": {
  "name": "Project checkpoint 2"
 },
 "nbformat": 3,
 "nbformat_minor": 0,
 "worksheets": [
  {
   "cells": [
    {
     "cell_type": "code",
     "collapsed": false,
     "input": [
      "import random\n",
      "def Woodsaxson(atom):\n",
      "    p_r=lambda r: p0*(1+(w*r**2)/R0)/(1+exp((r-R0)/a))\n",
      "    p0=1\n",
      "    if atom=='O' or atom ==16:\n",
      "        w=-0.051\n",
      "        R0=2.608\n",
      "        a=.513\n",
      "        n=16\n",
      "    elif atom=='C' or atom==12:\n",
      "        w=0.\n",
      "        R0=2.47\n",
      "        a=0.\n",
      "        n=12\n",
      "    elif atom=='Al' or atom==27:\n",
      "        R0=3.07\n",
      "        a=.519\n",
      "        w=0.\n",
      "        n=27\n",
      "    elif atom=='S' or atom==32:\n",
      "        R0=3.458\n",
      "        a=.61\n",
      "        w=0\n",
      "        n=32\n",
      "    elif atom==\"Ca\" or atom==40:\n",
      "        w=-0.161\n",
      "        R0=3.76\n",
      "        a=.586\n",
      "        n=40\n",
      "    elif atom=='Ni' or atom==58:\n",
      "        R0=4.309\n",
      "        a=.516\n",
      "        w=-0.1308\n",
      "        n=58\n",
      "    elif atom=='Cu' or atom==63:\n",
      "        R0=4.2\n",
      "        a=.596\n",
      "        w=0\n",
      "        n=63\n",
      "    elif atom=='W' or atom==186:\n",
      "        R0=6.51\n",
      "        a=.535\n",
      "        w=0\n",
      "        n=186\n",
      "    elif atom=='Au' or atom==197:\n",
      "        R0=6.38\n",
      "        a=.535\n",
      "        w=0\n",
      "        n=197\n",
      "    elif atom=='Pb' or atom==208:\n",
      "        R0=6.68\n",
      "        a=.546\n",
      "        w=0\n",
      "        n=208\n",
      "    elif atom=='U' or atom==238:\n",
      "        R0=6.68\n",
      "        a=.6\n",
      "        w=0\n",
      "        n=238\n",
      "    r=np.arange(0,2*R0,.01)\n",
      "    b=random.uniform(0, 1.5)*R0\n",
      "    return (p_r(r),r,b,n)"
     ],
     "language": "python",
     "metadata": {},
     "outputs": [],
     "prompt_number": 1
    },
    {
     "cell_type": "code",
     "collapsed": false,
     "input": [
      "def random_r(atom):\n",
      "    N=number\n",
      "    z=numpy.random.random_sample(2*Woodsaxson(atom)[3]);\n",
      "    F1=cumsum(Woodsaxson(atom)[0])\n",
      "    a=sum(Woodsaxson(atom)[0])\n",
      "    F1=F1/a\n",
      "    T=F1.searchsorted(z)\n",
      "    r=Woodsaxson(atom)[1]\n",
      "    radius_dis=r[T]\n",
      "    theta=zeros(len(radius_dis))\n",
      "    t=0\n",
      "    for i in range(0,len(radius_dis)):\n",
      "        theta[t]=random.uniform(0,2*pi)\n",
      "        t+=1\n",
      "    return (radius_dis,theta,Woodsaxson(atom)[0],Woodsaxson(atom)[1],Woodsaxson(atom)[2],Woodsaxson(atom)[3])"
     ],
     "language": "python",
     "metadata": {},
     "outputs": [],
     "prompt_number": 2
    },
    {
     "cell_type": "code",
     "collapsed": false,
     "input": [
      "def ploting_2(atom1,atom2):\n",
      "    atom1_dis=random_r(atom1)\n",
      "    atom2_dis=random_r(atom2)\n",
      "    plot(atom1_dis[0]*cos(atom1_dis[1]),atom1_dis[0]*sin(atom1_dis[1]),\"b*\")\n",
      "    plot((atom2_dis[0]*cos(atom2_dis[1]))+atom1_dis[4],atom2_dis[0]*sin(atom2_dis[1]),\"r*\")\n",
      "    atom1_distance=(atom1_dis[0]*cos(atom1_dis[1]))**2+(atom1_dis[0]*sin(atom1_dis[1]))**2\n",
      "    atom2_distance=((atom2_dis[0]*cos(atom2_dis[1]))+atom1_dis[4])**2+(atom2_dis[0]*sin(atom2_dis[1]))**2\n",
      "    count=0\n",
      "    for i in atom1_distance:\n",
      "        for c in atom2_distance:\n",
      "            if abs(i-c)<=0.1:\n",
      "                count+=1\n",
      "    ax = gca()\n",
      "    ax.annotate(str(count)+\"protons colide\",xy=(2,2),fontsize=12)"
     ],
     "language": "python",
     "metadata": {},
     "outputs": [],
     "prompt_number": 3
    },
    {
     "cell_type": "code",
     "collapsed": false,
     "input": [
      "ploting_2(\"Pb\",\"O\")"
     ],
     "language": "python",
     "metadata": {},
     "outputs": [
      {
       "output_type": "display_data",
       "png": "[encoded data removed]"
      }
     ],
     "prompt_number": 6
    },
    {
     "cell_type": "code",
     "collapsed": false,
     "input": [],
     "language": "python",
     "metadata": {},
     "outputs": [],
     "prompt_number": 11
    },
    {
     "cell_type": "code",
     "collapsed": false,
     "input": [],
     "language": "python",
     "metadata": {},
     "outputs": [],
     "prompt_number": 11
    },
    {
     "cell_type": "code",
     "collapsed": false,
     "input": [],
     "language": "python",
     "metadata": {},
     "outputs": []
    }
   ],
   "metadata": {}
  }
 ]
}