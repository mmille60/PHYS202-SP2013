{
 "metadata": {
  "name": "Project testing"
 },
 "nbformat": 3,
 "nbformat_minor": 0,
 "worksheets": [
  {
   "cells": [
    {
     "cell_type": "code",
     "collapsed": false,
     "input": [
      "p0=1\n",
      "w=1\n",
      "R0=1\n",
      "a=1\n",
      "p_r=lambda r: p0*(1+(w*r**2)/R0)/(1+exp((r-R0)/a))\n",
      "\n",
      "\n",
      "\n"
     ],
     "language": "python",
     "metadata": {},
     "outputs": [],
     "prompt_number": 3
    },
    {
     "cell_type": "code",
     "collapsed": false,
     "input": [
      "import random\n",
      "import numpy as np"
     ],
     "language": "python",
     "metadata": {},
     "outputs": [],
     "prompt_number": 12
    },
    {
     "cell_type": "code",
     "collapsed": false,
     "input": [
      "def generate(N,R):\n",
      "    rando=np.zeros(N)\n",
      "    for i in range(0,N):\n",
      "        rando[i]=random.uniform(0,1.1)*R\n",
      "    return rando"
     ],
     "language": "python",
     "metadata": {},
     "outputs": [],
     "prompt_number": 17
    },
    {
     "cell_type": "code",
     "collapsed": false,
     "input": [
      "print generate(10,10)"
     ],
     "language": "python",
     "metadata": {},
     "outputs": [
      {
       "output_type": "stream",
       "stream": "stdout",
       "text": [
        "[ 6.05224917  5.75243183  7.56647495  2.41738958  0.28892727  3.93108663\n",
        "  5.1503426   2.15962295  0.97123292  8.38606097]\n"
       ]
      }
     ],
     "prompt_number": 19
    },
    {
     "cell_type": "code",
     "collapsed": false,
     "input": [
      "def rando_radius(N,R):\n",
      "    r=np.arange(0,R,.001)\n",
      "    rando=np.zeros(N)\n",
      "\n",
      "    for i in range(0,N):\n",
      "        rando[i]=random.uniform(0,1.1)*R\n",
      "    #area=pi*R**2 \n",
      "    \"\"\"for i in range(0,len(r)):\n",
      "        az=np.zeros(len(r))\n",
      "        t=0\n",
      "        for i in range(0,len(r)):\n",
      "            az[t]=random.uniform(0,1.1)*2*pi\n",
      "            t+=1\n",
      "    rad=p_r(r)\n",
      "    return (az,rad)\"\"\"\n",
      "    return rando"
     ],
     "language": "python",
     "metadata": {},
     "outputs": [],
     "prompt_number": 20
    },
    {
     "cell_type": "code",
     "collapsed": false,
     "input": [
      "def dencity(r):\n",
      "    for i in range(0,N):\n",
      "        az=np.zeros(len(r))\n",
      "        t=0\n",
      "        for i in range(0,len(r)):\n",
      "            az[t]=random.uniform(0,1.1)*2*pi\n",
      "            t+=1\n",
      "    rad=p_r(r)\n",
      "    return \n"
     ],
     "language": "python",
     "metadata": {},
     "outputs": [],
     "prompt_number": 22
    },
    {
     "cell_type": "code",
     "collapsed": false,
     "input": [
      "r=np.arange(0,1,.001)\n",
      "plot(r,p_r(r))\n",
      "show()"
     ],
     "language": "python",
     "metadata": {},
     "outputs": [
      {
       "output_type": "display_data",
       "png": "[encoded data removed]"
      }
     ],
     "prompt_number": 5
    },
    {
     "cell_type": "code",
     "collapsed": false,
     "input": [],
     "language": "python",
     "metadata": {},
     "outputs": []
    },
    {
     "cell_type": "code",
     "collapsed": false,
     "input": [
      "r=np.arange(0,100,1)\n",
      "p=p_r(r)\n",
      "print p\n",
      "import matplotlib.pyplot as plt\n",
      "from scipy import stats\n",
      "t=stats.rv_discrete(values=(r, p))\n",
      "print t\n"
     ],
     "language": "python",
     "metadata": {},
     "outputs": [
      {
       "output_type": "stream",
       "stream": "stdout",
       "text": [
        "[  7.31058579e-01   1.00000000e+00   1.34470711e+00   1.19202922e+00\n",
        "   8.06239844e-01   4.67641459e-01   2.47635484e-01   1.23631158e-01\n",
        "   5.92183276e-02   2.74987107e-02   1.24628522e-02   5.53853998e-03\n",
        "   2.42170617e-03   1.04450968e-03   4.45283887e-04   1.87925334e-04\n",
        "   7.86168723e-05   3.26351970e-05   1.34547970e-05   5.51325258e-06\n",
        "   2.24672136e-06   9.11029899e-07   3.67754180e-07   1.47841809e-07\n",
        "   5.92110455e-08   2.36323422e-08   9.40213800e-09   3.72963499e-09\n",
        "   1.47543012e-09   5.82192489e-10   2.29184275e-10   9.00203330e-11\n",
        "   3.52853904e-11   1.38039404e-11   5.39033127e-12   2.10125174e-12\n",
        "   8.17773644e-13   3.17774628e-13   1.23302538e-13   4.77776011e-14\n",
        "   1.84887069e-14   7.14573186e-15   2.75848706e-15   1.06366162e-15\n",
        "   4.09700882e-16   1.57645739e-16   6.05995184e-17   2.32726644e-17\n",
        "   8.92956453e-18   3.42324413e-18   1.31124570e-18   5.01860710e-19\n",
        "   1.91932576e-19   7.33488419e-20   2.80110177e-20   1.06897341e-20\n",
        "   4.07678693e-21   1.55379019e-21   5.91833576e-22   2.25293580e-22\n",
        "   8.57133934e-23   3.25917331e-23   1.23860534e-23   4.70470751e-24\n",
        "   1.78613222e-24   6.77770482e-25   2.57066945e-25   9.74564383e-26\n",
        "   3.69301821e-26   1.39882898e-26   5.29621310e-27   2.00442176e-27\n",
        "   7.58299109e-28   2.86763922e-28   1.08404064e-28   4.09645385e-29\n",
        "   1.54744857e-29   5.84351373e-30   2.20589825e-30   8.32442368e-31\n",
        "   3.14039124e-31   1.18434348e-31   4.46518292e-32   1.68295191e-32\n",
        "   6.34129737e-33   2.38869927e-33   8.99548652e-34   3.38665093e-34\n",
        "   1.27468095e-34   4.79645562e-35   1.80438722e-35   6.78628126e-36\n",
        "   2.55169704e-36   9.59232252e-37   3.60510599e-37   1.35460923e-37\n",
        "   5.08878153e-38   1.91125820e-38   7.17682943e-39   2.69435906e-39]\n",
        "<scipy.stats.distributions.rv_discrete object at 0x10c363390>\n"
       ]
      }
     ],
     "prompt_number": 16
    },
    {
     "cell_type": "code",
     "collapsed": false,
     "input": [
      "import matplotlib.pyplot as plt\n",
      "from scipy import stats\n",
      "xk = np.arange(7)\n",
      "pk = (0.1, 0.2, 0.3, 0.1, 0.1, 0.1, 0.1)\n",
      "custm = stats.rv_discrete(name='custm', values=(xk, pk))\n",
      "h = plt.plot(xk, custm.pmf(xk))\n",
      "R = custm.rvs(size=100)"
     ],
     "language": "python",
     "metadata": {},
     "outputs": [
      {
       "output_type": "display_data",
       "png": "[encoded data removed]"
      }
     ],
     "prompt_number": 2
    },
    {
     "cell_type": "code",
     "collapsed": false,
     "input": [
      "p0=1\n",
      "w=0\n",
      "R0=2.47#fm\n",
      "a=.531\n",
      "p_r=lambda r: p0*(1+(w*r**2)/R0)/(1+exp((r-R0)/a))\n",
      "r=np.arange(0,10,.01)\n"
     ],
     "language": "python",
     "metadata": {},
     "outputs": [],
     "prompt_number": 11
    },
    {
     "cell_type": "code",
     "collapsed": false,
     "input": [
      "sum(p_r(r))\n",
      "newp=p_r(r)/sum(p_r(r))\n",
      "sum(newp)"
     ],
     "language": "python",
     "metadata": {},
     "outputs": [
      {
       "output_type": "pyout",
       "prompt_number": 14,
       "text": [
        "0.99999999999999833"
       ]
      }
     ],
     "prompt_number": 14
    },
    {
     "cell_type": "code",
     "collapsed": false,
     "input": [
      "print newp"
     ],
     "language": "python",
     "metadata": {},
     "outputs": [
      {
       "output_type": "stream",
       "stream": "stdout",
       "text": [
        "[  3.99413284e-03   3.99341495e-03   3.99268368e-03   3.99193879e-03\n",
        "   3.99118002e-03   3.99040712e-03   3.98961984e-03   3.98881791e-03\n",
        "   3.98800107e-03   3.98716904e-03   3.98632155e-03   3.98545832e-03\n",
        "   3.98457906e-03   3.98368349e-03   3.98277131e-03   3.98184221e-03\n",
        "   3.98089590e-03   3.97993206e-03   3.97895037e-03   3.97795052e-03\n",
        "   3.97693218e-03   3.97589502e-03   3.97483869e-03   3.97376287e-03\n",
        "   3.97266718e-03   3.97155129e-03   3.97041483e-03   3.96925744e-03\n",
        "   3.96807873e-03   3.96687834e-03   3.96565587e-03   3.96441094e-03\n",
        "   3.96314314e-03   3.96185208e-03   3.96053733e-03   3.95919849e-03\n",
        "   3.95783513e-03   3.95644682e-03   3.95503311e-03   3.95359357e-03\n",
        "   3.95212774e-03   3.95063515e-03   3.94911536e-03   3.94756787e-03\n",
        "   3.94599221e-03   3.94438789e-03   3.94275441e-03   3.94109127e-03\n",
        "   3.93939795e-03   3.93767394e-03   3.93591871e-03   3.93413171e-03\n",
        "   3.93231241e-03   3.93046026e-03   3.92857469e-03   3.92665513e-03\n",
        "   3.92470101e-03   3.92271174e-03   3.92068672e-03   3.91862536e-03\n",
        "   3.91652703e-03   3.91439113e-03   3.91221702e-03   3.91000406e-03\n",
        "   3.90775160e-03   3.90545899e-03   3.90312555e-03   3.90075063e-03\n",
        "   3.89833353e-03   3.89587355e-03   3.89337001e-03   3.89082217e-03\n",
        "   3.88822933e-03   3.88559074e-03   3.88290568e-03   3.88017339e-03\n",
        "   3.87739310e-03   3.87456406e-03   3.87168547e-03   3.86875656e-03\n",
        "   3.86577652e-03   3.86274455e-03   3.85965983e-03   3.85652153e-03\n",
        "   3.85332881e-03   3.85008083e-03   3.84677673e-03   3.84341565e-03\n",
        "   3.83999670e-03   3.83651901e-03   3.83298168e-03   3.82938381e-03\n",
        "   3.82572447e-03   3.82200276e-03   3.81821774e-03   3.81436847e-03\n",
        "   3.81045399e-03   3.80647335e-03   3.80242558e-03   3.79830971e-03\n",
        "   3.79412475e-03   3.78986970e-03   3.78554357e-03   3.78114534e-03\n",
        "   3.77667400e-03   3.77212853e-03   3.76750788e-03   3.76281101e-03\n",
        "   3.75803689e-03   3.75318446e-03   3.74825265e-03   3.74324039e-03\n",
        "   3.73814662e-03   3.73297026e-03   3.72771021e-03   3.72236540e-03\n",
        "   3.71693472e-03   3.71141707e-03   3.70581135e-03   3.70011646e-03\n",
        "   3.69433128e-03   3.68845470e-03   3.68248560e-03   3.67642286e-03\n",
        "   3.67026537e-03   3.66401200e-03   3.65766164e-03   3.65121315e-03\n",
        "   3.64466541e-03   3.63801732e-03   3.63126774e-03   3.62441556e-03\n",
        "   3.61745966e-03   3.61039894e-03   3.60323229e-03   3.59595860e-03\n",
        "   3.58857678e-03   3.58108574e-03   3.57348439e-03   3.56577165e-03\n",
        "   3.55794647e-03   3.55000777e-03   3.54195451e-03   3.53378565e-03\n",
        "   3.52550017e-03   3.51709704e-03   3.50857528e-03   3.49993388e-03\n",
        "   3.49117188e-03   3.48228832e-03   3.47328227e-03   3.46415279e-03\n",
        "   3.45489900e-03   3.44552001e-03   3.43601495e-03   3.42638298e-03\n",
        "   3.41662330e-03   3.40673511e-03   3.39671764e-03   3.38657016e-03\n",
        "   3.37629194e-03   3.36588230e-03   3.35534059e-03   3.34466619e-03\n",
        "   3.33385850e-03   3.32291696e-03   3.31184104e-03   3.30063026e-03\n",
        "   3.28928416e-03   3.27780233e-03   3.26618439e-03   3.25442999e-03\n",
        "   3.24253885e-03   3.23051071e-03   3.21834535e-03   3.20604261e-03\n",
        "   3.19360237e-03   3.18102455e-03   3.16830912e-03   3.15545612e-03\n",
        "   3.14246559e-03   3.12933768e-03   3.11607255e-03   3.10267043e-03\n",
        "   3.08913160e-03   3.07545640e-03   3.06164520e-03   3.04769847e-03\n",
        "   3.03361671e-03   3.01940048e-03   3.00505040e-03   2.99056714e-03\n",
        "   2.97595147e-03   2.96120417e-03   2.94632611e-03   2.93131821e-03\n",
        "   2.91618148e-03   2.90091695e-03   2.88552574e-03   2.87000904e-03\n",
        "   2.85436809e-03   2.83860419e-03   2.82271872e-03   2.80671312e-03\n",
        "   2.79058889e-03   2.77434759e-03   2.75799086e-03   2.74152040e-03\n",
        "   2.72493795e-03   2.70824536e-03   2.69144450e-03   2.67453733e-03\n",
        "   2.65752587e-03   2.64041218e-03   2.62319840e-03   2.60588674e-03\n",
        "   2.58847946e-03   2.57097886e-03   2.55338733e-03   2.53570730e-03\n",
        "   2.51794125e-03   2.50009174e-03   2.48216135e-03   2.46415275e-03\n",
        "   2.44606862e-03   2.42791173e-03   2.40968486e-03   2.39139087e-03\n",
        "   2.37303264e-03   2.35461311e-03   2.33613525e-03   2.31760208e-03\n",
        "   2.29901665e-03   2.28038204e-03   2.26170138e-03   2.24297783e-03\n",
        "   2.22421456e-03   2.20541478e-03   2.18658174e-03   2.16771869e-03\n",
        "   2.14882891e-03   2.12991570e-03   2.11098238e-03   2.09203228e-03\n",
        "   2.07306874e-03   2.05409511e-03   2.03511475e-03   2.01613103e-03\n",
        "   1.99714731e-03   1.97816695e-03   1.95919332e-03   1.94022978e-03\n",
        "   1.92127968e-03   1.90234636e-03   1.88343315e-03   1.86454338e-03\n",
        "   1.84568032e-03   1.82684728e-03   1.80804750e-03   1.78928423e-03\n",
        "   1.77056068e-03   1.75188002e-03   1.73324541e-03   1.71465998e-03\n",
        "   1.69612681e-03   1.67764895e-03   1.65922942e-03   1.64087119e-03\n",
        "   1.62257720e-03   1.60435033e-03   1.58619344e-03   1.56810931e-03\n",
        "   1.55010071e-03   1.53217032e-03   1.51432081e-03   1.49655476e-03\n",
        "   1.47887473e-03   1.46128320e-03   1.44378260e-03   1.42637532e-03\n",
        "   1.40906366e-03   1.39184988e-03   1.37473619e-03   1.35772473e-03\n",
        "   1.34081756e-03   1.32401670e-03   1.30732411e-03   1.29074166e-03\n",
        "   1.27427120e-03   1.25791447e-03   1.24167317e-03   1.22554894e-03\n",
        "   1.20954334e-03   1.19365787e-03   1.17789397e-03   1.16225302e-03\n",
        "   1.14673632e-03   1.13134511e-03   1.11608058e-03   1.10094385e-03\n",
        "   1.08593595e-03   1.07105789e-03   1.05631059e-03   1.04169492e-03\n",
        "   1.02721167e-03   1.01286158e-03   9.98645349e-04   9.84563586e-04\n",
        "   9.70616857e-04   9.56805665e-04   9.43130459e-04   9.29591628e-04\n",
        "   9.16189508e-04   9.02924378e-04   8.89796466e-04   8.76805946e-04\n",
        "   8.63952937e-04   8.51237513e-04   8.38659694e-04   8.26219453e-04\n",
        "   8.13916714e-04   8.01751356e-04   7.89723212e-04   7.77832069e-04\n",
        "   7.66077674e-04   7.54459729e-04   7.42977897e-04   7.31631799e-04\n",
        "   7.20421020e-04   7.09345105e-04   6.98403564e-04   6.87595872e-04\n",
        "   6.76921468e-04   6.66379761e-04   6.55970125e-04   6.45691906e-04\n",
        "   6.35544418e-04   6.25526949e-04   6.15638757e-04   6.05879077e-04\n",
        "   5.96247115e-04   5.86742056e-04   5.77363061e-04   5.68109268e-04\n",
        "   5.58979795e-04   5.49973740e-04   5.41090183e-04   5.32328183e-04\n",
        "   5.23686785e-04   5.15165017e-04   5.06761891e-04   4.98476407e-04\n",
        "   4.90307549e-04   4.82254291e-04   4.74315593e-04   4.66490407e-04\n",
        "   4.58777673e-04   4.51176323e-04   4.43685280e-04   4.36303460e-04\n",
        "   4.29029772e-04   4.21863119e-04   4.14802399e-04   4.07846505e-04\n",
        "   4.00994325e-04   3.94244745e-04   3.87596648e-04   3.81048916e-04\n",
        "   3.74600426e-04   3.68250058e-04   3.61996689e-04   3.55839198e-04\n",
        "   3.49776463e-04   3.43807364e-04   3.37930783e-04   3.32145602e-04\n",
        "   3.26450709e-04   3.20844993e-04   3.15327346e-04   3.09896664e-04\n",
        "   3.04551847e-04   2.99291802e-04   2.94115436e-04   2.89021667e-04\n",
        "   2.84009414e-04   2.79077603e-04   2.74225168e-04   2.69451046e-04\n",
        "   2.64754184e-04   2.60133535e-04   2.55588056e-04   2.51116717e-04\n",
        "   2.46718490e-04   2.42392358e-04   2.38137312e-04   2.33952350e-04\n",
        "   2.29836477e-04   2.25788710e-04   2.21808072e-04   2.17893596e-04\n",
        "   2.14044321e-04   2.10259298e-04   2.06537587e-04   2.02878256e-04\n",
        "   1.99280382e-04   1.95743051e-04   1.92265361e-04   1.88846415e-04\n",
        "   1.85485330e-04   1.82181231e-04   1.78933250e-04   1.75740532e-04\n",
        "   1.72602230e-04   1.69517507e-04   1.66485536e-04   1.63505499e-04\n",
        "   1.60576588e-04   1.57698005e-04   1.54868960e-04   1.52088676e-04\n",
        "   1.49356382e-04   1.46671318e-04   1.44032735e-04   1.41439891e-04\n",
        "   1.38892056e-04   1.36388507e-04   1.33928533e-04   1.31511431e-04\n",
        "   1.29136507e-04   1.26803076e-04   1.24510465e-04   1.22258006e-04\n",
        "   1.20045044e-04   1.17870930e-04   1.15735027e-04   1.13636704e-04\n",
        "   1.11575341e-04   1.09550326e-04   1.07561054e-04   1.05606933e-04\n",
        "   1.03687375e-04   1.01801803e-04   9.99496489e-05   9.81303506e-05\n",
        "   9.63433561e-05   9.45881211e-05   9.28641094e-05   9.11707929e-05\n",
        "   8.95076514e-05   8.78741725e-05   8.62698517e-05   8.46941921e-05\n",
        "   8.31467045e-05   8.16269070e-05   8.01343255e-05   7.86684930e-05\n",
        "   7.72289498e-05   7.58152434e-05   7.44269286e-05   7.30635668e-05\n",
        "   7.17247266e-05   7.04099835e-05   6.91189196e-05   6.78511237e-05\n",
        "   6.66061911e-05   6.53837239e-05   6.41833303e-05   6.30046249e-05\n",
        "   6.18472287e-05   6.07107687e-05   5.95948780e-05   5.84991957e-05\n",
        "   5.74233670e-05   5.63670426e-05   5.53298792e-05   5.43115391e-05\n",
        "   5.33116902e-05   5.23300059e-05   5.13661650e-05   5.04198517e-05\n",
        "   4.94907555e-05   4.85785711e-05   4.76829982e-05   4.68037417e-05\n",
        "   4.59405115e-05   4.50930222e-05   4.42609934e-05   4.34441494e-05\n",
        "   4.26422192e-05   4.18549365e-05   4.10820392e-05   4.03232702e-05\n",
        "   3.95783763e-05   3.88471090e-05   3.81292239e-05   3.74244808e-05\n",
        "   3.67326437e-05   3.60534806e-05   3.53867635e-05   3.47322686e-05\n",
        "   3.40897756e-05   3.34590682e-05   3.28399340e-05   3.22321640e-05\n",
        "   3.16355530e-05   3.10498995e-05   3.04750053e-05   2.99106758e-05\n",
        "   2.93567198e-05   2.88129494e-05   2.82791800e-05   2.77552303e-05\n",
        "   2.72409221e-05   2.67360806e-05   2.62405337e-05   2.57541126e-05\n",
        "   2.52766514e-05   2.48079871e-05   2.43479597e-05   2.38964120e-05\n",
        "   2.34531895e-05   2.30181405e-05   2.25911161e-05   2.21719699e-05\n",
        "   2.17605581e-05   2.13567397e-05   2.09603758e-05   2.05713304e-05\n",
        "   2.01894698e-05   1.98146625e-05   1.94467796e-05   1.90856944e-05\n",
        "   1.87312825e-05   1.83834217e-05   1.80419920e-05   1.77068756e-05\n",
        "   1.73779568e-05   1.70551220e-05   1.67382596e-05   1.64272599e-05\n",
        "   1.61220155e-05   1.58224207e-05   1.55283717e-05   1.52397666e-05\n",
        "   1.49565055e-05   1.46784902e-05   1.44056241e-05   1.41378126e-05\n",
        "   1.38749628e-05   1.36169832e-05   1.33637844e-05   1.31152783e-05\n",
        "   1.28713785e-05   1.26320001e-05   1.23970599e-05   1.21664761e-05\n",
        "   1.19401684e-05   1.17180579e-05   1.15000673e-05   1.12861206e-05\n",
        "   1.10761432e-05   1.08700619e-05   1.06678047e-05   1.04693010e-05\n",
        "   1.02744816e-05   1.00832785e-05   9.89562477e-06   9.71145495e-06\n",
        "   9.53070463e-06   9.35331062e-06   9.17921090e-06   9.00834456e-06\n",
        "   8.84065182e-06   8.67607400e-06   8.51455347e-06   8.35603370e-06\n",
        "   8.20045915e-06   8.04777533e-06   7.89792874e-06   7.75086687e-06\n",
        "   7.60653816e-06   7.46489200e-06   7.32587873e-06   7.18944957e-06\n",
        "   7.05555667e-06   6.92415304e-06   6.79519255e-06   6.66862994e-06\n",
        "   6.54442077e-06   6.42252141e-06   6.30288905e-06   6.18548166e-06\n",
        "   6.07025798e-06   5.95717752e-06   5.84620054e-06   5.73728801e-06\n",
        "   5.63040165e-06   5.52550386e-06   5.42255775e-06   5.32152710e-06\n",
        "   5.22237636e-06   5.12507066e-06   5.02957573e-06   4.93585797e-06\n",
        "   4.84388438e-06   4.75362258e-06   4.66504079e-06   4.57810781e-06\n",
        "   4.49279302e-06   4.40906636e-06   4.32689833e-06   4.24625999e-06\n",
        "   4.16712291e-06   4.08945920e-06   4.01324149e-06   3.93844290e-06\n",
        "   3.86503707e-06   3.79299811e-06   3.72230061e-06   3.65291965e-06\n",
        "   3.58483075e-06   3.51800988e-06   3.45243349e-06   3.38807842e-06\n",
        "   3.32492197e-06   3.26294186e-06   3.20211620e-06   3.14242353e-06\n",
        "   3.08384278e-06   3.02635326e-06   2.96993469e-06   2.91456713e-06\n",
        "   2.86023104e-06   2.80690723e-06   2.75457686e-06   2.70322146e-06\n",
        "   2.65282288e-06   2.60336332e-06   2.55482530e-06   2.50719168e-06\n",
        "   2.46044563e-06   2.41457062e-06   2.36955045e-06   2.32536921e-06\n",
        "   2.28201128e-06   2.23946133e-06   2.19770433e-06   2.15672552e-06\n",
        "   2.11651040e-06   2.07704476e-06   2.03831465e-06   2.00030637e-06\n",
        "   1.96300648e-06   1.92640179e-06   1.89047936e-06   1.85522648e-06\n",
        "   1.82063069e-06   1.78667974e-06   1.75336164e-06   1.72066458e-06\n",
        "   1.68857701e-06   1.65708758e-06   1.62618514e-06   1.59585876e-06\n",
        "   1.56609771e-06   1.53689146e-06   1.50822968e-06   1.48010222e-06\n",
        "   1.45249912e-06   1.42541063e-06   1.39882715e-06   1.37273928e-06\n",
        "   1.34713778e-06   1.32201359e-06   1.29735781e-06   1.27316173e-06\n",
        "   1.24941677e-06   1.22611452e-06   1.20324675e-06   1.18080534e-06\n",
        "   1.15878237e-06   1.13717002e-06   1.11596066e-06   1.09514676e-06\n",
        "   1.07472096e-06   1.05467603e-06   1.03500486e-06   1.01570050e-06\n",
        "   9.96756104e-07   9.78164964e-07   9.59920496e-07   9.42016240e-07\n",
        "   9.24445854e-07   9.07203115e-07   8.90281916e-07   8.73676264e-07\n",
        "   8.57380276e-07   8.41388182e-07   8.25694315e-07   8.10293117e-07\n",
        "   7.95179132e-07   7.80347005e-07   7.65791484e-07   7.51507410e-07\n",
        "   7.37489724e-07   7.23733460e-07   7.10233743e-07   6.96985792e-07\n",
        "   6.83984912e-07   6.71226498e-07   6.58706027e-07   6.46419066e-07\n",
        "   6.34361259e-07   6.22528334e-07   6.10916100e-07   5.99520439e-07\n",
        "   5.88337316e-07   5.77362767e-07   5.66592902e-07   5.56023906e-07\n",
        "   5.45652033e-07   5.35473608e-07   5.25485023e-07   5.15682739e-07\n",
        "   5.06063281e-07   4.96623241e-07   4.87359273e-07   4.78268094e-07\n",
        "   4.69346482e-07   4.60591274e-07   4.51999368e-07   4.43567719e-07\n",
        "   4.35293337e-07   4.27173291e-07   4.19204702e-07   4.11384746e-07\n",
        "   4.03710650e-07   3.96179696e-07   3.88789212e-07   3.81536581e-07\n",
        "   3.74419231e-07   3.67434638e-07   3.60580328e-07   3.53853870e-07\n",
        "   3.47252881e-07   3.40775020e-07   3.34417990e-07   3.28179539e-07\n",
        "   3.22057455e-07   3.16049567e-07   3.10153746e-07   3.04367902e-07\n",
        "   2.98689983e-07   2.93117977e-07   2.87649908e-07   2.82283838e-07\n",
        "   2.77017865e-07   2.71850121e-07   2.66778774e-07   2.61802027e-07\n",
        "   2.56918115e-07   2.52125307e-07   2.47421903e-07   2.42806235e-07\n",
        "   2.38276669e-07   2.33831596e-07   2.29469443e-07   2.25188661e-07\n",
        "   2.20987733e-07   2.16865170e-07   2.12819510e-07   2.08849319e-07\n",
        "   2.04953188e-07   2.01129737e-07   1.97377610e-07   1.93695477e-07\n",
        "   1.90082032e-07   1.86535993e-07   1.83056104e-07   1.79641130e-07\n",
        "   1.76289861e-07   1.73001108e-07   1.69773706e-07   1.66606510e-07\n",
        "   1.63498397e-07   1.60448264e-07   1.57455031e-07   1.54517635e-07\n",
        "   1.51635037e-07   1.48806212e-07   1.46030158e-07   1.43305892e-07\n",
        "   1.40632446e-07   1.38008873e-07   1.35434242e-07   1.32907641e-07\n",
        "   1.30428174e-07   1.27994961e-07   1.25607140e-07   1.23263863e-07\n",
        "   1.20964300e-07   1.18707636e-07   1.16493070e-07   1.14319818e-07\n",
        "   1.12187107e-07   1.10094182e-07   1.08040302e-07   1.06024736e-07\n",
        "   1.04046772e-07   1.02105707e-07   1.00200853e-07   9.83315340e-08\n",
        "   9.64970880e-08   9.46968642e-08   9.29302241e-08   9.11965413e-08\n",
        "   8.94952008e-08   8.78255995e-08   8.61871452e-08   8.45792569e-08\n",
        "   8.30013643e-08   8.14529080e-08   7.99333388e-08   7.84421179e-08\n",
        "   7.69787163e-08   7.55426152e-08   7.41333052e-08   7.27502866e-08\n",
        "   7.13930689e-08   7.00611708e-08   6.87541200e-08   6.74714529e-08\n",
        "   6.62127146e-08   6.49774589e-08   6.37652475e-08   6.25756507e-08\n",
        "   6.14082465e-08   6.02626209e-08   5.91383677e-08   5.80350881e-08\n",
        "   5.69523909e-08   5.58898921e-08   5.48472150e-08   5.38239897e-08\n",
        "   5.28198533e-08   5.18344498e-08   5.08674297e-08   4.99184500e-08\n",
        "   4.89871742e-08   4.80732721e-08   4.71764194e-08   4.62962982e-08\n",
        "   4.54325963e-08   4.45850074e-08   4.37532310e-08   4.29369719e-08\n",
        "   4.21359409e-08   4.13498536e-08   4.05784315e-08   3.98214008e-08\n",
        "   3.90784932e-08   3.83494451e-08   3.76339980e-08   3.69318982e-08\n",
        "   3.62428966e-08   3.55667489e-08   3.49032153e-08   3.42520605e-08\n",
        "   3.36130536e-08   3.29859679e-08   3.23705810e-08   3.17666747e-08\n",
        "   3.11740348e-08   3.05924511e-08   3.00217174e-08   2.94616312e-08\n",
        "   2.89119939e-08   2.83726106e-08   2.78432900e-08   2.73238444e-08\n",
        "   2.68140895e-08   2.63138446e-08   2.58229321e-08   2.53411781e-08\n",
        "   2.48684117e-08   2.44044652e-08   2.39491741e-08   2.35023768e-08\n",
        "   2.30639150e-08   2.26336331e-08   2.22113785e-08   2.17970015e-08\n",
        "   2.13903550e-08   2.09912950e-08   2.05996799e-08   2.02153706e-08\n",
        "   1.98382311e-08   1.94681275e-08   1.91049285e-08   1.87485054e-08\n",
        "   1.83987316e-08   1.80554833e-08   1.77186386e-08   1.73880781e-08\n",
        "   1.70636845e-08   1.67453429e-08   1.64329402e-08   1.61263657e-08\n",
        "   1.58255106e-08   1.55302683e-08   1.52405341e-08   1.49562052e-08\n",
        "   1.46771807e-08   1.44033617e-08   1.41346510e-08   1.38709535e-08\n",
        "   1.36121755e-08   1.33582253e-08   1.31090128e-08   1.28644496e-08\n",
        "   1.26244490e-08   1.23889258e-08   1.21577966e-08   1.19309794e-08\n",
        "   1.17083936e-08   1.14899605e-08   1.12756024e-08   1.10652434e-08\n",
        "   1.08588089e-08   1.06562257e-08   1.04574218e-08   1.02623269e-08\n",
        "   1.00708716e-08   9.88298820e-09   9.69860993e-09   9.51767144e-09\n",
        "   9.34010856e-09   9.16585830e-09   8.99485887e-09   8.82704962e-09\n",
        "   8.66237103e-09   8.50076470e-09   8.34217332e-09   8.18654063e-09\n",
        "   8.03381144e-09   7.88393158e-09   7.73684789e-09   7.59250821e-09\n",
        "   7.45086135e-09   7.31185706e-09   7.17544606e-09   7.04157995e-09\n",
        "   6.91021126e-09   6.78129340e-09   6.65478064e-09   6.53062812e-09\n",
        "   6.40879181e-09   6.28922848e-09   6.17189575e-09   6.05675198e-09\n",
        "   5.94375635e-09   5.83286878e-09   5.72404994e-09   5.61726124e-09\n",
        "   5.51246480e-09   5.40962346e-09   5.30870074e-09   5.20966084e-09\n",
        "   5.11246865e-09   5.01708968e-09   4.92349011e-09   4.83163676e-09\n",
        "   4.74149702e-09   4.65303895e-09   4.56623116e-09   4.48104287e-09\n",
        "   4.39744386e-09   4.31540449e-09   4.23489565e-09   4.15588880e-09\n",
        "   4.07835591e-09   4.00226949e-09   3.92760254e-09   3.85432859e-09\n",
        "   3.78242164e-09   3.71185621e-09   3.64260725e-09   3.57465021e-09\n",
        "   3.50796098e-09   3.44251592e-09   3.37829181e-09   3.31526588e-09\n",
        "   3.25341576e-09   3.19271953e-09   3.13315566e-09   3.07470302e-09\n",
        "   3.01734088e-09   2.96104890e-09   2.90580710e-09   2.85159591e-09]\n"
       ]
      }
     ],
     "prompt_number": 26
    },
    {
     "cell_type": "code",
     "collapsed": false,
     "input": [
      "plot(r,p_r(r))"
     ],
     "language": "python",
     "metadata": {},
     "outputs": [
      {
       "output_type": "pyout",
       "prompt_number": 19,
       "text": [
        "[<matplotlib.lines.Line2D at 0x10c4b4890>]"
       ]
      },
      {
       "output_type": "display_data",
       "png": "[encoded data removed]"
      }
     ],
     "prompt_number": 19
    },
    {
     "cell_type": "code",
     "collapsed": false,
     "input": [
      "plot(r,newp)"
     ],
     "language": "python",
     "metadata": {},
     "outputs": [
      {
       "output_type": "pyout",
       "prompt_number": 17,
       "text": [
        "[<matplotlib.lines.Line2D at 0x10d00d510>]"
       ]
      },
      {
       "output_type": "display_data",
       "png": "[encoded data removed]"
      }
     ],
     "prompt_number": 17
    },
    {
     "cell_type": "code",
     "collapsed": false,
     "input": [
      "import matplotlib.pyplot as plt\n",
      "from scipy import stats\n",
      "cutm = stats.rv_discrete(name='cutm', values=(r, newp))\n",
      "h = plt.plot(r, newp)\n",
      "R = cutm.rvs(size=1000)\n",
      "print R"
     ],
     "language": "python",
     "metadata": {},
     "outputs": [
      {
       "output_type": "stream",
       "stream": "stdout",
       "text": [
        "[0 2 0 1 0 0 1 0 2 1 2 1 0 1 3 0 0 2 2 0 0 1 1 0 1 0 1 0 3 0 3 0 1 2 3 0 0\n",
        " 0 0 2 2 1 0 1 3 0 2 1 1 2 1 1 1 0 0 3 0 2 0 0 2 1 2 2 3 1 0 2 1 2 1 0 0 1\n",
        " 2 0 0 0 2 0 0 1 0 1 0 2 1 0 0 0 1 1 2 1 2 1 1 0 0 1 1 2 1 0 3 0 5 4 0 2 1\n",
        " 0 0 1 1 2 1 1 0 2 2 2 2 1 0 0 2 0 2 3 0 1 1 0 0 0 0 1 1 1 1 1 1 0 2 2 1 0\n",
        " 0 2 2 0 0 1 2 0 2 0 0 0 2 0 2 2 2 5 1 2 1 0 0 1 0 0 1 3 0 2 0 1 0 1 1 0 0\n",
        " 2 1 1 0 1 0 1 0 1 1 1 2 1 0 1 0 0 0 1 2 0 2 3 0 1 1 0 3 1 0 1 3 0 0 1 2 1\n",
        " 1 0 1 1 1 1 1 1 0 0 2 1 0 1 0 0 2 0 1 0 1 2 3 0 0 2 1 3 3 0 0 0 1 2 1 2 0\n",
        " 2 1 0 3 0 2 1 2 2 0 3 0 0 3 0 2 2 0 2 0 0 2 0 0 2 1 0 0 1 1 0 0 1 0 2 0 1\n",
        " 0 1 2 2 0 1 0 0 0 1 1 1 0 0 2 2 1 3 0 1 0 1 2 1 0 1 0 2 2 0 1 2 2 0 1 1 0\n",
        " 0 2 1 1 1 0 2 0 0 3 1 0 0 1 0 0 2 1 1 1 1 1 1 2 0 0 0 0 0 0 2 2 2 0 1 1 1\n",
        " 2 1 0 2 2 4 3 2 0 2 0 0 0 2 4 1 1 3 1 3 1 1 0 2 0 1 2 2 0 0 1 0 1 0 0 0 0\n",
        " 0 0 0 0 2 0 3 0 0 2 3 0 2 1 1 2 1 1 1 1 0 0 1 2 0 3 0 1 1 0 0 0 0 0 0 2 1\n",
        " 0 0 1 0 1 0 0 2 1 1 2 0 0 0 2 0 3 2 3 0 2 1 0 3 1 2 2 0 0 3 1 1 2 2 0 2 1\n",
        " 1 1 3 1 0 1 1 0 2 0 0 2 0 2 0 1 0 0 1 2 2 0 0 1 1 1 0 2 1 3 0 0 1 2 1 1 1\n",
        " 1 3 0 1 3 0 1 2 0 3 0 1 1 0 0 0 0 1 1 0 0 0 1 3 1 2 0 0 1 0 1 1 1 1 2 2 0\n",
        " 3 2 1 0 1 1 2 3 0 1 1 1 0 0 1 0 1 1 3 1 2 1 0 2 0 4 1 2 0 0 1 0 0 1 2 2 0\n",
        " 2 0 0 2 0 0 1 1 3 0 3 2 1 0 0 0 1 0 3 0 1 0 3 0 0 0 0 2 1 1 0 1 1 1 0 1 1\n",
        " 1 1 2 2 2 2 1 2 1 2 0 1 3 0 0 1 1 3 1 1 1 0 2 1 3 0 2 3 1 0 2 0 2 1 0 2 0\n",
        " 1 2 0 1 1 1 1 0 1 3 2 0 0 1 0 0 1 1 0 0 1 0 0 2 2 1 0 1 0 3 1 1 1 2 0 1 0\n",
        " 0 0 0 0 0 1 3 1 2 1 2 0 0 1 1 0 0 1 0 3 0 0 2 0 2 1 0 0 1 0 4 0 2 1 1 1 2\n",
        " 1 2 2 1 1 0 1 0 0 1 1 2 2 2 0 2 0 0 0 2 2 0 2 2 1 1 0 0 1 0 1 1 1 2 0 1 0\n",
        " 1 0 2 2 2 1 2 1 2 0 1 0 0 0 0 1 0 1 0 1 3 3 0 2 0 2 1 1 1 0 0 0 0 0 2 1 2\n",
        " 0 3 2 0 0 0 0 3 2 1 0 0 2 1 0 3 0 2 0 0 0 0 0 2 2 1 2 2 0 0 1 3 0 1 2 0 2\n",
        " 0 0 0 1 1 1 2 2 0 2 2 1 3 0 1 2 0 2 1 2 1 0 1 2 2 3 1 0 1 1 1 0 3 2 0 1 0\n",
        " 1 0 2 0 1 0 0 1 1 2 2 1 1 1 0 0 1 1 2 3 3 2 0 1 1 2 1 1 0 4 0 1 1 3 0 3 0\n",
        " 1 1 1 0 1 0 1 3 2 0 3 1 2 0 0 2 2 1 0 2 2 0 0 3 1 0 0 1 0 0 0 0 1 1 0 1 0\n",
        " 1 1 1 1 0 0 0 2 1 0 2 1 2 1 2 0 1 1 1 0 1 2 2 0 1 0 1 1 1 0 2 1 1 0 0 1 2\n",
        " 1]\n"
       ]
      },
      {
       "output_type": "display_data",
       "png": "[encoded data removed]"
      }
     ],
     "prompt_number": 29
    },
    {
     "cell_type": "code",
     "collapsed": false,
     "input": [],
     "language": "python",
     "metadata": {},
     "outputs": []
    }
   ],
   "metadata": {}
  }
 ]
}