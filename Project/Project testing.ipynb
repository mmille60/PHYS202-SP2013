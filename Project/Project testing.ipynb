{
 "metadata": {
  "name": "Project testing"
 },
 "nbformat": 3,
 "nbformat_minor": 0,
 "worksheets": [
  {
   "cells": [
    {
     "cell_type": "code",
     "collapsed": false,
     "input": [
      "p0=1\n",
      "w=1\n",
      "R0=1\n",
      "a=1\n",
      "p_r=lambda r: p0*(1+(w*r**2)/R0)/(1+exp((r-R0)/a))\n",
      "\n",
      "\n",
      "\n"
     ],
     "language": "python",
     "metadata": {},
     "outputs": [],
     "prompt_number": 3
    },
    {
     "cell_type": "code",
     "collapsed": false,
     "input": [
      "import random\n",
      "import numpy as np"
     ],
     "language": "python",
     "metadata": {},
     "outputs": [],
     "prompt_number": 12
    },
    {
     "cell_type": "code",
     "collapsed": false,
     "input": [
      "def generate(N,R):\n",
      "    rando=np.zeros(N)\n",
      "    for i in range(0,N):\n",
      "        rando[i]=random.uniform(0,1.1)*R\n",
      "    return rando"
     ],
     "language": "python",
     "metadata": {},
     "outputs": [],
     "prompt_number": 17
    },
    {
     "cell_type": "code",
     "collapsed": false,
     "input": [
      "print generate(10,10)"
     ],
     "language": "python",
     "metadata": {},
     "outputs": [
      {
       "output_type": "stream",
       "stream": "stdout",
       "text": [
        "[ 6.05224917  5.75243183  7.56647495  2.41738958  0.28892727  3.93108663\n",
        "  5.1503426   2.15962295  0.97123292  8.38606097]\n"
       ]
      }
     ],
     "prompt_number": 19
    },
    {
     "cell_type": "code",
     "collapsed": false,
     "input": [
      "def rando_radius(N,R):\n",
      "    r=np.arange(0,R,.001)\n",
      "    rando=np.zeros(N)\n",
      "\n",
      "    for i in range(0,N):\n",
      "        rando[i]=random.uniform(0,1.1)*R\n",
      "    #area=pi*R**2 \n",
      "    \"\"\"for i in range(0,len(r)):\n",
      "        az=np.zeros(len(r))\n",
      "        t=0\n",
      "        for i in range(0,len(r)):\n",
      "            az[t]=random.uniform(0,1.1)*2*pi\n",
      "            t+=1\n",
      "    rad=p_r(r)\n",
      "    return (az,rad)\"\"\"\n",
      "    return rando"
     ],
     "language": "python",
     "metadata": {},
     "outputs": [],
     "prompt_number": 20
    },
    {
     "cell_type": "code",
     "collapsed": false,
     "input": [
      "def dencity(r):\n",
      "    for i in range(0,N):\n",
      "        az=np.zeros(len(r))\n",
      "        t=0\n",
      "        for i in range(0,len(r)):\n",
      "            az[t]=random.uniform(0,1.1)*2*pi\n",
      "            t+=1\n",
      "    rad=p_r(r)\n",
      "    return \n"
     ],
     "language": "python",
     "metadata": {},
     "outputs": [],
     "prompt_number": 22
    },
    {
     "cell_type": "code",
     "collapsed": false,
     "input": [
      "r=np.arange(0,1,.001)\n",
      "plot(r,p_r(r))\n",
      "show()"
     ],
     "language": "python",
     "metadata": {},
     "outputs": [
      {
       "output_type": "display_data",
       "png": "[encoded data removed]"
      }
     ],
     "prompt_number": 5
    },
    {
     "cell_type": "code",
     "collapsed": false,
     "input": [],
     "language": "python",
     "metadata": {},
     "outputs": []
    },
    {
     "cell_type": "code",
     "collapsed": false,
     "input": [
      "r=np.arange(0,100,1)\n",
      "p=p_r(r)\n",
      "print p\n",
      "import matplotlib.pyplot as plt\n",
      "from scipy import stats\n",
      "t=stats.rv_discrete(values=(r, p))\n",
      "print t\n"
     ],
     "language": "python",
     "metadata": {},
     "outputs": [
      {
       "output_type": "stream",
       "stream": "stdout",
       "text": [
        "[  7.31058579e-01   1.00000000e+00   1.34470711e+00   1.19202922e+00\n",
        "   8.06239844e-01   4.67641459e-01   2.47635484e-01   1.23631158e-01\n",
        "   5.92183276e-02   2.74987107e-02   1.24628522e-02   5.53853998e-03\n",
        "   2.42170617e-03   1.04450968e-03   4.45283887e-04   1.87925334e-04\n",
        "   7.86168723e-05   3.26351970e-05   1.34547970e-05   5.51325258e-06\n",
        "   2.24672136e-06   9.11029899e-07   3.67754180e-07   1.47841809e-07\n",
        "   5.92110455e-08   2.36323422e-08   9.40213800e-09   3.72963499e-09\n",
        "   1.47543012e-09   5.82192489e-10   2.29184275e-10   9.00203330e-11\n",
        "   3.52853904e-11   1.38039404e-11   5.39033127e-12   2.10125174e-12\n",
        "   8.17773644e-13   3.17774628e-13   1.23302538e-13   4.77776011e-14\n",
        "   1.84887069e-14   7.14573186e-15   2.75848706e-15   1.06366162e-15\n",
        "   4.09700882e-16   1.57645739e-16   6.05995184e-17   2.32726644e-17\n",
        "   8.92956453e-18   3.42324413e-18   1.31124570e-18   5.01860710e-19\n",
        "   1.91932576e-19   7.33488419e-20   2.80110177e-20   1.06897341e-20\n",
        "   4.07678693e-21   1.55379019e-21   5.91833576e-22   2.25293580e-22\n",
        "   8.57133934e-23   3.25917331e-23   1.23860534e-23   4.70470751e-24\n",
        "   1.78613222e-24   6.77770482e-25   2.57066945e-25   9.74564383e-26\n",
        "   3.69301821e-26   1.39882898e-26   5.29621310e-27   2.00442176e-27\n",
        "   7.58299109e-28   2.86763922e-28   1.08404064e-28   4.09645385e-29\n",
        "   1.54744857e-29   5.84351373e-30   2.20589825e-30   8.32442368e-31\n",
        "   3.14039124e-31   1.18434348e-31   4.46518292e-32   1.68295191e-32\n",
        "   6.34129737e-33   2.38869927e-33   8.99548652e-34   3.38665093e-34\n",
        "   1.27468095e-34   4.79645562e-35   1.80438722e-35   6.78628126e-36\n",
        "   2.55169704e-36   9.59232252e-37   3.60510599e-37   1.35460923e-37\n",
        "   5.08878153e-38   1.91125820e-38   7.17682943e-39   2.69435906e-39]\n",
        "<scipy.stats.distributions.rv_discrete object at 0x10c363390>\n"
       ]
      }
     ],
     "prompt_number": 16
    },
    {
     "cell_type": "code",
     "collapsed": false,
     "input": [],
     "language": "python",
     "metadata": {},
     "outputs": []
    }
   ],
   "metadata": {}
  }
 ]
}