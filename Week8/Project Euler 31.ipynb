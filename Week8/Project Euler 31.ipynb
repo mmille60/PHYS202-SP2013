{
 "metadata": {
  "name": "Project Euler 31"
 },
 "nbformat": 3,
 "nbformat_minor": 0,
 "worksheets": [
  {
   "cells": [
    {
     "cell_type": "markdown",
     "metadata": {},
     "source": [
      "Coin sums\n",
      "==\n",
      "Problem 31\n",
      "=====\n",
      "In England the currency is made up of pound, \u00a3, and pence, p, and there are eight coins in general circulation:\n",
      "\n",
      "1p, 2p, 5p, 10p, 20p, 50p, \u00a31 (100p) and \u00a32 (200p).\n",
      "\n",
      "It is possible to make \u00a32 in the following way:\n",
      "\n",
      "1x\u00a31 + 1x50p + 2x20p + 1x5p + 1x2p + 3x1p\n",
      "\n",
      "How many different ways can \u00a32 be made using any number of coins?"
     ]
    },
    {
     "cell_type": "code",
     "collapsed": false,
     "input": [
      "count = 0#starts the count\n",
      "for p100 in range(0, 201, 100):#for loop for 100 value coint\n",
      "    for p50 in range(0, 201 - (p100), 50):#for loop for 50 value coin\n",
      "        for p20 in range(0, 201 - ( p100 + p50), 20):#20 vaalue coin\n",
      "            for p10 in range(0, 201 - ( p100 + p50 + p20), 10):#10 value coin\n",
      "                for p5 in range(0, 201 - ( p100 + p50 + p20 + p10), 5):#5 value coin\n",
      "                    for p2 in range(0, 201 - ( p100+ p50 + p20 + p10 + p5), 2):#2 value \n",
      "                        for p1 in range(0, 201 - ( p100 + p50 + p20 + p10 + p5 + p2), 1):#1 value\n",
      "                            if p100 + p50 + p20 + p10 + p5 + p2 + p1  == 200:#adds together and check with 200\n",
      "                                count += 1\n",
      "count+=1#adds case for the 200p coin\n",
      "print count"
     ],
     "language": "python",
     "metadata": {},
     "outputs": [
      {
       "output_type": "stream",
       "stream": "stdout",
       "text": [
        "73682\n"
       ]
      }
     ],
     "prompt_number": 23
    },
    {
     "cell_type": "markdown",
     "metadata": {},
     "source": [
      "73682 is the number of ways you can arrange the change of the european curencey to make 2 pounds. This was checked with project euler and was determined to be corecct.\n",
      "--"
     ]
    },
    {
     "cell_type": "code",
     "collapsed": false,
     "input": [],
     "language": "python",
     "metadata": {},
     "outputs": []
    },
    {
     "cell_type": "markdown",
     "metadata": {},
     "source": [
      "The bellow is a faster way to solve the problem that I found on stackoverflow.com after I had completed the problem and was interested in different solutions. I wanted to save the below solution for future reference\n"
     ]
    },
    {
     "cell_type": "code",
     "collapsed": false,
     "input": [
      "ways = [0]*201\n",
      "ways[0] = 1\n",
      "for x in [1,2,5,10,20,50,100,200]:\n",
      "    for i in xrange(x, 201):\n",
      "        ways[i] += ways[i-x]\n",
      "print ways[200]\n"
     ],
     "language": "python",
     "metadata": {},
     "outputs": [
      {
       "output_type": "stream",
       "stream": "stdout",
       "text": [
        "73682\n"
       ]
      }
     ],
     "prompt_number": 8
    },
    {
     "cell_type": "code",
     "collapsed": false,
     "input": [],
     "language": "python",
     "metadata": {},
     "outputs": []
    }
   ],
   "metadata": {}
  }
 ]
}