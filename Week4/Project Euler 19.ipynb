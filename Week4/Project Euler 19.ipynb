{
 "metadata": {
  "name": "Project Euler 19"
 },
 "nbformat": 3,
 "nbformat_minor": 0,
 "worksheets": [
  {
   "cells": [
    {
     "cell_type": "markdown",
     "metadata": {},
     "source": [
      "Project Euler 19\n",
      "===="
     ]
    },
    {
     "cell_type": "code",
     "collapsed": false,
     "input": [
      "\"\"\"Project Euler 19 actual solution\"\"\"\n",
      "mounths = [31, 28, 31, 30, 31, 30, 31, 31, 30, 31, 30, 31]#gives the number of days in each mounth\n",
      "day_of_the_week =1 #1901 starts on a tuesday\n",
      "sundays = 0#count of sundays\n",
      "for year in range(1901,2000+1):\n",
      "    if year % 4 == 0 and year % 100 != 0 or year % 400 == 0:#sets the condions for leap years\n",
      "        leap = True\n",
      "    else:\n",
      "        leap = False\n",
      "    for i in mounths:#runs through each mounths of the year\n",
      "        if day_of_the_week==6:\n",
      "            sundays+=1\n",
      "        if mounths == 28 and leap == True:\n",
      "            months = 29\n",
      "        day_of_the_week = (day_of_the_week + i) % 7\n",
      "print sundays\n",
      "    "
     ],
     "language": "python",
     "metadata": {},
     "outputs": [
      {
       "output_type": "stream",
       "stream": "stdout",
       "text": [
        "171\n"
       ]
      }
     ],
     "prompt_number": 9
    },
    {
     "cell_type": "markdown",
     "metadata": {},
     "source": [
      "There are 171 sundays that fall on the first of the mounth between 1990 and 2000\n",
      "--\n",
      "checked with project euler this was corect"
     ]
    },
    {
     "cell_type": "markdown",
     "metadata": {},
     "source": [
      "Note the bellow is just for practice trying diferent solutions to the problem.\n",
      "---"
     ]
    },
    {
     "cell_type": "code",
     "collapsed": false,
     "input": [
      "\n",
      "\n",
      "#just for fun this gives you the total number of sundays between 1990 and end year\n",
      "\n",
      "#defining how many days are in each month is the first step\n",
      "#to do this lets define a fucntion call days that take mounth year as its inputs and returns how many days are in that mounth\n",
      "def days(month,year):\n",
      "    if month in (1, 3, 5, 7, 8, 10, 12): \n",
      "        days= 31\n",
      "    elif month in (4, 6, 9, 11):\n",
      "        days= 30\n",
      "    elif 0 == year % 4:\n",
      "        if year %100 ==0 and year%400!=0:\n",
      "            days = 28\n",
      "        else:\n",
      "            days = 29\n",
      "    else: \n",
      "        days = 28\n",
      "    return days"
     ],
     "language": "python",
     "metadata": {},
     "outputs": [],
     "prompt_number": 62
    },
    {
     "cell_type": "code",
     "collapsed": false,
     "input": [
      "#something wrong here if have time come back and fix\n",
      "def sunday(start,end):\n",
      "    day_of_week=1#1901 starts on a tuesday\n",
      "    sundays=0\n",
      "    for i in range(start,end+1):\n",
      "        for x in range(1,13):\n",
      "            if day_of_week==6:\n",
      "                sundays+=1\n",
      "            \n",
      "                ()\n",
      "        day_of_week=((day_of_week+days(i,x))%7)\n",
      "            \n",
      "    return sundays\n",
      "print sunday(1901,2000)"
     ],
     "language": "python",
     "metadata": {},
     "outputs": [
      {
       "output_type": "stream",
       "stream": "stdout",
       "text": [
        "168\n"
       ]
      }
     ],
     "prompt_number": 65
    },
    {
     "cell_type": "code",
     "collapsed": false,
     "input": [
      "#just for fun this gices you the total number of sundays between 1990 and end year\n",
      "def sunday(end):\n",
      "    start=1990\n",
      "    total_days=0\n",
      "    sundays=0\n",
      "    for i in range(start,end+1):\n",
      "        for x in range(0,13):\n",
      "            for t in range(0, days(i,x)+1):\n",
      "                if total_days%7==0:\n",
      "                    sundays+=1\n",
      "                else:\n",
      "                    ()\n",
      "                total_days+=1\n",
      "    return sundays\n",
      "print sunday(2000)"
     ],
     "language": "python",
     "metadata": {},
     "outputs": []
    }
   ],
   "metadata": {}
  }
 ]
}