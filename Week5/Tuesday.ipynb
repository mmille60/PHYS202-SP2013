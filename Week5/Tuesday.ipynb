{
 "metadata": {
  "name": "Tuesday"
 },
 "nbformat": 3,
 "nbformat_minor": 0,
 "worksheets": [
  {
   "cells": [
    {
     "cell_type": "markdown",
     "metadata": {},
     "source": [
      "Numarical Intagration\n",
      "==="
     ]
    },
    {
     "cell_type": "code",
     "collapsed": false,
     "input": [
      "f = lambda x: x**4 -2*x + 1"
     ],
     "language": "python",
     "metadata": {},
     "outputs": [],
     "prompt_number": 8
    },
    {
     "cell_type": "markdown",
     "metadata": {},
     "source": [
      "Example 1\n",
      "--"
     ]
    },
    {
     "cell_type": "code",
     "collapsed": false,
     "input": [
      "N=10\n",
      "a=0.0\n",
      "b=2.0\n",
      "h=(b-a)/N\n",
      "s=0.5*f(a) + .5*f(b)\n",
      "for k in range(1,N):\n",
      "    s +=f(a+k*h)\n",
      "print(h*s)"
     ],
     "language": "python",
     "metadata": {},
     "outputs": [
      {
       "output_type": "stream",
       "stream": "stdout",
       "text": [
        "4.50656\n"
       ]
      }
     ],
     "prompt_number": 10
    },
    {
     "cell_type": "markdown",
     "metadata": {},
     "source": [
      "The correct answer is\n",
      "4.4\n",
      "so our result is off by 2%"
     ]
    },
    {
     "cell_type": "markdown",
     "metadata": {},
     "source": [
      "Exercise 1\n",
      "----\n",
      "What are the results for N=100 and N=1000"
     ]
    },
    {
     "cell_type": "code",
     "collapsed": false,
     "input": [
      "#for N=100\n",
      "N=100\n",
      "a=0.0\n",
      "b=2.0\n",
      "h=(b-a)/N\n",
      "s=0.5*f(a) + .5*f(b)\n",
      "for k in range(1,N):\n",
      "    s +=f(a+k*h)\n",
      "print(h*s)\n",
      "print str((100*((h*s)-4.4))/4.4)+\" error\""
     ],
     "language": "python",
     "metadata": {},
     "outputs": [
      {
       "output_type": "stream",
       "stream": "stdout",
       "text": [
        "4.401066656\n",
        "0.0242421818182 error\n"
       ]
      }
     ],
     "prompt_number": 32
    },
    {
     "cell_type": "code",
     "collapsed": false,
     "input": [
      "#for N=1000\n",
      "N=1000\n",
      "a=0.0\n",
      "b=2.0\n",
      "h=(b-a)/N\n",
      "s=0.5*f(a) + .5*f(b)\n",
      "for k in range(1,N):\n",
      "    s +=f(a+k*h)\n",
      "print(h*s)\n",
      "print str((100*((h*s)-4.4))/4.4)+\" error\""
     ],
     "language": "python",
     "metadata": {},
     "outputs": [
      {
       "output_type": "stream",
       "stream": "stdout",
       "text": [
        "4.40001066667\n",
        "0.000242424218195 error\n"
       ]
      }
     ],
     "prompt_number": 31
    },
    {
     "cell_type": "markdown",
     "metadata": {},
     "source": [
      "Simpson's Rule\n",
      "--\n",
      "Exercise 2\n",
      "--"
     ]
    },
    {
     "cell_type": "markdown",
     "metadata": {},
     "source": [
      "Part a\n",
      "--"
     ]
    },
    {
     "cell_type": "code",
     "collapsed": false,
     "input": [
      "f = lambda x: x**4 -2*x + 1"
     ],
     "language": "python",
     "metadata": {},
     "outputs": [],
     "prompt_number": 22
    },
    {
     "cell_type": "code",
     "collapsed": false,
     "input": [
      "N=10\n",
      "a=0.0\n",
      "b=2.0\n",
      "h=(b-a)/N\n",
      "secound_part=0\n",
      "third_part=0\n",
      "for i in range(1,(N/2)+1):\n",
      "    secound_part+=f(a+(2*i-1)*h)\n",
      "for i in range(1,(N/2)):\n",
      "    third_part+=f(a+2*i*h)\n",
      "Total_simpson=(1/3.)*h*(f(a)+f(b)+4*secound_part+2*third_part)\n",
      "print Total_simpson\n"
     ],
     "language": "python",
     "metadata": {},
     "outputs": [
      {
       "output_type": "stream",
       "stream": "stdout",
       "text": [
        "4.40042666667\n"
       ]
      }
     ],
     "prompt_number": 38
    },
    {
     "cell_type": "markdown",
     "metadata": {},
     "source": [
      "Part b\n",
      "--"
     ]
    },
    {
     "cell_type": "code",
     "collapsed": false,
     "input": [
      "#find the error\n",
      "error= str((100*((Total_simpson)-4.4))/4.4)+\" percent error\"\n",
      "print error"
     ],
     "language": "python",
     "metadata": {},
     "outputs": [
      {
       "output_type": "stream",
       "stream": "stdout",
       "text": [
        "0.00969696969697 percent error\n"
       ]
      }
     ],
     "prompt_number": 39
    },
    {
     "cell_type": "markdown",
     "metadata": {},
     "source": [
      "Part c\n",
      "--"
     ]
    },
    {
     "cell_type": "code",
     "collapsed": false,
     "input": [
      "N=100\n",
      "a=0.0\n",
      "b=2.0\n",
      "h=(b-a)/N\n",
      "secound_part=0\n",
      "third_part=0\n",
      "for i in range(1,(N/2)+1):\n",
      "    secound_part+=f(a+(2*i-1)*h)\n",
      "for i in range(1,(N/2)):\n",
      "    third_part+=f(a+2*i*h)\n",
      "Total_simpson=(1/3.)*h*(f(a)+f(b)+4*secound_part+2*third_part)\n",
      "print Total_simpson\n",
      "#find the error\n",
      "error= str((100*((Total_simpson)-4.4))/4.4)+\" percent error\"\n",
      "print error"
     ],
     "language": "python",
     "metadata": {},
     "outputs": [
      {
       "output_type": "stream",
       "stream": "stdout",
       "text": [
        "4.40000004267\n",
        "9.69696969187e-07 percent error\n"
       ]
      }
     ],
     "prompt_number": 36
    },
    {
     "cell_type": "code",
     "collapsed": false,
     "input": [
      "N=1000\n",
      "a=0.0\n",
      "b=2.0\n",
      "h=(b-a)/N\n",
      "secound_part=0\n",
      "third_part=0\n",
      "for i in range(1,(N/2)+1):\n",
      "    secound_part+=f(a+(2*i-1)*h)\n",
      "for i in range(1,(N/2)):\n",
      "    third_part+=f(a+2*i*h)\n",
      "Total_simpson=(1/3.)*h*(f(a)+f(b)+4*secound_part+2*third_part)\n",
      "print Total_simpson\n",
      "#find the error\n",
      "error= str((100*((Total_simpson)-4.4))/4.4)+\" percent error\"\n",
      "print error"
     ],
     "language": "python",
     "metadata": {},
     "outputs": [
      {
       "output_type": "stream",
       "stream": "stdout",
       "text": [
        "4.4\n",
        "9.69729347327e-11 percent error\n"
       ]
      }
     ],
     "prompt_number": 37
    },
    {
     "cell_type": "markdown",
     "metadata": {},
     "source": [
      "Simpsons method is more acurate then previous methods"
     ]
    },
    {
     "cell_type": "markdown",
     "metadata": {},
     "source": [
      "Example 2\n",
      "---"
     ]
    },
    {
     "cell_type": "code",
     "collapsed": false,
     "input": [
      "import scipy.integrate as integrate\n",
      "import scipy as scipy\n",
      "from scipy.special import jv\n",
      "result = integrate.quad(lambda x: scipy.special.jv(2.5,x),0,4.5)\n",
      "print result"
     ],
     "language": "python",
     "metadata": {},
     "outputs": [
      {
       "output_type": "stream",
       "stream": "stdout",
       "text": [
        "(1.1178179380783249, 7.866317182537226e-09)\n"
       ]
      }
     ],
     "prompt_number": 45
    },
    {
     "cell_type": "markdown",
     "metadata": {},
     "source": [
      "maybe come back and and do fersnel"
     ]
    },
    {
     "cell_type": "markdown",
     "metadata": {},
     "source": [
      "Exercise 3\n",
      "----"
     ]
    },
    {
     "cell_type": "code",
     "collapsed": false,
     "input": [
      "#This is very impercise\n",
      "theta = linspace(0,pi,0.3)\n",
      "Iwrong = integrate.trapz(theta,cos(theta))\n",
      "print Iwrong"
     ],
     "language": "python",
     "metadata": {},
     "outputs": [
      {
       "output_type": "stream",
       "stream": "stdout",
       "text": [
        "0.0\n"
       ]
      }
     ],
     "prompt_number": 48
    },
    {
     "cell_type": "code",
     "collapsed": false,
     "input": [],
     "language": "python",
     "metadata": {},
     "outputs": []
    }
   ],
   "metadata": {}
  }
 ]
}