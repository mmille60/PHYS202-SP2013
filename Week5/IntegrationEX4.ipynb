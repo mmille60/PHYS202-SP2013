{
 "metadata": {
  "name": "IntegrationEX4"
 },
 "nbformat": 3,
 "nbformat_minor": 0,
 "worksheets": [
  {
   "cells": [
    {
     "cell_type": "markdown",
     "metadata": {},
     "source": [
      "Problem 1\n",
      "---"
     ]
    },
    {
     "cell_type": "code",
     "collapsed": false,
     "input": [
      "f = lambda t: exp(-(t**2))"
     ],
     "language": "python",
     "metadata": {},
     "outputs": [],
     "prompt_number": 2
    },
    {
     "cell_type": "code",
     "collapsed": false,
     "input": [
      "x=np.arange(0,3.1,.1)\n",
      "N=len(x)\n",
      "a=0.0\n",
      "b=3.0\n",
      "h=(b-a)/N\n",
      "secound_part=0\n",
      "third_part=0\n",
      "for i in range(1,(N/2)+1):\n",
      "    secound_part+=f(a+(2*i-1)*h)\n",
      "for i in range(1,(N/2)):\n",
      "    third_part+=f(a+2*i*h)\n",
      "Total_simpson=(1/3.)*h*(f(a)+f(b)+4*secound_part+2*third_part)\n",
      "print Total_simpson"
     ],
     "language": "python",
     "metadata": {},
     "outputs": [
      {
       "output_type": "stream",
       "stream": "stdout",
       "text": [
        "0.886188130655\n"
       ]
      }
     ],
     "prompt_number": 3
    },
    {
     "cell_type": "markdown",
     "metadata": {},
     "source": [
      "Ingegrating $e^{-t^2}$ from 0 to 3 gives 0.886188 when conpared with wolfram alpha we find this is the right solution"
     ]
    },
    {
     "cell_type": "code",
     "collapsed": false,
     "input": [],
     "language": "python",
     "metadata": {},
     "outputs": [],
     "prompt_number": 5
    },
    {
     "cell_type": "code",
     "collapsed": false,
     "input": [],
     "language": "python",
     "metadata": {},
     "outputs": []
    },
    {
     "cell_type": "code",
     "collapsed": false,
     "input": [],
     "language": "python",
     "metadata": {},
     "outputs": []
    },
    {
     "cell_type": "code",
     "collapsed": false,
     "input": [],
     "language": "python",
     "metadata": {},
     "outputs": []
    },
    {
     "cell_type": "code",
     "collapsed": false,
     "input": [],
     "language": "python",
     "metadata": {},
     "outputs": []
    },
    {
     "cell_type": "markdown",
     "metadata": {},
     "source": [
      "Problem 2\n",
      "----"
     ]
    },
    {
     "cell_type": "markdown",
     "metadata": {},
     "source": [
      "particle in the box:\n",
      "$\\sqrt{\\frac{2}{L}}\\sin(\\frac{n\\pi\\hbar}{L})$ \n",
      "$\\               $where $E_n=\\frac{n^2\\pi^2\\hbar^2}{2mL^2}$"
     ]
    },
    {
     "cell_type": "markdown",
     "metadata": {},
     "source": [
      "Problem 2 part a for dround state\n",
      "----"
     ]
    },
    {
     "cell_type": "markdown",
     "metadata": {},
     "source": [
      "Analytic integration of $\\psi^2$\n"
     ]
    },
    {
     "cell_type": "code",
     "collapsed": false,
     "input": [
      "n=1\n",
      "L=1\n",
      "end = L/2.\n",
      "begining = L/3.\n",
      "analytic = (((end/L)-(L/(2*pi*n))*sin((2*n*pi*end)/L)))-((begining/L)-(L/(2*pi*n))*sin((2*n*pi*begining)/L))\n",
      "print analytic"
     ],
     "language": "python",
     "metadata": {},
     "outputs": [
      {
       "output_type": "stream",
       "stream": "stdout",
       "text": [
        "0.304498890522\n"
       ]
      }
     ],
     "prompt_number": 22
    },
    {
     "cell_type": "markdown",
     "metadata": {},
     "source": [
      ".3044988... is the analyticle solution to the integration of the particle in the box from $\\frac{L}{3}$ to $\\frac{L}{2}$ "
     ]
    },
    {
     "cell_type": "markdown",
     "metadata": {},
     "source": [
      "Part a using trapz:\n",
      "--"
     ]
    },
    {
     "cell_type": "code",
     "collapsed": false,
     "input": [
      "n=1\n",
      "L=1\n",
      "psi_squared= lambda x: (((2/L)**.5)*sin((n*pi*x)/L))**2\n"
     ],
     "language": "python",
     "metadata": {},
     "outputs": [],
     "prompt_number": 16
    },
    {
     "cell_type": "code",
     "collapsed": false,
     "input": [
      "\n",
      "N=1000\n",
      "a=L/3.\n",
      "b=L/2.\n",
      "h=(b-a)/N\n",
      "s=0.5*psi_squared(a) + .5*psi_squared(b)\n",
      "for k in range(1,N):\n",
      "    s +=psi_squared(a+k*h)\n",
      "print(h*s)\n",
      "print str((100*((h*s)-analytic))/analytic)+\" error\""
     ],
     "language": "python",
     "metadata": {},
     "outputs": [
      {
       "output_type": "stream",
       "stream": "stdout",
       "text": [
        "0.304498877926\n",
        "-4.13657635348e-06 error\n"
       ]
      }
     ],
     "prompt_number": 24
    },
    {
     "cell_type": "markdown",
     "metadata": {},
     "source": [
      "Using trap integration the integration evaluates to .3044988.. which is corect compared to the anyalitical solution.\n",
      "\n",
      "Inorder to get trap to 6 sig figs I needed to use 1000 steps"
     ]
    },
    {
     "cell_type": "markdown",
     "metadata": {},
     "source": [
      "Part a using quad\n",
      "---"
     ]
    },
    {
     "cell_type": "code",
     "collapsed": false,
     "input": [
      "n=1\n",
      "L=1\n",
      "a=L/3.\n",
      "b=L/2.\n",
      "import scipy.integrate as integrate\n",
      "import scipy as scipy\n",
      "from scipy.special import jv\n",
      "result = integrate.quad(psi_squared,a,b)\n",
      "print result"
     ],
     "language": "python",
     "metadata": {},
     "outputs": [
      {
       "output_type": "stream",
       "stream": "stdout",
       "text": [
        "(0.3044988905221147, 3.380616792304666e-15)\n"
       ]
      }
     ],
     "prompt_number": 25
    },
    {
     "cell_type": "markdown",
     "metadata": {},
     "source": [
      "Using quad the integral evaluated to .3044988..... which is corect out to 15 sig figs"
     ]
    },
    {
     "cell_type": "markdown",
     "metadata": {},
     "source": [
      "Problem 2 part a for 1st excited state\n",
      "----"
     ]
    },
    {
     "cell_type": "markdown",
     "metadata": {},
     "source": [
      "Analytic integration of $\\psi^2$ in first excited state\n"
     ]
    },
    {
     "cell_type": "code",
     "collapsed": false,
     "input": [
      "n=2\n",
      "L=1\n",
      "end = L/2.\n",
      "begining = L/3.\n",
      "analytic = (((end/L)-(L/(2*pi*n))*sin((2*n*pi*end)/L)))-((begining/L)-(L/(2*pi*n))*sin((2*n*pi*begining)/L))\n",
      "print analytic"
     ],
     "language": "python",
     "metadata": {},
     "outputs": [
      {
       "output_type": "stream",
       "stream": "stdout",
       "text": [
        "0.0977505547389\n"
       ]
      }
     ],
     "prompt_number": 26
    },
    {
     "cell_type": "markdown",
     "metadata": {},
     "source": [
      "0.09775... is the analyticle solution to the integration of the particle in the box (first excited state) from $\\frac{L}{3}$ to $\\frac{L}{2}$ "
     ]
    },
    {
     "cell_type": "markdown",
     "metadata": {},
     "source": [
      "Part a using trapz:\n",
      "--"
     ]
    },
    {
     "cell_type": "code",
     "collapsed": false,
     "input": [
      "n=2\n",
      "L=1\n",
      "psi_squared= lambda x: (((2/L)**.5)*sin((n*pi*x)/L))**2"
     ],
     "language": "python",
     "metadata": {},
     "outputs": [],
     "prompt_number": 27
    },
    {
     "cell_type": "code",
     "collapsed": false,
     "input": [
      "\n",
      "N=1900\n",
      "a=L/3.\n",
      "b=L/2.\n",
      "h=(b-a)/N\n",
      "s=0.5*psi_squared(a) + .5*psi_squared(b)\n",
      "for k in range(1,N):\n",
      "    s +=psi_squared(a+k*h)\n",
      "print(h*s)\n",
      "print str((100*((h*s)-analytic))/analytic)+\" error\""
     ],
     "language": "python",
     "metadata": {},
     "outputs": [
      {
       "output_type": "stream",
       "stream": "stdout",
       "text": [
        "0.0977505617172\n",
        "7.13888424594e-06 error\n"
       ]
      }
     ],
     "prompt_number": 29
    },
    {
     "cell_type": "markdown",
     "metadata": {},
     "source": [
      "Using trap integration the integration evaluates to .3044988.. which is corect compared to the anyalitical solution.\n",
      "\n",
      "Inorder to get trap to 6 sig figs I needed to use 1900 steps"
     ]
    },
    {
     "cell_type": "markdown",
     "metadata": {},
     "source": [
      "Part a using quad\n",
      "---"
     ]
    },
    {
     "cell_type": "code",
     "collapsed": false,
     "input": [
      "n=2\n",
      "L=1\n",
      "a=L/3.\n",
      "b=L/2.\n",
      "import scipy.integrate as integrate\n",
      "import scipy as scipy\n",
      "from scipy.special import jv\n",
      "result = integrate.quad(psi_squared,a,b)\n",
      "print result"
     ],
     "language": "python",
     "metadata": {},
     "outputs": [
      {
       "output_type": "stream",
       "stream": "stdout",
       "text": [
        "(0.09775055473894276, 1.0852491654105595e-15)\n"
       ]
      }
     ],
     "prompt_number": 30
    },
    {
     "cell_type": "markdown",
     "metadata": {},
     "source": [
      "Using quad the integral evaluated to .3044988..... which is corect out to 15 sig figs"
     ]
    },
    {
     "cell_type": "code",
     "collapsed": false,
     "input": [],
     "language": "python",
     "metadata": {},
     "outputs": []
    },
    {
     "cell_type": "code",
     "collapsed": false,
     "input": [],
     "language": "python",
     "metadata": {},
     "outputs": []
    },
    {
     "cell_type": "markdown",
     "metadata": {},
     "source": [
      "Problem 2 Part b\n",
      "-----"
     ]
    },
    {
     "cell_type": "code",
     "collapsed": false,
     "input": [
      "n=1\n",
      "L=1\n",
      "psi_squared= lambda x: (((2/L)**.5)*sin((n*pi*x)/L))**2\n",
      "x=arange(0,1,.0001)\n",
      "plot(x,psi_squared(x))\n",
      "show()"
     ],
     "language": "python",
     "metadata": {},
     "outputs": [
      {
       "output_type": "display_data",
       "png": "[encoded data removed]"
      }
     ],
     "prompt_number": 32
    },
    {
     "cell_type": "code",
     "collapsed": false,
     "input": [
      "n=2\n",
      "L=1\n",
      "psi_squared= lambda x: (((2/L)**.5)*sin((n*pi*x)/L))**2\n",
      "x=arange(0,1,.0001)\n",
      "plot(x,psi_squared(x))\n",
      "show()"
     ],
     "language": "python",
     "metadata": {},
     "outputs": [
      {
       "output_type": "display_data",
       "png": "[encoded data removed]"
      }
     ],
     "prompt_number": 33
    },
    {
     "cell_type": "code",
     "collapsed": false,
     "input": [],
     "language": "python",
     "metadata": {},
     "outputs": []
    },
    {
     "cell_type": "code",
     "collapsed": false,
     "input": [],
     "language": "python",
     "metadata": {},
     "outputs": []
    },
    {
     "cell_type": "code",
     "collapsed": false,
     "input": [],
     "language": "python",
     "metadata": {},
     "outputs": []
    },
    {
     "cell_type": "code",
     "collapsed": false,
     "input": [],
     "language": "python",
     "metadata": {},
     "outputs": []
    },
    {
     "cell_type": "code",
     "collapsed": false,
     "input": [],
     "language": "python",
     "metadata": {},
     "outputs": []
    },
    {
     "cell_type": "code",
     "collapsed": false,
     "input": [],
     "language": "python",
     "metadata": {},
     "outputs": []
    },
    {
     "cell_type": "code",
     "collapsed": false,
     "input": [],
     "language": "python",
     "metadata": {},
     "outputs": []
    },
    {
     "cell_type": "markdown",
     "metadata": {},
     "source": [
      "Problem 3\n",
      "----"
     ]
    },
    {
     "cell_type": "code",
     "collapsed": false,
     "input": [],
     "language": "python",
     "metadata": {},
     "outputs": []
    },
    {
     "cell_type": "code",
     "collapsed": false,
     "input": [],
     "language": "python",
     "metadata": {},
     "outputs": []
    },
    {
     "cell_type": "code",
     "collapsed": false,
     "input": [],
     "language": "python",
     "metadata": {},
     "outputs": []
    },
    {
     "cell_type": "code",
     "collapsed": false,
     "input": [],
     "language": "python",
     "metadata": {},
     "outputs": []
    },
    {
     "cell_type": "code",
     "collapsed": false,
     "input": [],
     "language": "python",
     "metadata": {},
     "outputs": []
    },
    {
     "cell_type": "code",
     "collapsed": false,
     "input": [],
     "language": "python",
     "metadata": {},
     "outputs": []
    },
    {
     "cell_type": "code",
     "collapsed": false,
     "input": [],
     "language": "python",
     "metadata": {},
     "outputs": []
    },
    {
     "cell_type": "code",
     "collapsed": false,
     "input": [],
     "language": "python",
     "metadata": {},
     "outputs": []
    },
    {
     "cell_type": "code",
     "collapsed": false,
     "input": [],
     "language": "python",
     "metadata": {},
     "outputs": []
    },
    {
     "cell_type": "code",
     "collapsed": false,
     "input": [],
     "language": "python",
     "metadata": {},
     "outputs": []
    },
    {
     "cell_type": "markdown",
     "metadata": {},
     "source": [
      "Problem 4\n",
      "-----"
     ]
    },
    {
     "cell_type": "markdown",
     "metadata": {},
     "source": [
      "problem 4 part a\n",
      "---"
     ]
    },
    {
     "cell_type": "markdown",
     "metadata": {},
     "source": [
      "using Monte Carlo integration estimate the integral of $f(x)=4\\sqrt{1-x^2}$$\\   $ for the interval 0 to 1"
     ]
    },
    {
     "cell_type": "code",
     "collapsed": false,
     "input": [
      "four_a=lambda x: 4*((1-x**2)**.5) "
     ],
     "language": "python",
     "metadata": {},
     "outputs": [],
     "prompt_number": 35
    },
    {
     "cell_type": "code",
     "collapsed": false,
     "input": [
      "xmin =0\n",
      "xmax=1\n",
      "subx =x[logical_and((x>xmin),(x<xmax))]\n",
      "ymax = max(f(subx))*1.05\n",
      "ymin= min(f(subx))*1.05\n",
      "N=100000\n",
      "samples_x = xmin +(xmax-xmin)*random_sample(N);\n",
      "samples_y = ymin +(ymax-ymin)*random_sample(N);\n",
      "newmask = (samples_y<f(samples_x))\n",
      "sum(newmask)\n",
      "I = (xmax-xmin)*(ymax-ymin)*sum(newmask)/newmask.size\n",
      "print I"
     ],
     "language": "python",
     "metadata": {},
     "outputs": [
      {
       "output_type": "stream",
       "stream": "stdout",
       "text": [
        "3.08160348886\n"
       ]
      }
     ],
     "prompt_number": 57
    },
    {
     "cell_type": "code",
     "collapsed": false,
     "input": [],
     "language": "python",
     "metadata": {},
     "outputs": [],
     "prompt_number": 43
    },
    {
     "cell_type": "code",
     "collapsed": false,
     "input": [],
     "language": "python",
     "metadata": {},
     "outputs": [],
     "prompt_number": 43
    },
    {
     "cell_type": "code",
     "collapsed": false,
     "input": [],
     "language": "python",
     "metadata": {},
     "outputs": []
    },
    {
     "cell_type": "code",
     "collapsed": false,
     "input": [],
     "language": "python",
     "metadata": {},
     "outputs": []
    },
    {
     "cell_type": "code",
     "collapsed": false,
     "input": [],
     "language": "python",
     "metadata": {},
     "outputs": []
    },
    {
     "cell_type": "code",
     "collapsed": false,
     "input": [],
     "language": "python",
     "metadata": {},
     "outputs": []
    },
    {
     "cell_type": "code",
     "collapsed": false,
     "input": [],
     "language": "python",
     "metadata": {},
     "outputs": []
    },
    {
     "cell_type": "code",
     "collapsed": false,
     "input": [],
     "language": "python",
     "metadata": {},
     "outputs": []
    },
    {
     "cell_type": "code",
     "collapsed": false,
     "input": [],
     "language": "python",
     "metadata": {},
     "outputs": []
    },
    {
     "cell_type": "code",
     "collapsed": false,
     "input": [],
     "language": "python",
     "metadata": {},
     "outputs": []
    },
    {
     "cell_type": "code",
     "collapsed": false,
     "input": [],
     "language": "python",
     "metadata": {},
     "outputs": []
    },
    {
     "cell_type": "markdown",
     "metadata": {},
     "source": [
      "Problem 5\n",
      "==="
     ]
    },
    {
     "cell_type": "markdown",
     "metadata": {},
     "source": [
      "Problem 5 part a\n",
      "--"
     ]
    },
    {
     "cell_type": "markdown",
     "metadata": {},
     "source": [
      "$M =\\int\\rho dV$"
     ]
    },
    {
     "cell_type": "markdown",
     "metadata": {},
     "source": [
      "$r_{cm}=\\int r\\rho dV $"
     ]
    },
    {
     "cell_type": "markdown",
     "metadata": {},
     "source": [
      "$I_{cm}=\\int(r-r_{cm})^2\\rho dV$"
     ]
    },
    {
     "cell_type": "code",
     "collapsed": false,
     "input": [
      "rho = lambda z,y,x: 100*((y+0.1)+z**2)"
     ],
     "language": "python",
     "metadata": {},
     "outputs": [],
     "prompt_number": 60
    },
    {
     "cell_type": "code",
     "collapsed": false,
     "input": [
      "import scipy.integrate as integrate\n",
      "import scipy as scipy\n",
      "from scipy.special import jv"
     ],
     "language": "python",
     "metadata": {},
     "outputs": [],
     "prompt_number": 59
    },
    {
     "cell_type": "code",
     "collapsed": false,
     "input": [
      "#M=integrate.tplquad(rho,-.1,.1,-.1,.1,.5,.5)"
     ],
     "language": "python",
     "metadata": {},
     "outputs": [],
     "prompt_number": 62
    },
    {
     "cell_type": "code",
     "collapsed": false,
     "input": [],
     "language": "python",
     "metadata": {},
     "outputs": []
    }
   ],
   "metadata": {}
  }
 ]
}