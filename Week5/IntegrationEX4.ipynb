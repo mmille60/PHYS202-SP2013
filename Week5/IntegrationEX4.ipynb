{
 "metadata": {
  "name": "IntegrationEX4"
 },
 "nbformat": 3,
 "nbformat_minor": 0,
 "worksheets": [
  {
   "cells": [
    {
     "cell_type": "markdown",
     "metadata": {},
     "source": [
      "Problem 1\n",
      "---"
     ]
    },
    {
     "cell_type": "code",
     "collapsed": false,
     "input": [
      "f = lambda t: exp(-(t**2))#creat function"
     ],
     "language": "python",
     "metadata": {},
     "outputs": [],
     "prompt_number": 69
    },
    {
     "cell_type": "code",
     "collapsed": false,
     "input": [
      "x=np.arange(0,3.1,.1)#creat range\n",
      "N=len(x)#set slices equal to length x \n",
      "a=0.0#beging\n",
      "b=3.0#end\n",
      "h=(b-a)/N\n",
      "secound_part=0\n",
      "third_part=0\n",
      "for i in range(1,(N/2)+1):#using simpson rule\n",
      "    secound_part+=f(a+(2*i-1)*h)\n",
      "for i in range(1,(N/2)):\n",
      "    third_part+=f(a+2*i*h)\n",
      "Total_simpson=(1/3.)*h*(f(a)+f(b)+4*secound_part+2*third_part)\n",
      "print Total_simpson"
     ],
     "language": "python",
     "metadata": {},
     "outputs": [
      {
       "output_type": "stream",
       "stream": "stdout",
       "text": [
        "0.886188130655\n"
       ]
      }
     ],
     "prompt_number": 70
    },
    {
     "cell_type": "markdown",
     "metadata": {},
     "source": [
      "Ingegrating $e^{-t^2}$ from 0 to 3 gives 0.886188 when conpared with wolfram alpha we find this is the right solution"
     ]
    },
    {
     "cell_type": "markdown",
     "metadata": {},
     "source": [
      "Problem 1 part b\n",
      "----"
     ]
    },
    {
     "cell_type": "code",
     "collapsed": false,
     "input": [
      "def E(x):#creating a function E(x)\n",
      "    N=len(x)\n",
      "    a=0.0\n",
      "    b=x\n",
      "    h=(b-a)/N\n",
      "    s=0.5*f(a) + .5*f(b)\n",
      "    for k in range(1,N):#using trap rule\n",
      "        s +=f(a+k*h)\n",
      "    return(h*s)\n",
      "x=np.arange(0,3.1,.1)\n",
      "plot(x,E(x),label=\"$E(x)$\")\n",
      "ylabel(\"integral of $e^{-t^2}$\")\n",
      "xlabel(\"xvalues\")\n",
      "legend(loc=\"lower right\")\n",
      "show()\n"
     ],
     "language": "python",
     "metadata": {},
     "outputs": [
      {
       "output_type": "display_data",
       "png": "[encoded data removed]"
      }
     ],
     "prompt_number": 74
    },
    {
     "cell_type": "code",
     "collapsed": false,
     "input": [],
     "language": "python",
     "metadata": {},
     "outputs": []
    },
    {
     "cell_type": "markdown",
     "metadata": {},
     "source": [
      "Problem 2\n",
      "----"
     ]
    },
    {
     "cell_type": "markdown",
     "metadata": {},
     "source": [
      "particle in the box:\n",
      "$\\sqrt{\\frac{2}{L}}\\sin(\\frac{n\\pi\\hbar}{L})$ \n",
      "$\\               $where $E_n=\\frac{n^2\\pi^2\\hbar^2}{2mL^2}$"
     ]
    },
    {
     "cell_type": "markdown",
     "metadata": {},
     "source": [
      "Problem 2 part a for ground state\n",
      "----"
     ]
    },
    {
     "cell_type": "markdown",
     "metadata": {},
     "source": [
      "Analytic integration of $\\psi^2$\n"
     ]
    },
    {
     "cell_type": "code",
     "collapsed": false,
     "input": [
      "n=1#ground state\n",
      "L=1\n",
      "end = L/2.\n",
      "begining = L/3.\n",
      "analytic = (((end/L)-(L/(2*pi*n))*sin((2*n*pi*end)/L)))-((begining/L)-(L/(2*pi*n))*sin((2*n*pi*begining)/L))#analytic solution\n",
      "print analytic"
     ],
     "language": "python",
     "metadata": {},
     "outputs": [
      {
       "output_type": "stream",
       "stream": "stdout",
       "text": [
        "0.304498890522\n"
       ]
      }
     ],
     "prompt_number": 146
    },
    {
     "cell_type": "markdown",
     "metadata": {},
     "source": [
      ".3044988... is the analyticle solution to the integration of the particle in the box from $\\frac{L}{3}$ to $\\frac{L}{2}$ "
     ]
    },
    {
     "cell_type": "markdown",
     "metadata": {},
     "source": [
      "Part a using trapz:\n",
      "--"
     ]
    },
    {
     "cell_type": "code",
     "collapsed": false,
     "input": [
      "n=1\n",
      "L=1\n",
      "psi_squared= lambda x: (((2/L)**.5)*sin((n*pi*x)/L))**2\n"
     ],
     "language": "python",
     "metadata": {},
     "outputs": [],
     "prompt_number": 143
    },
    {
     "cell_type": "code",
     "collapsed": false,
     "input": [
      "t=[]\n",
      "x=np.arange(1/3.,(1/2.)+.00000001,.00000001)\n",
      "for i in x:\n",
      "    t.append((((2/L)**.5)*sin((n*pi*i)/L))**2)"
     ],
     "language": "python",
     "metadata": {},
     "outputs": [],
     "prompt_number": 157
    },
    {
     "cell_type": "code",
     "collapsed": false,
     "input": [
      "from scipy.integrate import simps, trapz\n",
      "x=np.arange(1/3.,(1/2.)+.00000001,.00000001)\n",
      "tra=trapz(t,x,dx=.00000001)\n",
      "print tra\n",
      "print str((100*((tra)-analytic))/analytic)+\" error\""
     ],
     "language": "python",
     "metadata": {},
     "outputs": [
      {
       "output_type": "stream",
       "stream": "stdout",
       "text": [
        "0.304498897013\n",
        "2.13176581053e-06 error\n"
       ]
      }
     ],
     "prompt_number": 158
    },
    {
     "cell_type": "code",
     "collapsed": false,
     "input": [
      "len(x)"
     ],
     "language": "python",
     "metadata": {},
     "outputs": [
      {
       "output_type": "pyout",
       "prompt_number": 161,
       "text": [
        "16666668"
       ]
      }
     ],
     "prompt_number": 161
    },
    {
     "cell_type": "markdown",
     "metadata": {},
     "source": [
      "Using trapz integration the integration evaluates to .3044988.. which is corect compared to the anyalitical solution.\n",
      "\n",
      "Inorder to get trap to 6 sig figs I needed to use 16666668 steps"
     ]
    },
    {
     "cell_type": "code",
     "collapsed": false,
     "input": [
      "#using trap method as seen in class\n",
      "N=1000\n",
      "a=L/3.\n",
      "b=L/2.\n",
      "h=(b-a)/N\n",
      "s=0.5*psi_squared(a) + .5*psi_squared(b)\n",
      "for k in range(1,N):\n",
      "    s +=psi_squared(a+k*h)\n",
      "print(h*s)\n",
      "print str((100*((h*s)-analytic))/analytic)+\" error\""
     ],
     "language": "python",
     "metadata": {},
     "outputs": [
      {
       "output_type": "stream",
       "stream": "stdout",
       "text": [
        "0.304498877926\n",
        "-4.13657635348e-06 error\n"
       ]
      }
     ],
     "prompt_number": 24
    },
    {
     "cell_type": "markdown",
     "metadata": {},
     "source": [
      "Using trap integration the integration evaluates to .3044988.. which is corect compared to the anyalitical solution.\n",
      "\n",
      "Inorder to get trap to 6 sig figs I needed to use 1000 steps"
     ]
    },
    {
     "cell_type": "markdown",
     "metadata": {},
     "source": [
      "Part a using quad\n",
      "---"
     ]
    },
    {
     "cell_type": "code",
     "collapsed": false,
     "input": [
      "#using guad from scipy for ground state\n",
      "n=1\n",
      "L=1\n",
      "a=L/3.\n",
      "b=L/2.\n",
      "import scipy.integrate as integrate\n",
      "import scipy as scipy\n",
      "from scipy.special import jv\n",
      "result = integrate.quad(psi_squared,a,b)\n",
      "print result"
     ],
     "language": "python",
     "metadata": {},
     "outputs": [
      {
       "output_type": "stream",
       "stream": "stdout",
       "text": [
        "(0.3044988905221147, 3.380616792304666e-15)\n"
       ]
      }
     ],
     "prompt_number": 31
    },
    {
     "cell_type": "markdown",
     "metadata": {},
     "source": [
      "Using quad the integral evaluated to .3044988..... which is corect out to 15 sig figs"
     ]
    },
    {
     "cell_type": "markdown",
     "metadata": {},
     "source": [
      "Problem 2 part a for 1st excited state\n",
      "----"
     ]
    },
    {
     "cell_type": "markdown",
     "metadata": {},
     "source": [
      "Analytic integration of $\\psi^2$ in first excited state\n"
     ]
    },
    {
     "cell_type": "code",
     "collapsed": false,
     "input": [
      "#anylitical soltuion for first excited state\n",
      "n=2\n",
      "L=1\n",
      "end = L/2.\n",
      "begining = L/3.\n",
      "analytic = (((end/L)-(L/(2*pi*n))*sin((2*n*pi*end)/L)))-((begining/L)-(L/(2*pi*n))*sin((2*n*pi*begining)/L))\n",
      "print analytic"
     ],
     "language": "python",
     "metadata": {},
     "outputs": [
      {
       "output_type": "stream",
       "stream": "stdout",
       "text": [
        "0.0977505547389\n"
       ]
      }
     ],
     "prompt_number": 163
    },
    {
     "cell_type": "markdown",
     "metadata": {},
     "source": [
      "0.09775... is the analyticle solution to the integration of the particle in the box (first excited state) from $\\frac{L}{3}$ to $\\frac{L}{2}$ "
     ]
    },
    {
     "cell_type": "markdown",
     "metadata": {},
     "source": [
      "Part a using trapz:\n",
      "--"
     ]
    },
    {
     "cell_type": "code",
     "collapsed": false,
     "input": [
      "n=2\n",
      "L=1\n",
      "psi_squared= lambda x: (((2/L)**.5)*sin((n*pi*x)/L))**2"
     ],
     "language": "python",
     "metadata": {},
     "outputs": [],
     "prompt_number": 126
    },
    {
     "cell_type": "code",
     "collapsed": false,
     "input": [
      "#integration using trapz\n",
      "z=[]\n",
      "x=np.arange(1/3.,(1/2.)+.0001,.0001)\n",
      "for i in x:\n",
      "    z.append((((2/L)**.5)*sin((2*pi*i)/L))**2)\n"
     ],
     "language": "python",
     "metadata": {},
     "outputs": [],
     "prompt_number": 168
    },
    {
     "cell_type": "code",
     "collapsed": false,
     "input": [
      "#integration using trapz\n",
      "from scipy.integrate import simps, trapz\n",
      "x=np.arange(1/3.,(1/2.)+.0001,.0001)\n",
      "tra = trapz(z,x,dx=.01)\n",
      "print tra\n",
      "print str((100*((tra)-analytic))/analytic)+\" error\""
     ],
     "language": "python",
     "metadata": {},
     "outputs": [
      {
       "output_type": "stream",
       "stream": "stdout",
       "text": [
        "0.0977505638133\n",
        "9.28317837805e-06 error\n"
       ]
      }
     ],
     "prompt_number": 169
    },
    {
     "cell_type": "code",
     "collapsed": false,
     "input": [
      "len(x)"
     ],
     "language": "python",
     "metadata": {},
     "outputs": [
      {
       "output_type": "pyout",
       "prompt_number": 170,
       "text": [
        "1668"
       ]
      }
     ],
     "prompt_number": 170
    },
    {
     "cell_type": "markdown",
     "metadata": {},
     "source": [
      "Using trapz integration the integration evaluates to 0.0977505.. which is corect compared to the anyalitical solution.\n",
      "\n",
      "Inorder to get trap to 6 sig figs I needed to use 1668 steps"
     ]
    },
    {
     "cell_type": "code",
     "collapsed": false,
     "input": [
      "#trap method seen in class\n",
      "N=1900\n",
      "a=L/3.\n",
      "b=L/2.\n",
      "h=(b-a)/N\n",
      "s=0.5*psi_squared(a) + .5*psi_squared(b)\n",
      "for k in range(1,N):\n",
      "    s +=psi_squared(a+k*h)\n",
      "print(h*s)\n",
      "print str((100*((h*s)-analytic))/analytic)+\" error\""
     ],
     "language": "python",
     "metadata": {},
     "outputs": [
      {
       "output_type": "stream",
       "stream": "stdout",
       "text": [
        "0.0977505617172\n",
        "7.13888424594e-06 error\n"
       ]
      }
     ],
     "prompt_number": 29
    },
    {
     "cell_type": "markdown",
     "metadata": {},
     "source": [
      "Using trap integration the integration evaluates to .3044988.. which is corect compared to the anyalitical solution.\n",
      "\n",
      "Inorder to get trap to 6 sig figs I needed to use 1900 steps"
     ]
    },
    {
     "cell_type": "markdown",
     "metadata": {},
     "source": [
      "Part a using quad\n",
      "---"
     ]
    },
    {
     "cell_type": "code",
     "collapsed": false,
     "input": [
      "#quad inported from scipy\n",
      "n=2\n",
      "L=1\n",
      "a=L/3.\n",
      "b=L/2.\n",
      "import scipy.integrate as integrate\n",
      "import scipy as scipy\n",
      "from scipy.special import jv\n",
      "result = integrate.quad(psi_squared,a,b)\n",
      "print result"
     ],
     "language": "python",
     "metadata": {},
     "outputs": [
      {
       "output_type": "stream",
       "stream": "stdout",
       "text": [
        "(0.09775055473894276, 1.0852491654105595e-15)\n"
       ]
      }
     ],
     "prompt_number": 30
    },
    {
     "cell_type": "markdown",
     "metadata": {},
     "source": [
      "Using quad the integral evaluated to .3044988..... which is corect out to 15 sig figs"
     ]
    },
    {
     "cell_type": "code",
     "collapsed": false,
     "input": [],
     "language": "python",
     "metadata": {},
     "outputs": []
    },
    {
     "cell_type": "code",
     "collapsed": false,
     "input": [],
     "language": "python",
     "metadata": {},
     "outputs": []
    },
    {
     "cell_type": "markdown",
     "metadata": {},
     "source": [
      "Problem 2 Part b\n",
      "-----"
     ]
    },
    {
     "cell_type": "code",
     "collapsed": false,
     "input": [
      "#ploting results\n",
      "n=1\n",
      "L=1\n",
      "psi_squared= lambda x: (((2/L)**.5)*sin((n*pi*x)/L))**2\n",
      "x=arange(0,1,.0001)\n",
      "plot(x,psi_squared(x),label=\"$\\psi_1^2$\")\n",
      "title(\"Particle in a box ground state\")\n",
      "xlabel(\"xvalues\")\n",
      "ylabel(\"$\\psi_1^2$\")\n",
      "legend(loc=\"upper right\")\n",
      "show()"
     ],
     "language": "python",
     "metadata": {},
     "outputs": [
      {
       "output_type": "display_data",
       "png": "[encoded data removed]"
      }
     ],
     "prompt_number": 83
    },
    {
     "cell_type": "code",
     "collapsed": false,
     "input": [
      "#ploting results\n",
      "n=2\n",
      "L=1\n",
      "psi_squared= lambda x: (((2/L)**.5)*sin((n*pi*x)/L))**2\n",
      "x=arange(0,1,.0001)\n",
      "plot(x,psi_squared(x),label=\"$\\psi_2^2$\")\n",
      "title(\"Particle in a box first excited state\")\n",
      "xlabel(\"xvalues\")\n",
      "ylabel(\"$\\psi_1^2$\")\n",
      "legend(loc=\"upper right\")\n",
      "show()"
     ],
     "language": "python",
     "metadata": {},
     "outputs": [
      {
       "output_type": "display_data",
       "png": "[encoded data removed]"
      }
     ],
     "prompt_number": 84
    },
    {
     "cell_type": "markdown",
     "metadata": {},
     "source": [
      "Problem 3 Part a\n",
      "----"
     ]
    },
    {
     "cell_type": "code",
     "collapsed": false,
     "input": [
      "\n",
      "def H(n,x):#defing hermiete function\n",
      "    if n==0:\n",
      "        hermiet=np.ones(len(x))\n",
      "    elif n==1:\n",
      "        hermiet= 2*x\n",
      "    elif n==2:\n",
      "        hermiet=4*(x**2)-2\n",
      "    else:\n",
      "        h0=1\n",
      "        h1=2*x\n",
      "        now = 2*x*h1- 2*2*h0\n",
      "        for i in range (2,n):\n",
      "            hermiet=2*x*now-2*(i-1)*h1\n",
      "            h1=now\n",
      "            now = hermiet\n",
      "    return hermiet"
     ],
     "language": "python",
     "metadata": {},
     "outputs": [],
     "prompt_number": 203
    },
    {
     "cell_type": "code",
     "collapsed": false,
     "input": [
      "print H(3,2)"
     ],
     "language": "python",
     "metadata": {},
     "outputs": [
      {
       "output_type": "stream",
       "stream": "stdout",
       "text": [
        "40\n"
       ]
      }
     ],
     "prompt_number": 204
    },
    {
     "cell_type": "markdown",
     "metadata": {},
     "source": [
      "Got the corect hermiet value for $H_3(2)$ as calculated from wolfram alpha table which says $H_3(x)=8x^3-12x$ \n",
      "\n",
      "$H_3(2)=40$ \n",
      "\n",
      "confirms code is working corectly"
     ]
    },
    {
     "cell_type": "code",
     "collapsed": false,
     "input": [
      "#ploting hermiet functions\n",
      "x=arange(-4,4,.01)\n",
      "n=[0,1,2,3,4]\n",
      "for i in x:\n",
      "    t1=H(1,x)\n",
      "    t2=H(2,x)\n",
      "    t3=H(3,x)\n",
      "    t4=H(4,x)\n",
      "    t0=H(0,x)\n",
      "\n",
      "    \n",
      "    \n",
      "plot(x,t1,label=\"H(1,x)\")\n",
      "plot(x,t2,label=\"H(2,x)\")\n",
      "plot(x,t3,label=\"H(3,x)\")\n",
      "plot(x,t4,label=\"H(4,x)\")\n",
      "plot(x,t0,label=\"H(0,x)\")\n",
      "xlabel(\"xvalues\")\n",
      "ylabel(\"hermiet 0 through 4\")\n",
      "ylim(ymax=100,ymin=-100)\n",
      "legend(loc=\"lower right\")\n",
      "show()    \n"
     ],
     "language": "python",
     "metadata": {},
     "outputs": [
      {
       "output_type": "display_data",
       "png": "[encoded data removed]"
      }
     ],
     "prompt_number": 205
    },
    {
     "cell_type": "markdown",
     "metadata": {},
     "source": [
      "Note: graph above not required"
     ]
    },
    {
     "cell_type": "code",
     "collapsed": false,
     "input": [
      "from math import factorial#importing factorials"
     ],
     "language": "python",
     "metadata": {},
     "outputs": [],
     "prompt_number": 206
    },
    {
     "cell_type": "code",
     "collapsed": false,
     "input": [
      "#finding the psi functions\n",
      "for i in x:\n",
      "    psi_1=(1/((2**1)*factorial(1)*(pi)**.5)**.5)*exp(-((x**2)/2.))*H(1,x)\n",
      "    psi_2=(1/((2**2)*factorial(2)*(pi)**.5)**.5)*exp(-((x**2)/2.))*H(2,x)\n",
      "    psi_3=(1/((2**3)*factorial(3)*(pi)**.5)**.5)*exp(-((x**2)/2.))*H(3,x)\n",
      "    psi_4=(1/((2**4)*factorial(4)*(pi)**.5)**.5)*exp(-((x**2)/2.))*H(4,x)\n",
      "    psi_0=(1/((2**0)*factorial(0)*(pi)**.5)**.5)*exp(-((x**2)/2.))*H(0,x)\n"
     ],
     "language": "python",
     "metadata": {},
     "outputs": [],
     "prompt_number": 207
    },
    {
     "cell_type": "code",
     "collapsed": false,
     "input": [
      "#ploting psi functions\n",
      "plot(x,psi_1,label=\"$\\psi_1^2$\")\n",
      "plot(x,psi_2,label=\"$\\psi_2^2$\")\n",
      "plot(x,psi_3,label=\"$\\psi_3^2$\")\n",
      "#plot(x,psi_4,label=\"$\\psi_4^2$\")\n",
      "plot(x,psi_0,label=\"$\\psi_0^2$\")\n",
      "xlabel(\"xvalues\")\n",
      "ylabel(\"$\\psi_n^2$\")\n",
      "legend(loc=\"lower right\")\n",
      "show()"
     ],
     "language": "python",
     "metadata": {},
     "outputs": [
      {
       "output_type": "display_data",
       "png": "[encoded data removed]"
      }
     ],
     "prompt_number": 209
    },
    {
     "cell_type": "code",
     "collapsed": false,
     "input": [],
     "language": "python",
     "metadata": {},
     "outputs": []
    },
    {
     "cell_type": "markdown",
     "metadata": {},
     "source": [
      "Problem 3 part b:\n",
      "----"
     ]
    },
    {
     "cell_type": "code",
     "collapsed": false,
     "input": [
      "x = arange(-10,10.01,.01)#setting x range\n",
      "s=np.zeros(2001)\n",
      "e=0\n",
      "for i in x:#creating an array of values to plot \n",
      "    s[e]=(1./((2**30)*factorial(30)*(pi)**.5)**.5)*exp(-((i**2)/2.))*H(30,i)\n",
      "    e+=1\n",
      "scatter(x,s,s=5,color=\"green\",label=\"$\\psi_{30}$\")#ploting scater plot of data\n",
      "xlabel(\"xvalues\")\n",
      "ylabel(\"$\\psi_n^2$\")\n",
      "legend(loc=\"lower right\")\n",
      "show()"
     ],
     "language": "python",
     "metadata": {},
     "outputs": [
      {
       "output_type": "display_data",
       "png": "[encoded data removed]"
      }
     ],
     "prompt_number": 221
    },
    {
     "cell_type": "code",
     "collapsed": false,
     "input": [
      "x = arange(-10,10.01,.1)#setting x range\n",
      "s=np.zeros(201)\n",
      "e=0\n",
      "for i in x:#creating an array of values to plot \n",
      "    s[e]=(1/((2**30)*factorial(30)*(pi)**.5)**.5)*exp(-((i**2)/2.))*H(30,i)\n",
      "    e+=1\n",
      "scatter(x,s,s=5,color=\"green\",label=\"$\\psi_{30}$\")#ploting scater plot of data\n",
      "xlabel(\"xvalues\")\n",
      "ylabel(\"$\\psi_n^2$\")\n",
      "legend(loc=\"lower right\")\n",
      "show()"
     ],
     "language": "python",
     "metadata": {},
     "outputs": [
      {
       "output_type": "display_data",
       "png": "[encoded data removed]"
      }
     ],
     "prompt_number": 222
    },
    {
     "cell_type": "code",
     "collapsed": false,
     "input": [
      "x = arange(-10,10.01,.1)#setting x range\n",
      "s=np.zeros(201)\n",
      "e=0\n",
      "for i in x:#creating an array of values to plot \n",
      "    s[e]=(1/((2**30)*factorial(30)*(pi)**.5)**.5)*exp(-((i**2)/2.))*H(30,i)\n",
      "    e+=1\n",
      "scatter(x,s,s=5,color=\"green\",label=\"$\\psi_{30}$\")#ploting scater plot of data\n",
      "xlabel(\"xvalues\")\n",
      "ylabel(\"$\\psi_n^2$\")\n",
      "legend(loc=\"lower right\")\n",
      "show()"
     ],
     "language": "python",
     "metadata": {},
     "outputs": [
      {
       "output_type": "display_data",
       "png": "[encoded data removed]"
      }
     ],
     "prompt_number": 225
    },
    {
     "cell_type": "markdown",
     "metadata": {},
     "source": [
      "Both plots above are cotect the bottom one just uses fewer point"
     ]
    },
    {
     "cell_type": "markdown",
     "metadata": {},
     "source": [
      "Problem 3 part c\n",
      "--"
     ]
    },
    {
     "cell_type": "code",
     "collapsed": false,
     "input": [
      "#finding expection value of x^2\n",
      "#psi_5=lambda x: (1/((2**1)*factorial(5)*(pi)**.5)**.5)*exp(-((x**2)/2.))*H(5,x)\n",
      "psi_5_2=lambda x: (x**2)*(((1./((2.**5)*factorial(5)*(pi)**.5)**.5)*exp(-((x**2)/2.))*H(5,x))**2)\n",
      "a=-120.\n",
      "b=120.\n",
      "import scipy.integrate as integrate\n",
      "import scipy as scipy\n",
      "from scipy.special import jv\n",
      "result = integrate.quad(psi_5_2,a,b)\n",
      "print result\n",
      "print result[0]**.5"
     ],
     "language": "python",
     "metadata": {},
     "outputs": [
      {
       "output_type": "stream",
       "stream": "stdout",
       "text": [
        "(8.8, 7.663873906903127e-08)\n",
        "2.96647939484\n"
       ]
      }
     ],
     "prompt_number": 281
    },
    {
     "cell_type": "markdown",
     "metadata": {},
     "source": [
      "for my  root mean square of x I get 2.96647 which is in range of 2.3"
     ]
    },
    {
     "cell_type": "code",
     "collapsed": false,
     "input": [],
     "language": "python",
     "metadata": {},
     "outputs": []
    },
    {
     "cell_type": "code",
     "collapsed": false,
     "input": [],
     "language": "python",
     "metadata": {},
     "outputs": []
    },
    {
     "cell_type": "code",
     "collapsed": false,
     "input": [],
     "language": "python",
     "metadata": {},
     "outputs": []
    },
    {
     "cell_type": "markdown",
     "metadata": {},
     "source": [
      "Problem 4\n",
      "-----"
     ]
    },
    {
     "cell_type": "markdown",
     "metadata": {},
     "source": [
      "Problem 4 part a\n",
      "---"
     ]
    },
    {
     "cell_type": "markdown",
     "metadata": {},
     "source": [
      "using Monte Carlo integration estimate the integral of $f(x)=4\\sqrt{1-x^2}$$\\   $ for the interval 0 to 1"
     ]
    },
    {
     "cell_type": "code",
     "collapsed": false,
     "input": [
      "four_a=lambda x: 4*((1-x**2)**.5) "
     ],
     "language": "python",
     "metadata": {},
     "outputs": [],
     "prompt_number": 12
    },
    {
     "cell_type": "code",
     "collapsed": false,
     "input": [
      "x=arange(0.,1.,0.001)\n",
      "xmin =0\n",
      "xmax=1\n",
      "subx =x[logical_and((x>xmin),(x<xmax))]\n",
      "ymax = max(four_a(subx))*1.05\n",
      "ymin= 0\n",
      "N=100000\n",
      "samples_x = xmin +(xmax-xmin)*random_sample(N);\n",
      "samples_y = ymin +(ymax-ymin)*random_sample(N);\n",
      "newmask = (samples_y<four_a(samples_x))\n",
      "sum(newmask)\n",
      "I = (xmax-xmin)*(ymax-ymin)*sum(newmask)/newmask.size\n",
      "print I"
     ],
     "language": "python",
     "metadata": {},
     "outputs": [
      {
       "output_type": "stream",
       "stream": "stdout",
       "text": [
        "3.13395443302\n"
       ]
      }
     ],
     "prompt_number": 18
    },
    {
     "cell_type": "markdown",
     "metadata": {},
     "source": [
      "Problem 4 part b\n",
      "--"
     ]
    },
    {
     "cell_type": "code",
     "collapsed": false,
     "input": [
      "print 'The difrence between the analytical anwser(pi) and my answer is '+str(pi-I)"
     ],
     "language": "python",
     "metadata": {},
     "outputs": [
      {
       "output_type": "stream",
       "stream": "stdout",
       "text": [
        "The difrence between the analytical anwser(pi) and my answer is 0.00763822056818\n"
       ]
      }
     ],
     "prompt_number": 26
    },
    {
     "cell_type": "markdown",
     "metadata": {},
     "source": [
      "Problem 4 part c\n",
      "---"
     ]
    },
    {
     "cell_type": "code",
     "collapsed": false,
     "input": [
      "error = []\n",
      "sileses=[]\n",
      "for i in range(1,1000000,1000):\n",
      "    N=i\n",
      "    sileses.append(N)\n",
      "    x=arange(0.,1.,0.001)\n",
      "    xmin =0\n",
      "    xmax=1\n",
      "    subx =x[logical_and((x>xmin),(x<xmax))]\n",
      "    ymax = max(four_a(subx))*1.05\n",
      "    ymin= 0\n",
      "    samples_x = xmin +(xmax-xmin)*random_sample(N);\n",
      "    samples_y = ymin +(ymax-ymin)*random_sample(N);\n",
      "    newmask = (samples_y<four_a(samples_x))\n",
      "    sum(newmask)\n",
      "    I = (xmax-xmin)*(ymax-ymin)*sum(newmask)/newmask.size\n",
      "    err = abs(100*(I-pi))/pi\n",
      "    error.append(err)\n",
      "    \n",
      "    "
     ],
     "language": "python",
     "metadata": {},
     "outputs": [],
     "prompt_number": 47
    },
    {
     "cell_type": "code",
     "collapsed": false,
     "input": [
      "loglog(sileses,error,label=\"error\")\n",
      "ylabel(\"error\")\n",
      "xlabel(\"slices\")\n",
      "legend(loc=\"lower left\")\n",
      "show()"
     ],
     "language": "python",
     "metadata": {},
     "outputs": [
      {
       "output_type": "display_data",
       "png": "[encoded data removed]"
      }
     ],
     "prompt_number": 103
    },
    {
     "cell_type": "markdown",
     "metadata": {},
     "source": [
      "The function dependence N > $10^4$ is very small it fluctuates between an error of$10^{-2}$ to an error of $10^{-3}$"
     ]
    },
    {
     "cell_type": "markdown",
     "metadata": {},
     "source": [
      "Probel 4 part d\n",
      "----"
     ]
    },
    {
     "cell_type": "code",
     "collapsed": false,
     "input": [
      "f = lambda x: 4*((1-x**2)**.5) \n",
      "xmin =0\n",
      "xmax=1\n",
      "\n",
      "#find the maxium value of f within the boundary set by  ymax\n",
      "subx =x[logical_and((x>xmin),(x<xmax))]\n",
      "ymax = max(f(subx))*1.05\n",
      "ymin= 0.\n",
      "N=1E5\n",
      "samples_x = xmin +(xmax-xmin)*random_sample(N);\n",
      "value = 0\n",
      "for i in samples_x:\n",
      "    value+=f(i)\n",
      "IN=(xmax-xmin)*(1/N)*(value)\n",
      "print IN"
     ],
     "language": "python",
     "metadata": {},
     "outputs": [
      {
       "output_type": "stream",
       "stream": "stdout",
       "text": [
        "3.14118732992\n"
       ]
      }
     ],
     "prompt_number": 52
    },
    {
     "cell_type": "markdown",
     "metadata": {},
     "source": [
      "$10^5$ slices are needed to get the error to two sig figs"
     ]
    },
    {
     "cell_type": "code",
     "collapsed": false,
     "input": [],
     "language": "python",
     "metadata": {},
     "outputs": []
    },
    {
     "cell_type": "code",
     "collapsed": false,
     "input": [],
     "language": "python",
     "metadata": {},
     "outputs": []
    },
    {
     "cell_type": "markdown",
     "metadata": {},
     "source": [
      "Problem 5\n",
      "==="
     ]
    },
    {
     "cell_type": "markdown",
     "metadata": {},
     "source": [
      "Problem 5 part a\n",
      "--"
     ]
    },
    {
     "cell_type": "markdown",
     "metadata": {},
     "source": [
      "$M =\\int\\rho dV$"
     ]
    },
    {
     "cell_type": "markdown",
     "metadata": {},
     "source": [
      "$r_{cm}=\\int r\\rho dV $"
     ]
    },
    {
     "cell_type": "markdown",
     "metadata": {},
     "source": [
      "$I_{cm}=\\int(r-r_{cm})^2\\rho dV$"
     ]
    },
    {
     "cell_type": "markdown",
     "metadata": {},
     "source": [
      "Mass"
     ]
    },
    {
     "cell_type": "code",
     "collapsed": false,
     "input": [
      "l=.2\n",
      "w=.2\n",
      "h=1\n",
      "rho = lambda y,x,z: 100*((y+0.1)+z**2)"
     ],
     "language": "python",
     "metadata": {},
     "outputs": [],
     "prompt_number": 184
    },
    {
     "cell_type": "code",
     "collapsed": false,
     "input": [
      "import scipy.integrate as integrate\n",
      "import scipy as scipy\n",
      "from scipy.special import jv"
     ],
     "language": "python",
     "metadata": {},
     "outputs": [],
     "prompt_number": 185
    },
    {
     "cell_type": "code",
     "collapsed": false,
     "input": [
      "M=integrate.tplquad(rho,-.5,.5,lambda x: -.1, lambda x: .1, lambda x,y: -.1, lambda x,y: .1)\n",
      "print M\n"
     ],
     "language": "python",
     "metadata": {},
     "outputs": [
      {
       "output_type": "stream",
       "stream": "stdout",
       "text": [
        "(0.7333333333333334, 8.141635513917816e-15)\n"
       ]
      }
     ],
     "prompt_number": 186
    },
    {
     "cell_type": "markdown",
     "metadata": {},
     "source": [
      "This awncer was checked with wolfram alpha which gave the sam mass M= .7333333...kg"
     ]
    },
    {
     "cell_type": "markdown",
     "metadata": {},
     "source": [
      "Center of Mass"
     ]
    },
    {
     "cell_type": "code",
     "collapsed": false,
     "input": [
      "why =lambda y,x,z : y*(100*((y+0.1)+z**2))\n",
      "y_centermass=integrate.tplquad(why,-.5,.5,lambda x: -.1, lambda x: .1, lambda x,y: -.1, lambda x,y: .1)\n",
      "print y_centermass\n"
     ],
     "language": "python",
     "metadata": {},
     "outputs": [
      {
       "output_type": "stream",
       "stream": "stdout",
       "text": [
        "(0.013333333333333336, 1.4802973661668756e-16)\n"
       ]
      }
     ],
     "prompt_number": 190
    },
    {
     "cell_type": "code",
     "collapsed": false,
     "input": [
      "zeda =lambda y,x,z : z*(100*((y+0.1)+z**2))\n",
      "z_centermass=integrate.tplquad(zeda,-.5,.5,lambda x: -.1, lambda x: .1, lambda x,y: -.1, lambda x,y: .1)\n",
      "print z_centermass\n"
     ],
     "language": "python",
     "metadata": {},
     "outputs": [
      {
       "output_type": "stream",
       "stream": "stdout",
       "text": [
        "(0.0, 2.4938861181329006e-15)\n"
       ]
      }
     ],
     "prompt_number": 191
    },
    {
     "cell_type": "code",
     "collapsed": false,
     "input": [
      "box =lambda y,x,z : x*(100*((y+0.1)+z**2))\n",
      "x_centermass=integrate.tplquad(box,-.5,.5,lambda x: -.1, lambda x: .1, lambda x,y: -.1, lambda x,y: .1)\n",
      "print x_centermass"
     ],
     "language": "python",
     "metadata": {},
     "outputs": [
      {
       "output_type": "stream",
       "stream": "stdout",
       "text": [
        "(0.0, 0.0)\n"
       ]
      }
     ],
     "prompt_number": 192
    },
    {
     "cell_type": "markdown",
     "metadata": {},
     "source": [
      "The center of mass is (0,.01333333333,0)"
     ]
    },
    {
     "cell_type": "markdown",
     "metadata": {},
     "source": [
      "Moment of Inertia"
     ]
    },
    {
     "cell_type": "code",
     "collapsed": false,
     "input": [
      "I_z =lambda y,x,z : (((x**2+y**2)**.5-.013333)**2)*(100*((y+0.1)+z**2))\n",
      "Iz=integrate.tplquad(I_z,-.5,.5,lambda x: -.1, lambda x: .1, lambda x,y: -.1, lambda x,y: .1)\n",
      "print Iz"
     ],
     "language": "python",
     "metadata": {},
     "outputs": [
      {
       "output_type": "stream",
       "stream": "stdout",
       "text": [
        "(0.0035229074159922203, 3.9112129268572773e-17)\n"
       ]
      }
     ],
     "prompt_number": 229
    },
    {
     "cell_type": "code",
     "collapsed": false,
     "input": [
      "I_x =lambda y,x,z : ((((z**2+y**2)**.5)-.01333)**2)*(100*((y+0.1)+z**2))\n",
      "Ix=integrate.tplquad(I_x,-.5,.5,lambda x: -.1, lambda x: .1, lambda x,y: -.1, lambda x,y: .1)\n",
      "print Ix"
     ],
     "language": "python",
     "metadata": {},
     "outputs": [
      {
       "output_type": "stream",
       "stream": "stdout",
       "text": [
        "(0.07975477715355807, 2.0587675824659986e-09)\n"
       ]
      }
     ],
     "prompt_number": 261
    },
    {
     "cell_type": "code",
     "collapsed": false,
     "input": [
      "I_y =lambda y,x,z : (x**2+z**2)**.5*(100*((y+0.1)+z**2))\n",
      "Iy=integrate.tplquad(I_y,-.5,.5,lambda x: -.1, lambda x: .1, lambda x,y: -.1, lambda x,y: .1)\n",
      "print Iy"
     ],
     "language": "python",
     "metadata": {},
     "outputs": [
      {
       "output_type": "stream",
       "stream": "stdout",
       "text": [
        "(0.23080666983670078, 4.717654857077933e-09)\n"
       ]
      }
     ],
     "prompt_number": 269
    },
    {
     "cell_type": "markdown",
     "metadata": {},
     "source": [
      "$I_x$=0.0035229074159922203\n",
      "\n",
      "$I_y$=0.07975477715355807\n",
      "\n",
      "$I_z$= 0.23080666983670078"
     ]
    },
    {
     "cell_type": "markdown",
     "metadata": {},
     "source": [
      "Problem 5 Part b\n",
      "--"
     ]
    },
    {
     "cell_type": "markdown",
     "metadata": {},
     "source": [
      "Testing algorithem with dencity rho = 1"
     ]
    },
    {
     "cell_type": "code",
     "collapsed": false,
     "input": [
      "l=.2\n",
      "w=.2\n",
      "h=1\n",
      "rho = lambda y,x,z: 5"
     ],
     "language": "python",
     "metadata": {},
     "outputs": [],
     "prompt_number": 249
    },
    {
     "cell_type": "markdown",
     "metadata": {},
     "source": [
      "Has an anylitical volume of .04$m^3$\n",
      "has an anylitical mass of .2kg"
     ]
    },
    {
     "cell_type": "code",
     "collapsed": false,
     "input": [
      "M=integrate.tplquad(rho,-.5,.5,lambda x: -.1, lambda x: .1, lambda x,y: -.1, lambda x,y: .1)\n",
      "print M\n"
     ],
     "language": "python",
     "metadata": {},
     "outputs": [
      {
       "output_type": "stream",
       "stream": "stdout",
       "text": [
        "(0.20000000000000004, 2.2204460492503135e-15)\n"
       ]
      }
     ],
     "prompt_number": 251
    },
    {
     "cell_type": "markdown",
     "metadata": {},
     "source": [
      "Check method seams to be corect as returns the corect mass"
     ]
    },
    {
     "cell_type": "markdown",
     "metadata": {},
     "source": [
      "With constant dencity center of mass will me (0,0,0)"
     ]
    },
    {
     "cell_type": "code",
     "collapsed": false,
     "input": [
      "why =lambda y,x,z : y\n",
      "y_centermass=integrate.tplquad(why,-.5,.5,lambda x: -.1, lambda x: .1, lambda x,y: -.1, lambda x,y: .1)\n",
      "print y_centermass"
     ],
     "language": "python",
     "metadata": {},
     "outputs": [
      {
       "output_type": "stream",
       "stream": "stdout",
       "text": [
        "(0.0, 0.0)\n"
       ]
      }
     ],
     "prompt_number": 252
    },
    {
     "cell_type": "code",
     "collapsed": false,
     "input": [
      "zeda =lambda y,x,z : z*(100*((y+0.1)+z**2))\n",
      "z_centermass=integrate.tplquad(zeda,-.5,.5,lambda x: -.1, lambda x: .1, lambda x,y: -.1, lambda x,y: .1)\n",
      "print z_centermass\n"
     ],
     "language": "python",
     "metadata": {},
     "outputs": [
      {
       "output_type": "stream",
       "stream": "stdout",
       "text": [
        "(0.0, 2.4938861181329006e-15)\n"
       ]
      }
     ],
     "prompt_number": 254
    },
    {
     "cell_type": "code",
     "collapsed": false,
     "input": [
      "box =lambda y,x,z : x*(100*((y+0.1)+z**2))\n",
      "x_centermass=integrate.tplquad(box,-.5,.5,lambda x: -.1, lambda x: .1, lambda x,y: -.1, lambda x,y: .1)\n",
      "print x_centermass"
     ],
     "language": "python",
     "metadata": {},
     "outputs": [
      {
       "output_type": "stream",
       "stream": "stdout",
       "text": [
        "(0.0, 0.0)\n"
       ]
      }
     ],
     "prompt_number": 255
    },
    {
     "cell_type": "markdown",
     "metadata": {},
     "source": [
      "The method report the corect center of mass"
     ]
    },
    {
     "cell_type": "markdown",
     "metadata": {},
     "source": [
      "has anylitic Iz="
     ]
    },
    {
     "cell_type": "code",
     "collapsed": false,
     "input": [
      "I_z =lambda y,x,z : (((x**2+y**2)**.5)**2)\n",
      "Iz=integrate.tplquad(I_z,-.5,.5,lambda x: -.1, lambda x: .1, lambda x,y: -.1, lambda x,y: .1)\n",
      "print Iz"
     ],
     "language": "python",
     "metadata": {},
     "outputs": [
      {
       "output_type": "stream",
       "stream": "stdout",
       "text": [
        "(0.0002666666666666668, 2.960594732333752e-18)\n"
       ]
      }
     ],
     "prompt_number": 258
    },
    {
     "cell_type": "code",
     "collapsed": false,
     "input": [
      "I_x =lambda y,x,z : ((((z**2+y**2)**.5))**2)\n",
      "Ix=integrate.tplquad(I_x,-.5,.5,lambda x: -.1, lambda x: .1, lambda x,y: -.1, lambda x,y: .1)\n",
      "print Ix"
     ],
     "language": "python",
     "metadata": {},
     "outputs": [
      {
       "output_type": "stream",
       "stream": "stdout",
       "text": [
        "(0.003466666666666668, 3.8487731520338774e-17)\n"
       ]
      }
     ],
     "prompt_number": 262
    },
    {
     "cell_type": "code",
     "collapsed": false,
     "input": [
      "I_y =lambda y,x,z : (x**2+z**2)**.5\n",
      "Iy=integrate.tplquad(I_y,-.5,.5,lambda x: -.1, lambda x: .1, lambda x,y: -.1, lambda x,y: .1)\n",
      "print Iy"
     ],
     "language": "python",
     "metadata": {},
     "outputs": [
      {
       "output_type": "stream",
       "stream": "stdout",
       "text": [
        "(0.01041851963596089, 5.413375717572631e-09)\n"
       ]
      }
     ],
     "prompt_number": 263
    },
    {
     "cell_type": "markdown",
     "metadata": {},
     "source": [
      "The method returns the corect moment of inertias"
     ]
    },
    {
     "cell_type": "markdown",
     "metadata": {},
     "source": [
      "Problem 5 part c\n",
      "---"
     ]
    },
    {
     "cell_type": "markdown",
     "metadata": {},
     "source": [
      "ancwer needs to have 2 sig figs because length with and height all have 2 sig figs"
     ]
    },
    {
     "cell_type": "markdown",
     "metadata": {},
     "source": [
      "center of mass M= .73kg"
     ]
    },
    {
     "cell_type": "markdown",
     "metadata": {},
     "source": [
      "The center of mass is (0.00,.013,0.00)"
     ]
    },
    {
     "cell_type": "markdown",
     "metadata": {},
     "source": [
      "$I_x$=0.0035\n",
      "\n",
      "$I_y$=0.080\n",
      "\n",
      "$I_z$= 0.23"
     ]
    },
    {
     "cell_type": "code",
     "collapsed": false,
     "input": [],
     "language": "python",
     "metadata": {},
     "outputs": []
    }
   ],
   "metadata": {}
  }
 ]
}