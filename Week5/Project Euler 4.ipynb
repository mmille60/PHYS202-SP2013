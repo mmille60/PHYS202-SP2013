{
 "metadata": {
  "name": "Project Euler 4"
 },
 "nbformat": 3,
 "nbformat_minor": 0,
 "worksheets": [
  {
   "cells": [
    {
     "cell_type": "markdown",
     "metadata": {},
     "source": [
      "Largest palindrome product\n",
      "====\n",
      "Project 4\n",
      "----"
     ]
    },
    {
     "cell_type": "markdown",
     "metadata": {},
     "source": [
      "A palindromic number reads the same both ways. The largest palindrome made from the product of two 2-digit numbers is 9009 = 91 X 99.\n",
      "\n",
      "Find the largest palindrome made from the product of two 3-digit numbers."
     ]
    },
    {
     "cell_type": "markdown",
     "metadata": {},
     "source": [
      "Test case\n",
      "--"
     ]
    },
    {
     "cell_type": "code",
     "collapsed": false,
     "input": [
      "paladrome = np.ones(1000)#intialize an array of all ones\n",
      "count = 1#start the counter\n",
      "for i in range(0,100):#for loop of all 1/2 digit numbers could make from 10-100 but I wanted all paladromes \n",
      "    for t in range(0,100):\n",
      "        product=t*i#multiply the numbers\n",
      "        string =str(product)#conver number to string so it can be indexed\n",
      "        if string==string[::-1]:#conpare number to intself backward to see if paladrome\n",
      "            paladrome[count]= string#adds the number to the array\n",
      "            count+=1#increase the index\n",
      "        else:#does nothing if not paladrome\n",
      "            ()\n",
      "print max(paladrome)#finds the max of the paladrome which will be the largest product of 2 digit numbers\n",
      "\n"
     ],
     "language": "python",
     "metadata": {},
     "outputs": [
      {
       "output_type": "stream",
       "stream": "stdout",
       "text": [
        "9009.0\n"
       ]
      }
     ],
     "prompt_number": 30
    },
    {
     "cell_type": "markdown",
     "metadata": {},
     "source": [
      "9009 is the corect ancer for the largest paladrome from the product of two 2-digit numbers"
     ]
    },
    {
     "cell_type": "markdown",
     "metadata": {},
     "source": [
      "Testing"
     ]
    },
    {
     "cell_type": "code",
     "collapsed": false,
     "input": [
      "#testing to see hhow to read number backwords not part of asignment\n",
      "s = str(999)\n",
      "if s==s[::-1]:\n",
      "    print True\n",
      "else:\n",
      "    ()\n"
     ],
     "language": "python",
     "metadata": {},
     "outputs": []
    },
    {
     "cell_type": "markdown",
     "metadata": {},
     "source": [
      "PROBLEM 4"
     ]
    },
    {
     "cell_type": "code",
     "collapsed": false,
     "input": [
      "paladrome = np.ones(100000)#intialize an array of all ones\n",
      "count = 1#start the counter\n",
      "for i in range(0,1000):#for loop of all 1/2/3 digit numbers could make from 100-1000 but I wanted all paladromes \n",
      "    for t in range(0,1000):\n",
      "        product=t*i#multiply the numbers\n",
      "        string =str(product)#convert number to string so it can be indexed\n",
      "        if string==string[::-1]:#conpare number to intself backward to see if paladrome\n",
      "            paladrome[count]= string#adds the number to the array\n",
      "            count+=1#increase the index\n",
      "        else:#does nothing if not paladrome\n",
      "            ()\n",
      "print max(paladrome)#finds the max of the paladrome which will be the largest product of 2 digit numbers\n"
     ],
     "language": "python",
     "metadata": {},
     "outputs": [
      {
       "output_type": "stream",
       "stream": "stdout",
       "text": [
        "906609.0\n"
       ]
      }
     ],
     "prompt_number": 31
    },
    {
     "cell_type": "markdown",
     "metadata": {},
     "source": [
      "The largest paladrom form the product of two three diggit numbers is 906609\n",
      "----\n",
      "This answer was inputed in project euler 4 and was ditermined to be corect"
     ]
    },
    {
     "cell_type": "code",
     "collapsed": false,
     "input": [],
     "language": "python",
     "metadata": {},
     "outputs": []
    }
   ],
   "metadata": {}
  }
 ]
}